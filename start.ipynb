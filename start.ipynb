{
 "cells": [
  {
   "cell_type": "code",
   "execution_count": 1,
   "id": "22c51f31-a792-488e-be25-90f34c9b4480",
   "metadata": {},
   "outputs": [
    {
     "name": "stdout",
     "output_type": "stream",
     "text": [
      "Untitled.ipynb\tdataset.zip  lora2.ipynb\tsd3_local    test.ipynb\n",
      "dataset\t\tlora.ipynb   lora_dataset.json\tstart.ipynb\n"
     ]
    }
   ],
   "source": [
    "!ls"
   ]
  },
  {
   "cell_type": "code",
   "execution_count": 12,
   "id": "40742a76-23b9-4101-97d1-9ca9d1519d96",
   "metadata": {},
   "outputs": [
    {
     "name": "stdout",
     "output_type": "stream",
     "text": [
      "Package                           Version        Build\n",
      "--------------------------------- -------------- -----\n",
      "accelerate                        1.8.1\n",
      "aiohappyeyeballs                  2.6.1\n",
      "aiohttp                           3.12.14\n",
      "aiosignal                         1.4.0\n",
      "anyio                             4.6.0\n",
      "argon2-cffi                       23.1.0\n",
      "argon2-cffi-bindings              21.2.0\n",
      "arrow                             1.3.0\n",
      "asttokens                         2.4.1\n",
      "async-lru                         2.0.4\n",
      "attrs                             24.2.0\n",
      "babel                             2.16.0\n",
      "beautifulsoup4                    4.12.3\n",
      "bleach                            6.1.0\n",
      "blinker                           1.4\n",
      "certifi                           2024.8.30\n",
      "cffi                              1.17.1\n",
      "charset-normalizer                3.3.2\n",
      "comm                              0.2.2\n",
      "cryptography                      3.4.8\n",
      "datasets                          4.0.0\n",
      "dbus-python                       1.2.18\n",
      "debugpy                           1.8.5\n",
      "decorator                         5.1.1\n",
      "defusedxml                        0.7.1\n",
      "diffusers                         0.35.0.dev0\n",
      "dill                              0.3.8\n",
      "distro                            1.7.0\n",
      "entrypoints                       0.4\n",
      "executing                         2.1.0\n",
      "fastjsonschema                    2.20.0\n",
      "filelock                          3.13.1\n",
      "fqdn                              1.5.1\n",
      "frozenlist                        1.7.0\n",
      "fsspec                            2024.2.0\n",
      "h11                               0.14.0\n",
      "hf-xet                            1.1.5\n",
      "httpcore                          1.0.5\n",
      "httplib2                          0.20.2\n",
      "httpx                             0.27.2\n",
      "huggingface-hub                   0.33.4\n",
      "idna                              3.10\n",
      "importlib-metadata                4.6.4\n",
      "ipykernel                         6.29.5\n",
      "ipython                           8.27.0\n",
      "ipython-genutils                  0.2.0\n",
      "ipywidgets                        8.1.5\n",
      "isoduration                       20.11.0\n",
      "jedi                              0.19.1\n",
      "jeepney                           0.7.1\n",
      "Jinja2                            3.1.3\n",
      "json5                             0.9.25\n",
      "jsonpointer                       3.0.0\n",
      "jsonschema                        4.23.0\n",
      "jsonschema-specifications         2023.12.1\n",
      "jupyter-archive                   3.4.0\n",
      "jupyter_client                    7.4.9\n",
      "jupyter_contrib_core              0.4.2\n",
      "jupyter_contrib_nbextensions      0.7.0\n",
      "jupyter_core                      5.7.2\n",
      "jupyter-events                    0.10.0\n",
      "jupyter-highlight-selected-word   0.2.0\n",
      "jupyter-lsp                       2.2.5\n",
      "jupyter_nbextensions_configurator 0.6.4\n",
      "jupyter_server                    2.14.2\n",
      "jupyter_server_terminals          0.5.3\n",
      "jupyterlab                        4.2.5\n",
      "jupyterlab_pygments               0.3.0\n",
      "jupyterlab_server                 2.27.3\n",
      "jupyterlab_widgets                3.0.13\n",
      "keyring                           23.5.0\n",
      "launchpadlib                      1.10.16\n",
      "lazr.restfulclient                0.14.4\n",
      "lazr.uri                          1.0.6\n",
      "lxml                              5.3.0\n",
      "MarkupSafe                        2.1.5\n",
      "matplotlib-inline                 0.1.7\n",
      "mistune                           3.0.2\n",
      "more-itertools                    8.10.0\n",
      "mpmath                            1.3.0\n",
      "multidict                         6.6.3\n",
      "multiprocess                      0.70.16\n",
      "nbclassic                         1.1.0\n",
      "nbclient                          0.10.0\n",
      "nbconvert                         7.16.4\n",
      "nbformat                          5.10.4\n",
      "nest-asyncio                      1.6.0\n",
      "networkx                          3.2.1\n",
      "notebook                          6.5.5\n",
      "notebook_shim                     0.2.4\n",
      "numpy                             2.2.6\n",
      "nvidia-cublas-cu12                12.4.2.65\n",
      "nvidia-cuda-cupti-cu12            12.4.99\n",
      "nvidia-cuda-nvrtc-cu12            12.4.99\n",
      "nvidia-cuda-runtime-cu12          12.4.99\n",
      "nvidia-cudnn-cu12                 9.1.0.70\n",
      "nvidia-cufft-cu12                 11.2.0.44\n",
      "nvidia-curand-cu12                10.3.5.119\n",
      "nvidia-cusolver-cu12              11.6.0.99\n",
      "nvidia-cusparse-cu12              12.3.0.142\n",
      "nvidia-nccl-cu12                  2.20.5\n",
      "nvidia-nvjitlink-cu12             12.4.99\n",
      "nvidia-nvtx-cu12                  12.4.99\n",
      "oauthlib                          3.2.0\n",
      "opencv-python                     4.12.0.88\n",
      "overrides                         7.7.0\n",
      "packaging                         24.1\n",
      "pandas                            2.3.1\n",
      "pandocfilters                     1.5.1\n",
      "parso                             0.8.4\n",
      "peft                              0.16.0\n",
      "pexpect                           4.9.0\n",
      "pillow                            10.2.0\n",
      "pip                               25.1.1\n",
      "platformdirs                      4.3.6\n",
      "prometheus_client                 0.21.0\n",
      "prompt_toolkit                    3.0.47\n",
      "propcache                         0.3.2\n",
      "protobuf                          6.31.1\n",
      "psutil                            6.0.0\n",
      "ptyprocess                        0.7.0\n",
      "pure_eval                         0.2.3\n",
      "pyarrow                           20.0.0\n",
      "pycparser                         2.22\n",
      "Pygments                          2.18.0\n",
      "PyGObject                         3.42.1\n",
      "PyJWT                             2.3.0\n",
      "pyparsing                         2.4.7\n",
      "python-apt                        2.4.0+ubuntu4\n",
      "python-dateutil                   2.9.0.post0\n",
      "python-json-logger                2.0.7\n",
      "pytz                              2025.2\n",
      "PyYAML                            6.0.2\n",
      "pyzmq                             24.0.1\n",
      "referencing                       0.35.1\n",
      "regex                             2024.11.6\n",
      "requests                          2.32.3\n",
      "rfc3339-validator                 0.1.4\n",
      "rfc3986-validator                 0.1.1\n",
      "rpds-py                           0.20.0\n",
      "safetensors                       0.5.3\n",
      "SecretStorage                     3.3.1\n",
      "Send2Trash                        1.8.3\n",
      "sentencepiece                     0.2.0\n",
      "setuptools                        75.1.0\n",
      "six                               1.16.0\n",
      "sniffio                           1.3.1\n",
      "soupsieve                         2.6\n",
      "stack-data                        0.6.3\n",
      "sympy                             1.12\n",
      "terminado                         0.18.1\n",
      "tinycss2                          1.3.0\n",
      "tokenizers                        0.21.2\n",
      "torch                             2.4.1+cu124\n",
      "torchaudio                        2.4.1+cu124\n",
      "torchvision                       0.19.1+cu124\n",
      "tornado                           6.4.1\n",
      "tqdm                              4.67.1\n",
      "traitlets                         5.14.3\n",
      "transformers                      4.53.2\n",
      "triton                            3.0.0          1\n",
      "types-python-dateutil             2.9.0.20240906\n",
      "typing_extensions                 4.9.0\n",
      "tzdata                            2025.2\n",
      "uri-template                      1.3.0\n",
      "urllib3                           2.2.3\n",
      "wadllib                           1.3.6\n",
      "wcwidth                           0.2.13\n",
      "webcolors                         24.8.0\n",
      "webencodings                      0.5.1\n",
      "websocket-client                  1.8.0\n",
      "wheel                             0.44.0\n",
      "widgetsnbextension                4.0.13\n",
      "xxhash                            3.5.0\n",
      "yarl                              1.20.1\n",
      "zipp                              1.0.0\n"
     ]
    }
   ],
   "source": [
    "!pip list"
   ]
  },
  {
   "cell_type": "code",
   "execution_count": 2,
   "id": "8ebd16e8-e75e-48ef-8d30-fd5178fb418e",
   "metadata": {},
   "outputs": [
    {
     "name": "stdout",
     "output_type": "stream",
     "text": [
      "Get:1 http://archive.ubuntu.com/ubuntu jammy InRelease [270 kB]\n",
      "Get:2 http://security.ubuntu.com/ubuntu jammy-security InRelease [129 kB]\n",
      "Get:3 https://developer.download.nvidia.com/compute/cuda/repos/ubuntu2204/x86_64  InRelease [1581 B]\n",
      "Get:4 http://archive.ubuntu.com/ubuntu jammy-updates InRelease [128 kB]        \n",
      "Get:5 http://archive.ubuntu.com/ubuntu jammy-backports InRelease [127 kB]      \n",
      "Get:6 http://security.ubuntu.com/ubuntu jammy-security/universe amd64 Packages [1266 kB]\n",
      "Get:7 https://developer.download.nvidia.com/compute/cuda/repos/ubuntu2204/x86_64  Packages [1806 kB]\n",
      "Get:8 http://security.ubuntu.com/ubuntu jammy-security/multiverse amd64 Packages [48.5 kB]\n",
      "Get:9 http://security.ubuntu.com/ubuntu jammy-security/main amd64 Packages [3103 kB]\n",
      "Get:10 http://security.ubuntu.com/ubuntu jammy-security/restricted amd64 Packages [4795 kB]\n",
      "Get:11 http://archive.ubuntu.com/ubuntu jammy/multiverse amd64 Packages [266 kB]\n",
      "Get:12 http://archive.ubuntu.com/ubuntu jammy/universe amd64 Packages [17.5 MB]\n",
      "Get:13 https://ppa.launchpadcontent.net/deadsnakes/ppa/ubuntu jammy InRelease [18.1 kB]\n",
      "Get:14 http://archive.ubuntu.com/ubuntu jammy/main amd64 Packages [1792 kB]    \n",
      "Get:15 http://archive.ubuntu.com/ubuntu jammy/restricted amd64 Packages [164 kB]\n",
      "Get:16 http://archive.ubuntu.com/ubuntu jammy-updates/universe amd64 Packages [1569 kB]\n",
      "Get:17 http://archive.ubuntu.com/ubuntu jammy-updates/multiverse amd64 Packages [56.4 kB]\n",
      "Get:18 http://archive.ubuntu.com/ubuntu jammy-updates/main amd64 Packages [3420 kB]\n",
      "Get:19 http://archive.ubuntu.com/ubuntu jammy-updates/restricted amd64 Packages [4963 kB]\n",
      "Get:20 http://archive.ubuntu.com/ubuntu jammy-backports/main amd64 Packages [83.2 kB]\n",
      "Get:21 http://archive.ubuntu.com/ubuntu jammy-backports/universe amd64 Packages [35.2 kB]\n",
      "Get:22 https://ppa.launchpadcontent.net/deadsnakes/ppa/ubuntu jammy/main amd64 Packages [32.9 kB]\n",
      "Fetched 41.5 MB in 1s (28.7 MB/s)                            \n",
      "Reading package lists... Done\n",
      "Reading package lists... Done\n",
      "Building dependency tree... Done\n",
      "Reading state information... Done\n",
      "The following NEW packages will be installed:\n",
      "  git-lfs\n",
      "0 upgraded, 1 newly installed, 0 to remove and 110 not upgraded.\n",
      "Need to get 3544 kB of archives.\n",
      "After this operation, 10.5 MB of additional disk space will be used.\n",
      "Get:1 http://archive.ubuntu.com/ubuntu jammy-updates/universe amd64 git-lfs amd64 3.0.2-1ubuntu0.3 [3544 kB]\n",
      "Fetched 3544 kB in 0s (18.3 MB/s)\n",
      "debconf: delaying package configuration, since apt-utils is not installed\n",
      "Selecting previously unselected package git-lfs.\n",
      "(Reading database ... 24135 files and directories currently installed.)\n",
      "Preparing to unpack .../git-lfs_3.0.2-1ubuntu0.3_amd64.deb ...\n",
      "Unpacking git-lfs (3.0.2-1ubuntu0.3) ...\n",
      "Setting up git-lfs (3.0.2-1ubuntu0.3) ...\n"
     ]
    }
   ],
   "source": [
    "!apt-get update\n",
    "!apt-get install -y git-lfs"
   ]
  },
  {
   "cell_type": "code",
   "execution_count": 3,
   "id": "a66d4a0e-d8ac-4f05-9e44-dfb7096c661e",
   "metadata": {},
   "outputs": [
    {
     "name": "stdout",
     "output_type": "stream",
     "text": [
      "Updated git hooks.\n",
      "Git LFS initialized.\n"
     ]
    }
   ],
   "source": [
    "!git lfs install"
   ]
  },
  {
   "cell_type": "code",
   "execution_count": 4,
   "id": "f6b6734b-601d-421f-a9a4-5e948602150c",
   "metadata": {},
   "outputs": [
    {
     "name": "stdout",
     "output_type": "stream",
     "text": [
      "Requirement already satisfied: pip in /usr/local/lib/python3.11/dist-packages (24.2)\n",
      "Collecting pip\n",
      "  Downloading pip-25.1.1-py3-none-any.whl.metadata (3.6 kB)\n",
      "Downloading pip-25.1.1-py3-none-any.whl (1.8 MB)\n",
      "\u001b[2K   \u001b[90m━━━━━━━━━━━━━━━━━━━━━━━━━━━━━━━━━━━━━━━━\u001b[0m \u001b[32m1.8/1.8 MB\u001b[0m \u001b[31m51.4 MB/s\u001b[0m eta \u001b[36m0:00:00\u001b[0m\n",
      "\u001b[?25hInstalling collected packages: pip\n",
      "  Attempting uninstall: pip\n",
      "    Found existing installation: pip 24.2\n",
      "    Uninstalling pip-24.2:\n",
      "      Successfully uninstalled pip-24.2\n",
      "Successfully installed pip-25.1.1\n",
      "\u001b[33mWARNING: Running pip as the 'root' user can result in broken permissions and conflicting behaviour with the system package manager, possibly rendering your system unusable.It is recommended to use a virtual environment instead: https://pip.pypa.io/warnings/venv. Use the --root-user-action option if you know what you are doing and want to suppress this warning.\u001b[0m\u001b[33m\n",
      "\u001b[0mCollecting transformers\n",
      "  Downloading transformers-4.53.2-py3-none-any.whl.metadata (40 kB)\n",
      "Collecting accelerate\n",
      "  Downloading accelerate-1.8.1-py3-none-any.whl.metadata (19 kB)\n",
      "Collecting peft\n",
      "  Downloading peft-0.16.0-py3-none-any.whl.metadata (14 kB)\n",
      "Collecting safetensors\n",
      "  Downloading safetensors-0.5.3-cp38-abi3-manylinux_2_17_x86_64.manylinux2014_x86_64.whl.metadata (3.8 kB)\n",
      "Collecting huggingface-hub\n",
      "  Downloading huggingface_hub-0.33.4-py3-none-any.whl.metadata (14 kB)\n",
      "Collecting datasets\n",
      "  Downloading datasets-4.0.0-py3-none-any.whl.metadata (19 kB)\n",
      "Requirement already satisfied: filelock in /usr/local/lib/python3.11/dist-packages (from transformers) (3.13.1)\n",
      "Requirement already satisfied: numpy>=1.17 in /usr/local/lib/python3.11/dist-packages (from transformers) (1.26.3)\n",
      "Requirement already satisfied: packaging>=20.0 in /usr/local/lib/python3.11/dist-packages (from transformers) (24.1)\n",
      "Requirement already satisfied: pyyaml>=5.1 in /usr/local/lib/python3.11/dist-packages (from transformers) (6.0.2)\n",
      "Collecting regex!=2019.12.17 (from transformers)\n",
      "  Downloading regex-2024.11.6-cp311-cp311-manylinux_2_17_x86_64.manylinux2014_x86_64.whl.metadata (40 kB)\n",
      "Requirement already satisfied: requests in /usr/local/lib/python3.11/dist-packages (from transformers) (2.32.3)\n",
      "Collecting tokenizers<0.22,>=0.21 (from transformers)\n",
      "  Downloading tokenizers-0.21.2-cp39-abi3-manylinux_2_17_x86_64.manylinux2014_x86_64.whl.metadata (6.8 kB)\n",
      "Collecting tqdm>=4.27 (from transformers)\n",
      "  Downloading tqdm-4.67.1-py3-none-any.whl.metadata (57 kB)\n",
      "Requirement already satisfied: fsspec>=2023.5.0 in /usr/local/lib/python3.11/dist-packages (from huggingface-hub) (2024.2.0)\n",
      "Requirement already satisfied: typing-extensions>=3.7.4.3 in /usr/local/lib/python3.11/dist-packages (from huggingface-hub) (4.9.0)\n",
      "Collecting hf-xet<2.0.0,>=1.1.2 (from huggingface-hub)\n",
      "  Downloading hf_xet-1.1.5-cp37-abi3-manylinux_2_17_x86_64.manylinux2014_x86_64.whl.metadata (879 bytes)\n",
      "Requirement already satisfied: psutil in /usr/local/lib/python3.11/dist-packages (from accelerate) (6.0.0)\n",
      "Requirement already satisfied: torch>=2.0.0 in /usr/local/lib/python3.11/dist-packages (from accelerate) (2.4.1+cu124)\n",
      "Collecting pyarrow>=15.0.0 (from datasets)\n",
      "  Downloading pyarrow-20.0.0-cp311-cp311-manylinux_2_28_x86_64.whl.metadata (3.3 kB)\n",
      "Collecting dill<0.3.9,>=0.3.0 (from datasets)\n",
      "  Downloading dill-0.3.8-py3-none-any.whl.metadata (10 kB)\n",
      "Collecting pandas (from datasets)\n",
      "  Downloading pandas-2.3.1-cp311-cp311-manylinux_2_17_x86_64.manylinux2014_x86_64.whl.metadata (91 kB)\n",
      "Collecting xxhash (from datasets)\n",
      "  Downloading xxhash-3.5.0-cp311-cp311-manylinux_2_17_x86_64.manylinux2014_x86_64.whl.metadata (12 kB)\n",
      "Collecting multiprocess<0.70.17 (from datasets)\n",
      "  Downloading multiprocess-0.70.16-py311-none-any.whl.metadata (7.2 kB)\n",
      "Collecting aiohttp!=4.0.0a0,!=4.0.0a1 (from fsspec[http]<=2025.3.0,>=2023.1.0->datasets)\n",
      "  Downloading aiohttp-3.12.14-cp311-cp311-manylinux_2_17_x86_64.manylinux2014_x86_64.whl.metadata (7.6 kB)\n",
      "Collecting aiohappyeyeballs>=2.5.0 (from aiohttp!=4.0.0a0,!=4.0.0a1->fsspec[http]<=2025.3.0,>=2023.1.0->datasets)\n",
      "  Downloading aiohappyeyeballs-2.6.1-py3-none-any.whl.metadata (5.9 kB)\n",
      "Collecting aiosignal>=1.4.0 (from aiohttp!=4.0.0a0,!=4.0.0a1->fsspec[http]<=2025.3.0,>=2023.1.0->datasets)\n",
      "  Downloading aiosignal-1.4.0-py3-none-any.whl.metadata (3.7 kB)\n",
      "Requirement already satisfied: attrs>=17.3.0 in /usr/local/lib/python3.11/dist-packages (from aiohttp!=4.0.0a0,!=4.0.0a1->fsspec[http]<=2025.3.0,>=2023.1.0->datasets) (24.2.0)\n",
      "Collecting frozenlist>=1.1.1 (from aiohttp!=4.0.0a0,!=4.0.0a1->fsspec[http]<=2025.3.0,>=2023.1.0->datasets)\n",
      "  Downloading frozenlist-1.7.0-cp311-cp311-manylinux_2_5_x86_64.manylinux1_x86_64.manylinux_2_17_x86_64.manylinux2014_x86_64.whl.metadata (18 kB)\n",
      "Collecting multidict<7.0,>=4.5 (from aiohttp!=4.0.0a0,!=4.0.0a1->fsspec[http]<=2025.3.0,>=2023.1.0->datasets)\n",
      "  Downloading multidict-6.6.3-cp311-cp311-manylinux2014_x86_64.manylinux_2_17_x86_64.manylinux_2_28_x86_64.whl.metadata (5.3 kB)\n",
      "Collecting propcache>=0.2.0 (from aiohttp!=4.0.0a0,!=4.0.0a1->fsspec[http]<=2025.3.0,>=2023.1.0->datasets)\n",
      "  Downloading propcache-0.3.2-cp311-cp311-manylinux_2_17_x86_64.manylinux2014_x86_64.whl.metadata (12 kB)\n",
      "Collecting yarl<2.0,>=1.17.0 (from aiohttp!=4.0.0a0,!=4.0.0a1->fsspec[http]<=2025.3.0,>=2023.1.0->datasets)\n",
      "  Downloading yarl-1.20.1-cp311-cp311-manylinux_2_17_x86_64.manylinux2014_x86_64.whl.metadata (73 kB)\n",
      "Requirement already satisfied: idna>=2.0 in /usr/local/lib/python3.11/dist-packages (from yarl<2.0,>=1.17.0->aiohttp!=4.0.0a0,!=4.0.0a1->fsspec[http]<=2025.3.0,>=2023.1.0->datasets) (3.10)\n",
      "Requirement already satisfied: charset-normalizer<4,>=2 in /usr/local/lib/python3.11/dist-packages (from requests->transformers) (3.3.2)\n",
      "Requirement already satisfied: urllib3<3,>=1.21.1 in /usr/local/lib/python3.11/dist-packages (from requests->transformers) (2.2.3)\n",
      "Requirement already satisfied: certifi>=2017.4.17 in /usr/local/lib/python3.11/dist-packages (from requests->transformers) (2024.8.30)\n",
      "Requirement already satisfied: sympy in /usr/local/lib/python3.11/dist-packages (from torch>=2.0.0->accelerate) (1.12)\n",
      "Requirement already satisfied: networkx in /usr/local/lib/python3.11/dist-packages (from torch>=2.0.0->accelerate) (3.2.1)\n",
      "Requirement already satisfied: jinja2 in /usr/local/lib/python3.11/dist-packages (from torch>=2.0.0->accelerate) (3.1.3)\n",
      "Requirement already satisfied: nvidia-cuda-nvrtc-cu12==12.4.99 in /usr/local/lib/python3.11/dist-packages (from torch>=2.0.0->accelerate) (12.4.99)\n",
      "Requirement already satisfied: nvidia-cuda-runtime-cu12==12.4.99 in /usr/local/lib/python3.11/dist-packages (from torch>=2.0.0->accelerate) (12.4.99)\n",
      "Requirement already satisfied: nvidia-cuda-cupti-cu12==12.4.99 in /usr/local/lib/python3.11/dist-packages (from torch>=2.0.0->accelerate) (12.4.99)\n",
      "Requirement already satisfied: nvidia-cudnn-cu12==9.1.0.70 in /usr/local/lib/python3.11/dist-packages (from torch>=2.0.0->accelerate) (9.1.0.70)\n",
      "Requirement already satisfied: nvidia-cublas-cu12==12.4.2.65 in /usr/local/lib/python3.11/dist-packages (from torch>=2.0.0->accelerate) (12.4.2.65)\n",
      "Requirement already satisfied: nvidia-cufft-cu12==11.2.0.44 in /usr/local/lib/python3.11/dist-packages (from torch>=2.0.0->accelerate) (11.2.0.44)\n",
      "Requirement already satisfied: nvidia-curand-cu12==10.3.5.119 in /usr/local/lib/python3.11/dist-packages (from torch>=2.0.0->accelerate) (10.3.5.119)\n",
      "Requirement already satisfied: nvidia-cusolver-cu12==11.6.0.99 in /usr/local/lib/python3.11/dist-packages (from torch>=2.0.0->accelerate) (11.6.0.99)\n",
      "Requirement already satisfied: nvidia-cusparse-cu12==12.3.0.142 in /usr/local/lib/python3.11/dist-packages (from torch>=2.0.0->accelerate) (12.3.0.142)\n",
      "Requirement already satisfied: nvidia-nccl-cu12==2.20.5 in /usr/local/lib/python3.11/dist-packages (from torch>=2.0.0->accelerate) (2.20.5)\n",
      "Requirement already satisfied: nvidia-nvtx-cu12==12.4.99 in /usr/local/lib/python3.11/dist-packages (from torch>=2.0.0->accelerate) (12.4.99)\n",
      "Requirement already satisfied: nvidia-nvjitlink-cu12==12.4.99 in /usr/local/lib/python3.11/dist-packages (from torch>=2.0.0->accelerate) (12.4.99)\n",
      "Requirement already satisfied: triton==3.0.0 in /usr/local/lib/python3.11/dist-packages (from torch>=2.0.0->accelerate) (3.0.0)\n",
      "Requirement already satisfied: MarkupSafe>=2.0 in /usr/local/lib/python3.11/dist-packages (from jinja2->torch>=2.0.0->accelerate) (2.1.5)\n",
      "Requirement already satisfied: python-dateutil>=2.8.2 in /usr/local/lib/python3.11/dist-packages (from pandas->datasets) (2.9.0.post0)\n",
      "Collecting pytz>=2020.1 (from pandas->datasets)\n",
      "  Downloading pytz-2025.2-py2.py3-none-any.whl.metadata (22 kB)\n",
      "Collecting tzdata>=2022.7 (from pandas->datasets)\n",
      "  Downloading tzdata-2025.2-py2.py3-none-any.whl.metadata (1.4 kB)\n",
      "Requirement already satisfied: six>=1.5 in /usr/lib/python3/dist-packages (from python-dateutil>=2.8.2->pandas->datasets) (1.16.0)\n",
      "Requirement already satisfied: mpmath>=0.19 in /usr/local/lib/python3.11/dist-packages (from sympy->torch>=2.0.0->accelerate) (1.3.0)\n",
      "Downloading transformers-4.53.2-py3-none-any.whl (10.8 MB)\n",
      "\u001b[2K   \u001b[90m━━━━━━━━━━━━━━━━━━━━━━━━━━━━━━━━━━━━━━━━\u001b[0m \u001b[32m10.8/10.8 MB\u001b[0m \u001b[31m183.0 MB/s\u001b[0m eta \u001b[36m0:00:00\u001b[0m\n",
      "\u001b[?25hDownloading huggingface_hub-0.33.4-py3-none-any.whl (515 kB)\n",
      "Downloading hf_xet-1.1.5-cp37-abi3-manylinux_2_17_x86_64.manylinux2014_x86_64.whl (3.1 MB)\n",
      "\u001b[2K   \u001b[90m━━━━━━━━━━━━━━━━━━━━━━━━━━━━━━━━━━━━━━━━\u001b[0m \u001b[32m3.1/3.1 MB\u001b[0m \u001b[31m295.2 MB/s\u001b[0m eta \u001b[36m0:00:00\u001b[0m\n",
      "\u001b[?25hDownloading tokenizers-0.21.2-cp39-abi3-manylinux_2_17_x86_64.manylinux2014_x86_64.whl (3.1 MB)\n",
      "\u001b[2K   \u001b[90m━━━━━━━━━━━━━━━━━━━━━━━━━━━━━━━━━━━━━━━━\u001b[0m \u001b[32m3.1/3.1 MB\u001b[0m \u001b[31m288.9 MB/s\u001b[0m eta \u001b[36m0:00:00\u001b[0m\n",
      "\u001b[?25hDownloading accelerate-1.8.1-py3-none-any.whl (365 kB)\n",
      "Downloading peft-0.16.0-py3-none-any.whl (472 kB)\n",
      "Downloading safetensors-0.5.3-cp38-abi3-manylinux_2_17_x86_64.manylinux2014_x86_64.whl (471 kB)\n",
      "Downloading datasets-4.0.0-py3-none-any.whl (494 kB)\n",
      "Downloading dill-0.3.8-py3-none-any.whl (116 kB)\n",
      "Downloading multiprocess-0.70.16-py311-none-any.whl (143 kB)\n",
      "Downloading aiohttp-3.12.14-cp311-cp311-manylinux_2_17_x86_64.manylinux2014_x86_64.whl (1.7 MB)\n",
      "\u001b[2K   \u001b[90m━━━━━━━━━━━━━━━━━━━━━━━━━━━━━━━━━━━━━━━━\u001b[0m \u001b[32m1.7/1.7 MB\u001b[0m \u001b[31m248.2 MB/s\u001b[0m eta \u001b[36m0:00:00\u001b[0m\n",
      "\u001b[?25hDownloading multidict-6.6.3-cp311-cp311-manylinux2014_x86_64.manylinux_2_17_x86_64.manylinux_2_28_x86_64.whl (246 kB)\n",
      "Downloading yarl-1.20.1-cp311-cp311-manylinux_2_17_x86_64.manylinux2014_x86_64.whl (348 kB)\n",
      "Downloading aiohappyeyeballs-2.6.1-py3-none-any.whl (15 kB)\n",
      "Downloading aiosignal-1.4.0-py3-none-any.whl (7.5 kB)\n",
      "Downloading frozenlist-1.7.0-cp311-cp311-manylinux_2_5_x86_64.manylinux1_x86_64.manylinux_2_17_x86_64.manylinux2014_x86_64.whl (235 kB)\n",
      "Downloading propcache-0.3.2-cp311-cp311-manylinux_2_17_x86_64.manylinux2014_x86_64.whl (213 kB)\n",
      "Downloading pyarrow-20.0.0-cp311-cp311-manylinux_2_28_x86_64.whl (42.3 MB)\n",
      "\u001b[2K   \u001b[90m━━━━━━━━━━━━━━━━━━━━━━━━━━━━━━━━━━━━━━━━\u001b[0m \u001b[32m42.3/42.3 MB\u001b[0m \u001b[31m253.9 MB/s\u001b[0m eta \u001b[36m0:00:00\u001b[0m\n",
      "\u001b[?25hDownloading regex-2024.11.6-cp311-cp311-manylinux_2_17_x86_64.manylinux2014_x86_64.whl (792 kB)\n",
      "\u001b[2K   \u001b[90m━━━━━━━━━━━━━━━━━━━━━━━━━━━━━━━━━━━━━━━\u001b[0m \u001b[32m792.7/792.7 kB\u001b[0m \u001b[31m232.7 MB/s\u001b[0m eta \u001b[36m0:00:00\u001b[0m\n",
      "\u001b[?25hDownloading tqdm-4.67.1-py3-none-any.whl (78 kB)\n",
      "Downloading pandas-2.3.1-cp311-cp311-manylinux_2_17_x86_64.manylinux2014_x86_64.whl (12.4 MB)\n",
      "\u001b[2K   \u001b[90m━━━━━━━━━━━━━━━━━━━━━━━━━━━━━━━━━━━━━━━━\u001b[0m \u001b[32m12.4/12.4 MB\u001b[0m \u001b[31m343.6 MB/s\u001b[0m eta \u001b[36m0:00:00\u001b[0m\n",
      "\u001b[?25hDownloading pytz-2025.2-py2.py3-none-any.whl (509 kB)\n",
      "Downloading tzdata-2025.2-py2.py3-none-any.whl (347 kB)\n",
      "Downloading xxhash-3.5.0-cp311-cp311-manylinux_2_17_x86_64.manylinux2014_x86_64.whl (194 kB)\n",
      "Installing collected packages: pytz, xxhash, tzdata, tqdm, safetensors, regex, pyarrow, propcache, multidict, hf-xet, frozenlist, dill, aiohappyeyeballs, yarl, pandas, multiprocess, huggingface-hub, aiosignal, tokenizers, aiohttp, transformers, accelerate, peft, datasets\n",
      "\u001b[2K   \u001b[90m━━━━━━━━━━━━━━━━━━━━━━━━━━━━━━━━━━━━━━━━\u001b[0m \u001b[32m24/24\u001b[0m [datasets]/24\u001b[0m [datasets]ers]ub]\n",
      "\u001b[1A\u001b[2KSuccessfully installed accelerate-1.8.1 aiohappyeyeballs-2.6.1 aiohttp-3.12.14 aiosignal-1.4.0 datasets-4.0.0 dill-0.3.8 frozenlist-1.7.0 hf-xet-1.1.5 huggingface-hub-0.33.4 multidict-6.6.3 multiprocess-0.70.16 pandas-2.3.1 peft-0.16.0 propcache-0.3.2 pyarrow-20.0.0 pytz-2025.2 regex-2024.11.6 safetensors-0.5.3 tokenizers-0.21.2 tqdm-4.67.1 transformers-4.53.2 tzdata-2025.2 xxhash-3.5.0 yarl-1.20.1\n",
      "\u001b[33mWARNING: Running pip as the 'root' user can result in broken permissions and conflicting behaviour with the system package manager, possibly rendering your system unusable. It is recommended to use a virtual environment instead: https://pip.pypa.io/warnings/venv. Use the --root-user-action option if you know what you are doing and want to suppress this warning.\u001b[0m\u001b[33m\n",
      "\u001b[0mCollecting sentencepiece\n",
      "  Downloading sentencepiece-0.2.0-cp311-cp311-manylinux_2_17_x86_64.manylinux2014_x86_64.whl.metadata (7.7 kB)\n",
      "Collecting protobuf\n",
      "  Downloading protobuf-6.31.1-cp39-abi3-manylinux2014_x86_64.whl.metadata (593 bytes)\n",
      "Downloading sentencepiece-0.2.0-cp311-cp311-manylinux_2_17_x86_64.manylinux2014_x86_64.whl (1.3 MB)\n",
      "\u001b[2K   \u001b[90m━━━━━━━━━━━━━━━━━━━━━━━━━━━━━━━━━━━━━━━━\u001b[0m \u001b[32m1.3/1.3 MB\u001b[0m \u001b[31m39.7 MB/s\u001b[0m eta \u001b[36m0:00:00\u001b[0m\n",
      "\u001b[?25hDownloading protobuf-6.31.1-cp39-abi3-manylinux2014_x86_64.whl (321 kB)\n",
      "Installing collected packages: sentencepiece, protobuf\n",
      "\u001b[2K   \u001b[90m━━━━━━━━━━━━━━━━━━━━━━━━━━━━━━━━━━━━━━━━\u001b[0m \u001b[32m2/2\u001b[0m [protobuf]\n",
      "\u001b[1A\u001b[2KSuccessfully installed protobuf-6.31.1 sentencepiece-0.2.0\n",
      "\u001b[33mWARNING: Running pip as the 'root' user can result in broken permissions and conflicting behaviour with the system package manager, possibly rendering your system unusable. It is recommended to use a virtual environment instead: https://pip.pypa.io/warnings/venv. Use the --root-user-action option if you know what you are doing and want to suppress this warning.\u001b[0m\u001b[33m\n",
      "\u001b[0mCollecting opencv-python\n",
      "  Downloading opencv_python-4.12.0.88-cp37-abi3-manylinux2014_x86_64.manylinux_2_17_x86_64.whl.metadata (19 kB)\n",
      "Requirement already satisfied: pillow in /usr/local/lib/python3.11/dist-packages (10.2.0)\n",
      "Requirement already satisfied: tqdm in /usr/local/lib/python3.11/dist-packages (4.67.1)\n",
      "Collecting numpy<2.3.0,>=2 (from opencv-python)\n",
      "  Downloading numpy-2.2.6-cp311-cp311-manylinux_2_17_x86_64.manylinux2014_x86_64.whl.metadata (62 kB)\n",
      "Downloading opencv_python-4.12.0.88-cp37-abi3-manylinux2014_x86_64.manylinux_2_17_x86_64.whl (67.0 MB)\n",
      "\u001b[2K   \u001b[90m━━━━━━━━━━━━━━━━━━━━━━━━━━━━━━━━━━━━━━━━\u001b[0m \u001b[32m67.0/67.0 MB\u001b[0m \u001b[31m243.3 MB/s\u001b[0m eta \u001b[36m0:00:00\u001b[0ma \u001b[36m0:00:01\u001b[0m\n",
      "\u001b[?25hDownloading numpy-2.2.6-cp311-cp311-manylinux_2_17_x86_64.manylinux2014_x86_64.whl (16.8 MB)\n",
      "\u001b[2K   \u001b[90m━━━━━━━━━━━━━━━━━━━━━━━━━━━━━━━━━━━━━━━━\u001b[0m \u001b[32m16.8/16.8 MB\u001b[0m \u001b[31m188.3 MB/s\u001b[0m eta \u001b[36m0:00:00\u001b[0m\n",
      "\u001b[?25hInstalling collected packages: numpy, opencv-python\n",
      "\u001b[2K  Attempting uninstall: numpy\n",
      "\u001b[2K    Found existing installation: numpy 1.26.3\n",
      "\u001b[2K    Uninstalling numpy-1.26.3:\n",
      "\u001b[2K      Successfully uninstalled numpy-1.26.3━━━━━\u001b[0m \u001b[32m0/2\u001b[0m [numpy]\n",
      "\u001b[2K   \u001b[90m━━━━━━━━━━━━━━━━━━━━━━━━━━━━━━━━━━━━━━━━\u001b[0m \u001b[32m2/2\u001b[0m [opencv-python]0m [opencv-python]\n",
      "\u001b[1A\u001b[2KSuccessfully installed numpy-2.2.6 opencv-python-4.12.0.88\n",
      "\u001b[33mWARNING: Running pip as the 'root' user can result in broken permissions and conflicting behaviour with the system package manager, possibly rendering your system unusable. It is recommended to use a virtual environment instead: https://pip.pypa.io/warnings/venv. Use the --root-user-action option if you know what you are doing and want to suppress this warning.\u001b[0m\u001b[33m\n",
      "\u001b[0m"
     ]
    }
   ],
   "source": [
    "# upgrade pip first\n",
    "!pip install --upgrade pip\n",
    "\n",
    "# core HF + vision libs\n",
    "!pip install transformers accelerate peft safetensors huggingface-hub datasets\n",
    "\n",
    "# tokenizer & protobuf support\n",
    "!pip install sentencepiece protobuf\n",
    "\n",
    "# image I/O & preprocessing\n",
    "!pip install opencv-python pillow tqdm"
   ]
  },
  {
   "cell_type": "code",
   "execution_count": 5,
   "id": "3c5b344b-8aa3-4fa3-b4c3-b1fe68cbe62a",
   "metadata": {},
   "outputs": [
    {
     "name": "stdout",
     "output_type": "stream",
     "text": [
      "Collecting git+https://github.com/huggingface/diffusers.git@main\n",
      "  Cloning https://github.com/huggingface/diffusers.git (to revision main) to /tmp/pip-req-build-sp0ba0ie\n",
      "  Running command git clone --filter=blob:none --quiet https://github.com/huggingface/diffusers.git /tmp/pip-req-build-sp0ba0ie\n",
      "  Resolved https://github.com/huggingface/diffusers.git to commit 06fd4277973d9ca14f7cdf364943c28de95e5510\n",
      "  Installing build dependencies ... \u001b[?25ldone\n",
      "\u001b[?25h  Getting requirements to build wheel ... \u001b[?25ldone\n",
      "\u001b[?25h  Preparing metadata (pyproject.toml) ... \u001b[?25ldone\n",
      "\u001b[?25hRequirement already satisfied: importlib_metadata in /usr/lib/python3/dist-packages (from diffusers==0.35.0.dev0) (4.6.4)\n",
      "Requirement already satisfied: filelock in /usr/local/lib/python3.11/dist-packages (from diffusers==0.35.0.dev0) (3.13.1)\n",
      "Requirement already satisfied: huggingface-hub>=0.27.0 in /usr/local/lib/python3.11/dist-packages (from diffusers==0.35.0.dev0) (0.33.4)\n",
      "Requirement already satisfied: numpy in /usr/local/lib/python3.11/dist-packages (from diffusers==0.35.0.dev0) (2.2.6)\n",
      "Requirement already satisfied: regex!=2019.12.17 in /usr/local/lib/python3.11/dist-packages (from diffusers==0.35.0.dev0) (2024.11.6)\n",
      "Requirement already satisfied: requests in /usr/local/lib/python3.11/dist-packages (from diffusers==0.35.0.dev0) (2.32.3)\n",
      "Requirement already satisfied: safetensors>=0.3.1 in /usr/local/lib/python3.11/dist-packages (from diffusers==0.35.0.dev0) (0.5.3)\n",
      "Requirement already satisfied: Pillow in /usr/local/lib/python3.11/dist-packages (from diffusers==0.35.0.dev0) (10.2.0)\n",
      "Requirement already satisfied: fsspec>=2023.5.0 in /usr/local/lib/python3.11/dist-packages (from huggingface-hub>=0.27.0->diffusers==0.35.0.dev0) (2024.2.0)\n",
      "Requirement already satisfied: packaging>=20.9 in /usr/local/lib/python3.11/dist-packages (from huggingface-hub>=0.27.0->diffusers==0.35.0.dev0) (24.1)\n",
      "Requirement already satisfied: pyyaml>=5.1 in /usr/local/lib/python3.11/dist-packages (from huggingface-hub>=0.27.0->diffusers==0.35.0.dev0) (6.0.2)\n",
      "Requirement already satisfied: tqdm>=4.42.1 in /usr/local/lib/python3.11/dist-packages (from huggingface-hub>=0.27.0->diffusers==0.35.0.dev0) (4.67.1)\n",
      "Requirement already satisfied: typing-extensions>=3.7.4.3 in /usr/local/lib/python3.11/dist-packages (from huggingface-hub>=0.27.0->diffusers==0.35.0.dev0) (4.9.0)\n",
      "Requirement already satisfied: hf-xet<2.0.0,>=1.1.2 in /usr/local/lib/python3.11/dist-packages (from huggingface-hub>=0.27.0->diffusers==0.35.0.dev0) (1.1.5)\n",
      "Requirement already satisfied: charset-normalizer<4,>=2 in /usr/local/lib/python3.11/dist-packages (from requests->diffusers==0.35.0.dev0) (3.3.2)\n",
      "Requirement already satisfied: idna<4,>=2.5 in /usr/local/lib/python3.11/dist-packages (from requests->diffusers==0.35.0.dev0) (3.10)\n",
      "Requirement already satisfied: urllib3<3,>=1.21.1 in /usr/local/lib/python3.11/dist-packages (from requests->diffusers==0.35.0.dev0) (2.2.3)\n",
      "Requirement already satisfied: certifi>=2017.4.17 in /usr/local/lib/python3.11/dist-packages (from requests->diffusers==0.35.0.dev0) (2024.8.30)\n",
      "Building wheels for collected packages: diffusers\n",
      "  Building wheel for diffusers (pyproject.toml) ... \u001b[?25ldone\n",
      "\u001b[?25h  Created wheel for diffusers: filename=diffusers-0.35.0.dev0-py3-none-any.whl size=3941241 sha256=35a2dd94003191c2958d902d29e5210689ba5a3e8aa5576d1fd508f8f2e90594\n",
      "  Stored in directory: /tmp/pip-ephem-wheel-cache-7zthdnt9/wheels/a1/ef/6a/3ca5a827bc9370215ec33c7a91527ca9415102c7fff40d00be\n",
      "Successfully built diffusers\n",
      "Installing collected packages: diffusers\n",
      "Successfully installed diffusers-0.35.0.dev0\n",
      "\u001b[33mWARNING: Running pip as the 'root' user can result in broken permissions and conflicting behaviour with the system package manager, possibly rendering your system unusable. It is recommended to use a virtual environment instead: https://pip.pypa.io/warnings/venv. Use the --root-user-action option if you know what you are doing and want to suppress this warning.\u001b[0m\u001b[33m\n",
      "\u001b[0m"
     ]
    }
   ],
   "source": [
    "!pip install git+https://github.com/huggingface/diffusers.git@main"
   ]
  },
  {
   "cell_type": "code",
   "execution_count": 8,
   "id": "02118c61-e011-46e9-a3a7-e4156909d0f9",
   "metadata": {},
   "outputs": [
    {
     "name": "stdout",
     "output_type": "stream",
     "text": [
      "=== PyTorch & CUDA ===\n",
      "Torch version:       2.4.1+cu124\n",
      "CUDA available:      True\n",
      "CUDA version:        12.4\n",
      "cuDNN version:       90100\n",
      "Device count:        1\n",
      "  Device 0:        NVIDIA GeForce RTX 4090\n",
      "\n",
      "GPU tensor created: cuda:0 | sum = -3.650339126586914\n",
      "\n",
      "=== Other libraries ===\n",
      "Torchvision version: 0.19.1+cu124\n",
      "Transformers version: 4.53.2\n",
      "Diffusers version:    0.35.0.dev0\n"
     ]
    }
   ],
   "source": [
    "import torch\n",
    "import torch.backends.cudnn as cudnn\n",
    "import torchvision\n",
    "import diffusers\n",
    "import transformers\n",
    "\n",
    "def main():\n",
    "    print(\"=== PyTorch & CUDA ===\")\n",
    "    print(\"Torch version:      \", torch.__version__)\n",
    "    print(\"CUDA available:     \", torch.cuda.is_available())\n",
    "    print(\"CUDA version:       \", torch.version.cuda)\n",
    "    print(\"cuDNN version:      \", cudnn.version())\n",
    "    print(\"Device count:       \", torch.cuda.device_count())\n",
    "    for i in range(torch.cuda.device_count()):\n",
    "        print(f\"  Device {i}:        {torch.cuda.get_device_name(i)}\")\n",
    "    print()\n",
    "\n",
    "    # Simple GPU op test\n",
    "    if torch.cuda.is_available():\n",
    "        x = torch.randn(3, 3, device=\"cuda\")\n",
    "        print(\"GPU tensor created:\", x.device, \"| sum =\", x.sum().item())\n",
    "    else:\n",
    "        print(\"Skipping GPU tensor test (no CUDA).\")\n",
    "    print()\n",
    "\n",
    "    print(\"=== Other libraries ===\")\n",
    "    print(\"Torchvision version:\", torchvision.__version__)\n",
    "    print(\"Transformers version:\", transformers.__version__)\n",
    "    print(\"Diffusers version:   \", diffusers.__version__)\n",
    "\n",
    "if __name__ == \"__main__\":\n",
    "    main()"
   ]
  },
  {
   "cell_type": "markdown",
   "id": "2bf574de-4291-441b-add5-e16c485e146c",
   "metadata": {},
   "source": [
    "# Load SD3"
   ]
  },
  {
   "cell_type": "code",
   "execution_count": 15,
   "id": "51b74818-7d46-4edc-b654-dd318897dfef",
   "metadata": {},
   "outputs": [
    {
     "name": "stdout",
     "output_type": "stream",
     "text": [
      "Cloning into 'solar_ml/sd3_local'...\n",
      "remote: Enumerating objects: 93, done.\u001b[K\n",
      "remote: Counting objects: 100% (90/90), done.\u001b[K\n",
      "remote: Compressing objects: 100% (89/89), done.\u001b[K\n",
      "remote: Total 93 (delta 31), reused 0 (delta 0), pack-reused 3 (from 1)\u001b[K\n",
      "Unpacking objects: 100% (93/93), 1.37 MiB | 2.81 MiB/s, done.\n",
      "Filtering content: 100% (14/14), 12.87 GiB | 47.07 MiB/s, done.\n",
      "Encountered 6 file(s) that may not have been copied correctly on Windows:\n",
      "\ttransformer/diffusion_pytorch_model.fp16.safetensors\n",
      "\ttransformer/diffusion_pytorch_model.safetensors\n",
      "\ttext_encoder_3/model-00002-of-00002.safetensors\n",
      "\ttext_encoder_3/model.fp16-00002-of-00002.safetensors\n",
      "\ttext_encoder_3/model-00001-of-00002.safetensors\n",
      "\ttext_encoder_3/model.fp16-00001-of-00002.safetensors\n",
      "\n",
      "See: `git lfs help smudge` for more details.\n"
     ]
    }
   ],
   "source": [
    "!git clone https://huggingface.co/stabilityai/stable-diffusion-3-medium-diffusers solar_ml/sd3_local"
   ]
  },
  {
   "cell_type": "code",
   "execution_count": 17,
   "id": "dcbf2d21-f1a8-42e0-829f-ec959ee7b09f",
   "metadata": {},
   "outputs": [
    {
     "name": "stdout",
     "output_type": "stream",
     "text": [
      "git lfs smudge [<path>]\n",
      "git lfs smudge --skip [<path>]\n",
      "\n",
      "Read a Git LFS pointer file from standard input and write the contents\n",
      "of the corresponding large file to standard output.  If needed,\n",
      "download the file's contents from the Git LFS endpoint.  The <path>\n",
      "argument, if provided, is only used for a progress bar.\n",
      "\n",
      "Smudge is typically run by Git's smudge filter, configured by the repository's\n",
      "Git attributes.\n",
      "\n",
      "Options:\n",
      "\n",
      "Without any options, git lfs smudge outputs the raw Git LFS content to\n",
      "standard output.\n",
      "\n",
      "* --skip:\n",
      "    Skip automatic downloading of objects on clone or pull.\n",
      "  \n",
      "* GIT_LFS_SKIP_SMUDGE:\n",
      "    Disables the smudging process. For more, see: git lfs config.\n",
      "  \n",
      "Known bugs\n",
      "----------\n",
      "\n",
      "On Windows, Git does not handle files in the working tree larger than 4\n",
      "gigabytes.\n",
      "\n",
      "For more information, see: https://github.com/git-lfs/git-lfs/issues/2434.\n"
     ]
    }
   ],
   "source": [
    "!git lfs help smudge"
   ]
  },
  {
   "cell_type": "code",
   "execution_count": 19,
   "id": "e8217cf9-38bd-4805-be68-aed2900e8d5e",
   "metadata": {},
   "outputs": [
    {
     "name": "stdout",
     "output_type": "stream",
     "text": [
      "sd3_local  solar_ml\n"
     ]
    }
   ],
   "source": [
    "!ls"
   ]
  },
  {
   "cell_type": "code",
   "execution_count": 20,
   "id": "8fe99711-48b5-4c12-9578-96fec4ea4a63",
   "metadata": {},
   "outputs": [
    {
     "name": "stdout",
     "output_type": "stream",
     "text": [
      "/workspace/solar_ml\n",
      "/workspace/solar_ml/sd3_local\n"
     ]
    },
    {
     "name": "stderr",
     "output_type": "stream",
     "text": [
      "/usr/local/lib/python3.11/dist-packages/IPython/core/magics/osm.py:417: UserWarning: This is now an optional IPython functionality, setting dhist requires you to install the `pickleshare` library.\n",
      "  self.shell.db['dhist'] = compress_dhist(dhist)[-100:]\n"
     ]
    },
    {
     "name": "stdout",
     "output_type": "stream",
     "text": [
      "/workspace/solar_ml\n"
     ]
    }
   ],
   "source": [
    "# Go to your cloned repo and pull large files\n",
    "%cd solar_ml\n",
    "%cd sd3_local\n",
    "!git lfs pull\n",
    "%cd .."
   ]
  },
  {
   "cell_type": "code",
   "execution_count": 21,
   "id": "b39aa2db-2c55-4ac4-8ab1-cc85073d7589",
   "metadata": {},
   "outputs": [
    {
     "name": "stdout",
     "output_type": "stream",
     "text": [
      "Untitled.ipynb\tlora2.ipynb\t   sd3_local\ttest.ipynb\n",
      "lora.ipynb\tlora_dataset.json  start.ipynb\n"
     ]
    }
   ],
   "source": [
    "!ls"
   ]
  },
  {
   "cell_type": "code",
   "execution_count": 22,
   "id": "91dd24f5-abb7-422e-ae58-e9075d27bf1c",
   "metadata": {},
   "outputs": [
    {
     "name": "stdout",
     "output_type": "stream",
     "text": [
      "Dropped num_attention_heads from config\n",
      "✅ Patched config.json\n"
     ]
    }
   ],
   "source": [
    "import json, os\n",
    "\n",
    "# Path to the SD3 local clone you made earlier\n",
    "cfg_path = os.path.join(\"sd3_local\", \"transformer\", \"config.json\")\n",
    "\n",
    "# 1) Load\n",
    "cfg = json.load(open(cfg_path))\n",
    "\n",
    "# 2) Remove the problematic key\n",
    "if \"num_attention_heads\" in cfg:\n",
    "    cfg.pop(\"num_attention_heads\")\n",
    "    print(\"Dropped num_attention_heads from config\")\n",
    "\n",
    "# 3) Overwrite the file\n",
    "with open(cfg_path, \"w\") as f:\n",
    "    json.dump(cfg, f, indent=2)\n",
    "\n",
    "print(\"✅ Patched config.json\")"
   ]
  },
  {
   "cell_type": "markdown",
   "id": "6f4bbe0d-cdf0-47b7-b0c2-6d9b248db47d",
   "metadata": {},
   "source": [
    "# Load dataset"
   ]
  },
  {
   "cell_type": "code",
   "execution_count": 23,
   "id": "cb46e05a-eede-4acd-88f1-1b500904659b",
   "metadata": {},
   "outputs": [
    {
     "name": "stdout",
     "output_type": "stream",
     "text": [
      "\u001b[33mWARNING: Running pip as the 'root' user can result in broken permissions and conflicting behaviour with the system package manager, possibly rendering your system unusable. It is recommended to use a virtual environment instead: https://pip.pypa.io/warnings/venv. Use the --root-user-action option if you know what you are doing and want to suppress this warning.\u001b[0m\u001b[33m\n",
      "\u001b[0m"
     ]
    },
    {
     "name": "stderr",
     "output_type": "stream",
     "text": [
      "Downloading...\n",
      "From (original): https://drive.google.com/uc?id=1obWb9b8k-udHaVQtkmtUYlUmFqts62UN\n",
      "From (redirected): https://drive.google.com/uc?id=1obWb9b8k-udHaVQtkmtUYlUmFqts62UN&confirm=t&uuid=74fde39b-3a64-42b2-b2e5-49a2959d9dca\n",
      "To: /workspace/solar_ml/dataset.zip\n",
      "100%|██████████| 475M/475M [00:05<00:00, 89.4MB/s] \n"
     ]
    },
    {
     "data": {
      "text/plain": [
       "'dataset.zip'"
      ]
     },
     "execution_count": 23,
     "metadata": {},
     "output_type": "execute_result"
    }
   ],
   "source": [
    "# 1. Install gdown if needed\n",
    "!pip install --quiet gdown\n",
    "\n",
    "# 2. Download the shared zip by file-ID\n",
    "import gdown, zipfile, os\n",
    "\n",
    "file_id = \"1obWb9b8k-udHaVQtkmtUYlUmFqts62UN\"\n",
    "url     = f\"https://drive.google.com/uc?id={file_id}\"\n",
    "output  = \"dataset.zip\"\n",
    "\n",
    "# Download (will overwrite if exists)\n",
    "gdown.download(url, output, quiet=False)"
   ]
  },
  {
   "cell_type": "code",
   "execution_count": 24,
   "id": "be574b01-ca4f-4386-be73-0572b67bb05d",
   "metadata": {},
   "outputs": [],
   "source": [
    "# !rm -rf dataset.zip"
   ]
  },
  {
   "cell_type": "code",
   "execution_count": 25,
   "id": "d40a9926-2d09-473d-ad99-15beb796ecdb",
   "metadata": {},
   "outputs": [
    {
     "name": "stdout",
     "output_type": "stream",
     "text": [
      "Extracting to: /workspace/solar_ml\n"
     ]
    }
   ],
   "source": [
    "import zipfile\n",
    "import os\n",
    "\n",
    "zip_path = \"dataset.zip\"  # or wherever your zip is\n",
    "\n",
    "# ensure we're in the folder where dataset.zip lives, or give full path\n",
    "cwd = os.getcwd()\n",
    "print(\"Extracting to:\", cwd)\n",
    "\n",
    "with zipfile.ZipFile(zip_path, 'r') as z:\n",
    "    z.extractall(\".\")"
   ]
  },
  {
   "cell_type": "code",
   "execution_count": 26,
   "id": "3166c677-5d71-4659-a995-16c971998521",
   "metadata": {},
   "outputs": [
    {
     "name": "stdout",
     "output_type": "stream",
     "text": [
      "Extracted\n"
     ]
    }
   ],
   "source": [
    "print(\"Extracted\")"
   ]
  },
  {
   "cell_type": "markdown",
   "id": "b9d3a5e9-9c46-41f5-813f-03e50f8264b8",
   "metadata": {},
   "source": [
    "# Huggingface"
   ]
  },
  {
   "cell_type": "code",
   "execution_count": 10,
   "id": "0ef9ce17-e7d4-4805-a006-e239a3a99c2e",
   "metadata": {},
   "outputs": [],
   "source": [
    "!git config --global credential.helper store"
   ]
  },
  {
   "cell_type": "code",
   "execution_count": 11,
   "id": "2fed4c81-64cb-461e-aebe-f43f05a07b4d",
   "metadata": {},
   "outputs": [
    {
     "name": "stdout",
     "output_type": "stream",
     "text": [
      "\u001b[33mWARNING: Running pip as the 'root' user can result in broken permissions and conflicting behaviour with the system package manager, possibly rendering your system unusable. It is recommended to use a virtual environment instead: https://pip.pypa.io/warnings/venv. Use the --root-user-action option if you know what you are doing and want to suppress this warning.\u001b[0m\u001b[33m\n",
      "\u001b[0m"
     ]
    },
    {
     "data": {
      "application/vnd.jupyter.widget-view+json": {
       "model_id": "372fdc6bdb3a4634a1e25a2860c2aba2",
       "version_major": 2,
       "version_minor": 0
      },
      "text/plain": [
       "VBox(children=(HTML(value='<center> <img\\nsrc=https://huggingface.co/front/assets/huggingface_logo-noborder.sv…"
      ]
     },
     "metadata": {},
     "output_type": "display_data"
    }
   ],
   "source": [
    "# 1) Install the HF hub helper (if you haven’t already)\n",
    "!pip install --quiet huggingface_hub\n",
    "\n",
    "# 2) Launch the notebook login flow\n",
    "from huggingface_hub import notebook_login\n",
    "notebook_login()"
   ]
  },
  {
   "cell_type": "markdown",
   "id": "94d81a6c-4de2-4494-8ba9-7d460221bb8e",
   "metadata": {},
   "source": [
    "# Git"
   ]
  },
  {
   "cell_type": "code",
   "execution_count": 28,
   "id": "e89f447c-5abd-4145-8193-36ee7ebd56ed",
   "metadata": {},
   "outputs": [
    {
     "name": "stdin",
     "output_type": "stream",
     "text": [
      "GitHub username:  timnirmal\n",
      "GitHub Personal Access Token:  ········\n"
     ]
    },
    {
     "name": "stdout",
     "output_type": "stream",
     "text": [
      "✅ Wrote ~/.netrc—now git will pick up your credentials automatically.\n"
     ]
    }
   ],
   "source": [
    "# 1. Ask for your GitHub username & PAT (scopes: repo)\n",
    "from getpass import getpass\n",
    "import os\n",
    "\n",
    "user  = input(\"GitHub username: \")\n",
    "token = getpass(\"GitHub Personal Access Token: \")\n",
    "\n",
    "# 2. Write ~/.netrc\n",
    "netrc_path = os.path.expanduser(\"~/.netrc\")\n",
    "with open(netrc_path, \"w\") as f:\n",
    "    f.write(\n",
    "        f\"machine github.com\\n\"\n",
    "        f\"login {user}\\n\"\n",
    "        f\"password {token}\\n\"\n",
    "    )\n",
    "# 3. Secure it\n",
    "os.chmod(netrc_path, 0o600)\n",
    "print(\"✅ Wrote ~/.netrc—now git will pick up your credentials automatically.\")"
   ]
  },
  {
   "cell_type": "markdown",
   "id": "39d72496-f3b0-461d-9359-445839cba8dd",
   "metadata": {},
   "source": [
    "# Git push"
   ]
  },
  {
   "cell_type": "code",
   "execution_count": 29,
   "id": "1f4bb853-4a32-40a5-9c8f-ac6e314c0f2f",
   "metadata": {},
   "outputs": [
    {
     "name": "stdout",
     "output_type": "stream",
     "text": [
      "On branch main\n",
      "Your branch is up to date with 'origin/main'.\n",
      "\n",
      "Changes not staged for commit:\n",
      "  (use \"git add <file>...\" to update what will be committed)\n",
      "  (use \"git restore <file>...\" to discard changes in working directory)\n",
      "\t\u001b[31mmodified:   start.ipynb\u001b[m\n",
      "\t\u001b[31mmodified:   test.ipynb\u001b[m\n",
      "\n",
      "Untracked files:\n",
      "  (use \"git add <file>...\" to include in what will be committed)\n",
      "\t\u001b[31m.ipynb_checkpoints/\u001b[m\n",
      "\t\u001b[31mdataset.zip\u001b[m\n",
      "\t\u001b[31mdataset/\u001b[m\n",
      "\t\u001b[31msd3_local/\u001b[m\n",
      "\n",
      "no changes added to commit (use \"git add\" and/or \"git commit -a\")\n"
     ]
    }
   ],
   "source": [
    "!git status"
   ]
  },
  {
   "cell_type": "code",
   "execution_count": 2,
   "id": "9a75bdef-8bd7-4249-9f09-880ddb1fca78",
   "metadata": {},
   "outputs": [],
   "source": [
    "!git add start.ipynb lora.ipynb Untitled.ipynb test.ipynb lora2.ipynb"
   ]
  },
  {
   "cell_type": "code",
   "execution_count": 8,
   "id": "de0f5c26-23ff-40e3-92aa-cb328aebd35f",
   "metadata": {},
   "outputs": [],
   "source": [
    "!git config --global user.email \"timnirmal@gmail.com\"\n",
    "!git config --global user.name \"timnirmal\""
   ]
  },
  {
   "cell_type": "code",
   "execution_count": 4,
   "id": "48a63d1b-99e3-4172-a147-a7bad6065c4b",
   "metadata": {},
   "outputs": [
    {
     "name": "stdout",
     "output_type": "stream",
     "text": [
      "\n",
      "This repository is configured for Git LFS but 'git-lfs' was not found on your path. If you no longer wish to use Git LFS, remove this hook by deleting .git/hooks/post-commit.\n",
      "\n",
      "[main bf1deb2] start\n",
      " 3 files changed, 1022 insertions(+), 801 deletions(-)\n",
      " create mode 100644 lora2.ipynb\n",
      " rewrite test.ipynb (67%)\n"
     ]
    }
   ],
   "source": [
    "!git commit -m \"start\""
   ]
  },
  {
   "cell_type": "code",
   "execution_count": 7,
   "id": "27d2f4de-6c97-42bf-addc-8b05175fdcfc",
   "metadata": {},
   "outputs": [
    {
     "name": "stdout",
     "output_type": "stream",
     "text": [
      "Username for 'https://github.com': ^C\n"
     ]
    }
   ],
   "source": [
    "!git push -u origin main"
   ]
  },
  {
   "cell_type": "code",
   "execution_count": 13,
   "id": "2d7fe03a-675c-4722-b83a-2c7817ef79c9",
   "metadata": {},
   "outputs": [
    {
     "name": "stdout",
     "output_type": "stream",
     "text": [
      "[NbConvertApp] Converting notebook lora.ipynb to notebook\n",
      "[NbConvertApp] Writing 11341 bytes to lora.ipynb\n"
     ]
    }
   ],
   "source": [
    "# !jupyter nbconvert --ClearOutputPreprocessor.enabled=True --inplace lora.ipynb"
   ]
  },
  {
   "cell_type": "markdown",
   "id": "a97de786-bffc-4a7e-ac75-ff2df114ca77",
   "metadata": {},
   "source": [
    "# Clear Cuda"
   ]
  },
  {
   "cell_type": "code",
   "execution_count": 13,
   "id": "25f1ed7f-c255-447b-9268-7282e369b0b2",
   "metadata": {},
   "outputs": [],
   "source": [
    "# import torch, gc\n",
    "\n",
    "# # 1) Delete any large objects you no longer need\n",
    "# #    e.g. del model, del pipe, del unet, etc.\n",
    "# #    if you named your LoRA‐wrapped UNet `unet_lora`, for example:\n",
    "# try:\n",
    "#     del unet_lora\n",
    "# except NameError:\n",
    "#     pass\n",
    "\n",
    "# # 2) Run Python’s garbage collector\n",
    "# gc.collect()\n",
    "\n",
    "# # 3) Tell CUDA to release all unused cached memory\n",
    "# torch.cuda.empty_cache()"
   ]
  },
  {
   "cell_type": "code",
   "execution_count": null,
   "id": "1e19cf4b-f6c5-4605-a4c2-954641e9b5dd",
   "metadata": {},
   "outputs": [],
   "source": []
  }
 ],
 "metadata": {
  "kernelspec": {
   "display_name": "Python 3 (ipykernel)",
   "language": "python",
   "name": "python3"
  },
  "language_info": {
   "codemirror_mode": {
    "name": "ipython",
    "version": 3
   },
   "file_extension": ".py",
   "mimetype": "text/x-python",
   "name": "python",
   "nbconvert_exporter": "python",
   "pygments_lexer": "ipython3",
   "version": "3.11.10"
  }
 },
 "nbformat": 4,
 "nbformat_minor": 5
}
