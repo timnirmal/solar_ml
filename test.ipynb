{
 "cells": [
  {
   "cell_type": "code",
   "execution_count": 7,
   "id": "49dbfb1d-2c53-430d-99a5-0944929646b8",
   "metadata": {},
   "outputs": [
    {
     "name": "stdin",
     "output_type": "stream",
     "text": [
      "🔑 Enter your Hugging Face access token:  ········\n"
     ]
    },
    {
     "name": "stdout",
     "output_type": "stream",
     "text": [
      "Using HF user: timnirmal\n",
      "Wrote credentials to /root/.netrc\n"
     ]
    }
   ],
   "source": [
    "from getpass import getpass\n",
    "from huggingface_hub import whoami\n",
    "import os, stat\n",
    "\n",
    "# a) Ask for your token\n",
    "token = getpass(\"🔑 Enter your Hugging Face access token: \")\n",
    "\n",
    "# b) Fetch your HF username\n",
    "user = whoami(token=token)[\"name\"]\n",
    "print(f\"Using HF user: {user}\")\n",
    "\n",
    "# c) Write ~/.netrc\n",
    "netrc_path = os.path.expanduser(\"~/.netrc\")\n",
    "with open(netrc_path, \"w\") as f:\n",
    "    f.write(f\"machine huggingface.co\\nlogin {user}\\npassword {token}\\n\")\n",
    "# secure it\n",
    "os.chmod(netrc_path, stat.S_IRUSR | stat.S_IWUSR)\n",
    "print(f\"Wrote credentials to {netrc_path}\")"
   ]
  },
  {
   "cell_type": "code",
   "execution_count": 8,
   "id": "6a49d693-2321-49e2-8357-d3512c471418",
   "metadata": {},
   "outputs": [
    {
     "name": "stdout",
     "output_type": "stream",
     "text": [
      "Cloning into 'sd3_local'...\n",
      "remote: Enumerating objects: 93, done.\u001b[K\n",
      "remote: Total 93 (delta 0), reused 0 (delta 0), pack-reused 93 (from 1)\u001b[K\n",
      "Unpacking objects: 100% (93/93), 1.37 MiB | 1.97 MiB/s, done.\n"
     ]
    }
   ],
   "source": [
    "!git clone https://huggingface.co/stabilityai/stable-diffusion-3-medium-diffusers sd3_local"
   ]
  },
  {
   "cell_type": "code",
   "execution_count": 18,
   "id": "5922415b-3586-494c-8115-d694de630494",
   "metadata": {},
   "outputs": [
    {
     "name": "stdout",
     "output_type": "stream",
     "text": [
      "Get:1 http://archive.ubuntu.com/ubuntu jammy InRelease [270 kB]\n",
      "Get:2 https://developer.download.nvidia.com/compute/cuda/repos/ubuntu2204/x86_64  InRelease [1581 B]\n",
      "Get:3 http://security.ubuntu.com/ubuntu jammy-security InRelease [129 kB]      \n",
      "Get:4 http://archive.ubuntu.com/ubuntu jammy-updates InRelease [128 kB]        \n",
      "Get:5 http://archive.ubuntu.com/ubuntu jammy-backports InRelease [127 kB]      \n",
      "Get:6 https://developer.download.nvidia.com/compute/cuda/repos/ubuntu2204/x86_64  Packages [1804 kB]\n",
      "Get:7 http://archive.ubuntu.com/ubuntu jammy/restricted amd64 Packages [164 kB]\n",
      "Get:8 http://archive.ubuntu.com/ubuntu jammy/universe amd64 Packages [17.5 MB]\n",
      "Get:9 http://archive.ubuntu.com/ubuntu jammy/multiverse amd64 Packages [266 kB]\n",
      "Get:10 http://archive.ubuntu.com/ubuntu jammy/main amd64 Packages [1792 kB]   \n",
      "Get:11 http://archive.ubuntu.com/ubuntu jammy-updates/main amd64 Packages [3420 kB]\n",
      "Get:12 http://archive.ubuntu.com/ubuntu jammy-updates/multiverse amd64 Packages [56.4 kB]\n",
      "Get:13 http://archive.ubuntu.com/ubuntu jammy-updates/restricted amd64 Packages [4963 kB]\n",
      "Get:14 http://archive.ubuntu.com/ubuntu jammy-updates/universe amd64 Packages [1569 kB]\n",
      "Get:15 http://archive.ubuntu.com/ubuntu jammy-backports/universe amd64 Packages [35.2 kB]\n",
      "Get:16 http://archive.ubuntu.com/ubuntu jammy-backports/main amd64 Packages [83.2 kB]\n",
      "Get:17 https://ppa.launchpadcontent.net/deadsnakes/ppa/ubuntu jammy InRelease [18.1 kB]\n",
      "Get:18 http://security.ubuntu.com/ubuntu jammy-security/restricted amd64 Packages [4795 kB]\n",
      "Get:19 http://security.ubuntu.com/ubuntu jammy-security/main amd64 Packages [3103 kB]\n",
      "Get:20 http://security.ubuntu.com/ubuntu jammy-security/universe amd64 Packages [1266 kB]\n",
      "Get:21 http://security.ubuntu.com/ubuntu jammy-security/multiverse amd64 Packages [48.5 kB]\n",
      "Get:22 https://ppa.launchpadcontent.net/deadsnakes/ppa/ubuntu jammy/main amd64 Packages [32.9 kB]\n",
      "Fetched 41.5 MB in 1s (27.9 MB/s)                           \n",
      "Reading package lists... Done\n",
      "Reading package lists... Done\n",
      "Building dependency tree... Done\n",
      "Reading state information... Done\n",
      "The following NEW packages will be installed:\n",
      "  git-lfs\n",
      "0 upgraded, 1 newly installed, 0 to remove and 110 not upgraded.\n",
      "Need to get 3544 kB of archives.\n",
      "After this operation, 10.5 MB of additional disk space will be used.\n",
      "Get:1 http://archive.ubuntu.com/ubuntu jammy-updates/universe amd64 git-lfs amd64 3.0.2-1ubuntu0.3 [3544 kB]\n",
      "Fetched 3544 kB in 1s (3703 kB/s) \n",
      "debconf: delaying package configuration, since apt-utils is not installed\n",
      "Selecting previously unselected package git-lfs.\n",
      "(Reading database ... 24135 files and directories currently installed.)\n",
      "Preparing to unpack .../git-lfs_3.0.2-1ubuntu0.3_amd64.deb ...\n",
      "Unpacking git-lfs (3.0.2-1ubuntu0.3) ...\n",
      "Setting up git-lfs (3.0.2-1ubuntu0.3) ...\n"
     ]
    }
   ],
   "source": [
    "!apt-get update\n",
    "!apt-get install -y git-lfs"
   ]
  },
  {
   "cell_type": "code",
   "execution_count": 20,
   "id": "53576078-f1aa-4bdc-bf5e-3762459ae657",
   "metadata": {},
   "outputs": [
    {
     "name": "stdout",
     "output_type": "stream",
     "text": [
      "Updated git hooks.\n",
      "Git LFS initialized.\n"
     ]
    }
   ],
   "source": [
    "!git lfs install"
   ]
  },
  {
   "cell_type": "code",
   "execution_count": 21,
   "id": "f758c808-af1d-4b26-aa2a-61decb6956ab",
   "metadata": {},
   "outputs": [
    {
     "name": "stdout",
     "output_type": "stream",
     "text": [
      "/workspace/sd3_local\n"
     ]
    },
    {
     "name": "stderr",
     "output_type": "stream",
     "text": [
      "/usr/local/lib/python3.11/dist-packages/IPython/core/magics/osm.py:417: UserWarning: This is now an optional IPython functionality, setting dhist requires you to install the `pickleshare` library.\n",
      "  self.shell.db['dhist'] = compress_dhist(dhist)[-100:]\n"
     ]
    },
    {
     "name": "stdout",
     "output_type": "stream",
     "text": [
      "/workspace/sd3_localcts: 100% (8/8), 16 GB | 224 MB/s                           \n"
     ]
    }
   ],
   "source": [
    "# Go to your cloned repo and pull large files\n",
    "%cd sd3_local\n",
    "!git lfs pull\n",
    "%cd ."
   ]
  },
  {
   "cell_type": "code",
   "execution_count": 10,
   "id": "51857dca-20ef-45a2-94d0-0aa82a8f1800",
   "metadata": {},
   "outputs": [
    {
     "name": "stdout",
     "output_type": "stream",
     "text": [
      "Dropped num_attention_heads from config\n",
      "✅ Patched config.json\n"
     ]
    }
   ],
   "source": [
    "import json, os\n",
    "\n",
    "# Path to the SD3 local clone you made earlier\n",
    "cfg_path = os.path.join(\"sd3_local\", \"transformer\", \"config.json\")\n",
    "\n",
    "# 1) Load\n",
    "cfg = json.load(open(cfg_path))\n",
    "\n",
    "# 2) Remove the problematic key\n",
    "if \"num_attention_heads\" in cfg:\n",
    "    cfg.pop(\"num_attention_heads\")\n",
    "    print(\"Dropped num_attention_heads from config\")\n",
    "\n",
    "# 3) Overwrite the file\n",
    "with open(cfg_path, \"w\") as f:\n",
    "    json.dump(cfg, f, indent=2)\n",
    "\n",
    "print(\"✅ Patched config.json\")\n"
   ]
  },
  {
   "cell_type": "code",
   "execution_count": 26,
   "id": "f7b2840b-cb69-4559-b4c3-d439c9b8afcf",
   "metadata": {},
   "outputs": [
    {
     "name": "stdout",
     "output_type": "stream",
     "text": [
      "/workspace\n"
     ]
    }
   ],
   "source": [
    "%cd .."
   ]
  },
  {
   "cell_type": "code",
   "execution_count": 33,
   "id": "5fc0b406-3dfa-4239-ae7a-9396d0198db7",
   "metadata": {},
   "outputs": [
    {
     "name": "stdout",
     "output_type": "stream",
     "text": [
      "Found existing installation: diffusers 0.34.0\n",
      "Uninstalling diffusers-0.34.0:\n",
      "  Successfully uninstalled diffusers-0.34.0\n",
      "\u001b[33mWARNING: Running pip as the 'root' user can result in broken permissions and conflicting behaviour with the system package manager, possibly rendering your system unusable. It is recommended to use a virtual environment instead: https://pip.pypa.io/warnings/venv. Use the --root-user-action option if you know what you are doing and want to suppress this warning.\u001b[0m\u001b[33m\n",
      "\u001b[0mCollecting git+https://github.com/huggingface/diffusers.git@main\n",
      "  Cloning https://github.com/huggingface/diffusers.git (to revision main) to /tmp/pip-req-build-1o6chg41\n",
      "  Running command git clone --filter=blob:none --quiet https://github.com/huggingface/diffusers.git /tmp/pip-req-build-1o6chg41\n",
      "  Resolved https://github.com/huggingface/diffusers.git to commit 3c8b67b3711b668a6e7867e08b54280e51454eb5\n",
      "  Installing build dependencies ... \u001b[?25ldone\n",
      "\u001b[?25h  Getting requirements to build wheel ... \u001b[?25ldone\n",
      "\u001b[?25h  Preparing metadata (pyproject.toml) ... \u001b[?25ldone\n",
      "\u001b[?25hRequirement already satisfied: importlib_metadata in /usr/lib/python3/dist-packages (from diffusers==0.35.0.dev0) (4.6.4)\n",
      "Requirement already satisfied: filelock in /usr/local/lib/python3.11/dist-packages (from diffusers==0.35.0.dev0) (3.13.1)\n",
      "Requirement already satisfied: huggingface-hub>=0.27.0 in /usr/local/lib/python3.11/dist-packages (from diffusers==0.35.0.dev0) (0.33.4)\n",
      "Requirement already satisfied: numpy in /usr/local/lib/python3.11/dist-packages (from diffusers==0.35.0.dev0) (1.26.3)\n",
      "Requirement already satisfied: regex!=2019.12.17 in /usr/local/lib/python3.11/dist-packages (from diffusers==0.35.0.dev0) (2024.11.6)\n",
      "Requirement already satisfied: requests in /usr/local/lib/python3.11/dist-packages (from diffusers==0.35.0.dev0) (2.32.3)\n",
      "Requirement already satisfied: safetensors>=0.3.1 in /usr/local/lib/python3.11/dist-packages (from diffusers==0.35.0.dev0) (0.5.3)\n",
      "Requirement already satisfied: Pillow in /usr/local/lib/python3.11/dist-packages (from diffusers==0.35.0.dev0) (10.2.0)\n",
      "Requirement already satisfied: fsspec>=2023.5.0 in /usr/local/lib/python3.11/dist-packages (from huggingface-hub>=0.27.0->diffusers==0.35.0.dev0) (2024.2.0)\n",
      "Requirement already satisfied: packaging>=20.9 in /usr/local/lib/python3.11/dist-packages (from huggingface-hub>=0.27.0->diffusers==0.35.0.dev0) (24.1)\n",
      "Requirement already satisfied: pyyaml>=5.1 in /usr/local/lib/python3.11/dist-packages (from huggingface-hub>=0.27.0->diffusers==0.35.0.dev0) (6.0.2)\n",
      "Requirement already satisfied: tqdm>=4.42.1 in /usr/local/lib/python3.11/dist-packages (from huggingface-hub>=0.27.0->diffusers==0.35.0.dev0) (4.67.1)\n",
      "Requirement already satisfied: typing-extensions>=3.7.4.3 in /usr/local/lib/python3.11/dist-packages (from huggingface-hub>=0.27.0->diffusers==0.35.0.dev0) (4.9.0)\n",
      "Requirement already satisfied: hf-xet<2.0.0,>=1.1.2 in /usr/local/lib/python3.11/dist-packages (from huggingface-hub>=0.27.0->diffusers==0.35.0.dev0) (1.1.5)\n",
      "Requirement already satisfied: charset-normalizer<4,>=2 in /usr/local/lib/python3.11/dist-packages (from requests->diffusers==0.35.0.dev0) (3.3.2)\n",
      "Requirement already satisfied: idna<4,>=2.5 in /usr/local/lib/python3.11/dist-packages (from requests->diffusers==0.35.0.dev0) (3.10)\n",
      "Requirement already satisfied: urllib3<3,>=1.21.1 in /usr/local/lib/python3.11/dist-packages (from requests->diffusers==0.35.0.dev0) (2.2.3)\n",
      "Requirement already satisfied: certifi>=2017.4.17 in /usr/local/lib/python3.11/dist-packages (from requests->diffusers==0.35.0.dev0) (2024.8.30)\n",
      "Building wheels for collected packages: diffusers\n",
      "  Building wheel for diffusers (pyproject.toml) ... \u001b[?25ldone\n",
      "\u001b[?25h  Created wheel for diffusers: filename=diffusers-0.35.0.dev0-py3-none-any.whl size=3941241 sha256=cf94590ddcbcc6a5db64db08e6f9577743bc5d26071bc3bf2c2f23dfdffd779a\n",
      "  Stored in directory: /tmp/pip-ephem-wheel-cache-o6mg0o36/wheels/a1/ef/6a/3ca5a827bc9370215ec33c7a91527ca9415102c7fff40d00be\n",
      "Successfully built diffusers\n",
      "Installing collected packages: diffusers\n",
      "Successfully installed diffusers-0.35.0.dev0\n",
      "\u001b[33mWARNING: Running pip as the 'root' user can result in broken permissions and conflicting behaviour with the system package manager, possibly rendering your system unusable. It is recommended to use a virtual environment instead: https://pip.pypa.io/warnings/venv. Use the --root-user-action option if you know what you are doing and want to suppress this warning.\u001b[0m\u001b[33m\n",
      "\u001b[0m"
     ]
    }
   ],
   "source": [
    "!pip uninstall -y diffusers\n",
    "!pip install git+https://github.com/huggingface/diffusers.git@main"
   ]
  },
  {
   "cell_type": "code",
   "execution_count": 39,
   "id": "4fcafb5d-82b4-434a-8b81-acaebea70b49",
   "metadata": {},
   "outputs": [
    {
     "name": "stdout",
     "output_type": "stream",
     "text": [
      "Contents: ['Untitled.ipynb', 'sd3_local', 'test.ipynb', '.git', 'lora_dataset.json', 'lora.ipynb', 'dataset', 'dataset.zip', 'start.ipynb', '.ipynb_checkpoints']\n"
     ]
    },
    {
     "ename": "ValueError",
     "evalue": "You cannot set `low_cpu_mem_usage` to `False` while using device_map={'': 'cuda'} for loading and dispatching. Please make sure to set `low_cpu_mem_usage=True`.",
     "output_type": "error",
     "traceback": [
      "\u001b[0;31m---------------------------------------------------------------------------\u001b[0m",
      "\u001b[0;31mValueError\u001b[0m                                Traceback (most recent call last)",
      "Cell \u001b[0;32mIn[39], line 12\u001b[0m\n\u001b[1;32m      8\u001b[0m \u001b[38;5;28mprint\u001b[39m(\u001b[38;5;124m\"\u001b[39m\u001b[38;5;124mContents:\u001b[39m\u001b[38;5;124m\"\u001b[39m, os\u001b[38;5;241m.\u001b[39mlistdir())\n\u001b[1;32m     10\u001b[0m \u001b[38;5;28;01mfrom\u001b[39;00m \u001b[38;5;21;01mdiffusers\u001b[39;00m \u001b[38;5;28;01mimport\u001b[39;00m UNet2DConditionModel\n\u001b[0;32m---> 12\u001b[0m unet \u001b[38;5;241m=\u001b[39m \u001b[43mUNet2DConditionModel\u001b[49m\u001b[38;5;241;43m.\u001b[39;49m\u001b[43mfrom_pretrained\u001b[49m\u001b[43m(\u001b[49m\n\u001b[1;32m     13\u001b[0m \u001b[43m    \u001b[49m\u001b[38;5;124;43m\"\u001b[39;49m\u001b[38;5;124;43msd3_local\u001b[39;49m\u001b[38;5;124;43m\"\u001b[39;49m\u001b[43m,\u001b[49m\u001b[43m                \u001b[49m\u001b[38;5;66;43;03m# your locally-cloned SD3 repo\u001b[39;49;00m\n\u001b[1;32m     14\u001b[0m \u001b[43m    \u001b[49m\u001b[43msubfolder\u001b[49m\u001b[38;5;241;43m=\u001b[39;49m\u001b[38;5;124;43m\"\u001b[39;49m\u001b[38;5;124;43mtransformer\u001b[39;49m\u001b[38;5;124;43m\"\u001b[39;49m\u001b[43m,\u001b[49m\u001b[43m    \u001b[49m\u001b[38;5;66;43;03m# where config.json + safetensors live\u001b[39;49;00m\n\u001b[1;32m     15\u001b[0m \u001b[43m    \u001b[49m\u001b[43mtorch_dtype\u001b[49m\u001b[38;5;241;43m=\u001b[39;49m\u001b[43mtorch\u001b[49m\u001b[38;5;241;43m.\u001b[39;49m\u001b[43mfloat16\u001b[49m\u001b[43m,\u001b[49m\n\u001b[1;32m     16\u001b[0m \u001b[43m    \u001b[49m\u001b[43mdevice_map\u001b[49m\u001b[38;5;241;43m=\u001b[39;49m\u001b[43m{\u001b[49m\u001b[38;5;124;43m\"\u001b[39;49m\u001b[38;5;124;43m\"\u001b[39;49m\u001b[43m:\u001b[49m\u001b[43m \u001b[49m\u001b[38;5;124;43m\"\u001b[39;49m\u001b[38;5;124;43mcuda\u001b[39;49m\u001b[38;5;124;43m\"\u001b[39;49m\u001b[43m}\u001b[49m\u001b[43m,\u001b[49m\u001b[43m          \u001b[49m\u001b[38;5;66;43;03m# dispatch modules to GPU(s)\u001b[39;49;00m\n\u001b[1;32m     17\u001b[0m \u001b[43m    \u001b[49m\u001b[43mlow_cpu_mem_usage\u001b[49m\u001b[38;5;241;43m=\u001b[39;49m\u001b[38;5;28;43;01mFalse\u001b[39;49;00m\u001b[43m,\u001b[49m\u001b[43m    \u001b[49m\u001b[38;5;66;43;03m# ← disable meta-tensor “low mem” mode\u001b[39;49;00m\n\u001b[1;32m     18\u001b[0m \u001b[43m    \u001b[49m\u001b[38;5;66;43;03m# optional: spill less-used weights back to CPU\u001b[39;49;00m\n\u001b[1;32m     19\u001b[0m \u001b[43m    \u001b[49m\u001b[43moffload_folder\u001b[49m\u001b[38;5;241;43m=\u001b[39;49m\u001b[38;5;124;43m\"\u001b[39;49m\u001b[38;5;124;43moffload\u001b[39;49m\u001b[38;5;124;43m\"\u001b[39;49m\u001b[43m,\u001b[49m\u001b[43m          \u001b[49m\n\u001b[1;32m     20\u001b[0m \u001b[43m    \u001b[49m\u001b[43moffload_state_dict_device\u001b[49m\u001b[38;5;241;43m=\u001b[39;49m\u001b[38;5;124;43m\"\u001b[39;49m\u001b[38;5;124;43mcpu\u001b[39;49m\u001b[38;5;124;43m\"\u001b[39;49m\u001b[43m,\u001b[49m\n\u001b[1;32m     21\u001b[0m \u001b[43m    \u001b[49m\u001b[43mlocal_files_only\u001b[49m\u001b[38;5;241;43m=\u001b[39;49m\u001b[38;5;28;43;01mTrue\u001b[39;49;00m\n\u001b[1;32m     22\u001b[0m \u001b[43m)\u001b[49m\n\u001b[1;32m     24\u001b[0m \u001b[38;5;66;03m# no .to(\"cuda\") call needed—device_map already placed it on CUDA\u001b[39;00m\n\u001b[1;32m     25\u001b[0m \u001b[38;5;28mprint\u001b[39m(\u001b[38;5;124m\"\u001b[39m\u001b[38;5;124mLoaded on\u001b[39m\u001b[38;5;124m\"\u001b[39m, \u001b[38;5;28mnext\u001b[39m(unet\u001b[38;5;241m.\u001b[39mparameters())\u001b[38;5;241m.\u001b[39mdevice)\n",
      "File \u001b[0;32m/usr/local/lib/python3.11/dist-packages/huggingface_hub/utils/_validators.py:114\u001b[0m, in \u001b[0;36mvalidate_hf_hub_args.<locals>._inner_fn\u001b[0;34m(*args, **kwargs)\u001b[0m\n\u001b[1;32m    111\u001b[0m \u001b[38;5;28;01mif\u001b[39;00m check_use_auth_token:\n\u001b[1;32m    112\u001b[0m     kwargs \u001b[38;5;241m=\u001b[39m smoothly_deprecate_use_auth_token(fn_name\u001b[38;5;241m=\u001b[39mfn\u001b[38;5;241m.\u001b[39m\u001b[38;5;18m__name__\u001b[39m, has_token\u001b[38;5;241m=\u001b[39mhas_token, kwargs\u001b[38;5;241m=\u001b[39mkwargs)\n\u001b[0;32m--> 114\u001b[0m \u001b[38;5;28;01mreturn\u001b[39;00m \u001b[43mfn\u001b[49m\u001b[43m(\u001b[49m\u001b[38;5;241;43m*\u001b[39;49m\u001b[43margs\u001b[49m\u001b[43m,\u001b[49m\u001b[43m \u001b[49m\u001b[38;5;241;43m*\u001b[39;49m\u001b[38;5;241;43m*\u001b[39;49m\u001b[43mkwargs\u001b[49m\u001b[43m)\u001b[49m\n",
      "File \u001b[0;32m/usr/local/lib/python3.11/dist-packages/diffusers/models/modeling_utils.py:968\u001b[0m, in \u001b[0;36mfrom_pretrained\u001b[0;34m(cls, pretrained_model_name_or_path, **kwargs)\u001b[0m\n\u001b[1;32m    961\u001b[0m     \u001b[38;5;28;01mraise\u001b[39;00m \u001b[38;5;167;01mNotImplementedError\u001b[39;00m(\n\u001b[1;32m    962\u001b[0m         \u001b[38;5;124m\"\u001b[39m\u001b[38;5;124mLoading and dispatching requires torch >= 1.9.0. Please either update your PyTorch version or set\u001b[39m\u001b[38;5;124m\"\u001b[39m\n\u001b[1;32m    963\u001b[0m         \u001b[38;5;124m\"\u001b[39m\u001b[38;5;124m `device_map=None`.\u001b[39m\u001b[38;5;124m\"\u001b[39m\n\u001b[1;32m    964\u001b[0m     )\n\u001b[1;32m    966\u001b[0m \u001b[38;5;28;01mif\u001b[39;00m low_cpu_mem_usage \u001b[38;5;129;01mis\u001b[39;00m \u001b[38;5;28;01mTrue\u001b[39;00m \u001b[38;5;129;01mand\u001b[39;00m \u001b[38;5;129;01mnot\u001b[39;00m is_torch_version(\u001b[38;5;124m\"\u001b[39m\u001b[38;5;124m>=\u001b[39m\u001b[38;5;124m\"\u001b[39m, \u001b[38;5;124m\"\u001b[39m\u001b[38;5;124m1.9.0\u001b[39m\u001b[38;5;124m\"\u001b[39m):\n\u001b[1;32m    967\u001b[0m     \u001b[38;5;28;01mraise\u001b[39;00m \u001b[38;5;167;01mNotImplementedError\u001b[39;00m(\n\u001b[0;32m--> 968\u001b[0m         \u001b[38;5;124m\"\u001b[39m\u001b[38;5;124mLow memory initialization requires torch >= 1.9.0. Please either update your PyTorch version or set\u001b[39m\u001b[38;5;124m\"\u001b[39m\n\u001b[1;32m    969\u001b[0m         \u001b[38;5;124m\"\u001b[39m\u001b[38;5;124m `low_cpu_mem_usage=False`.\u001b[39m\u001b[38;5;124m\"\u001b[39m\n\u001b[1;32m    970\u001b[0m     )\n\u001b[1;32m    972\u001b[0m \u001b[38;5;28;01mif\u001b[39;00m low_cpu_mem_usage \u001b[38;5;129;01mis\u001b[39;00m \u001b[38;5;28;01mFalse\u001b[39;00m \u001b[38;5;129;01mand\u001b[39;00m device_map \u001b[38;5;129;01mis\u001b[39;00m \u001b[38;5;129;01mnot\u001b[39;00m \u001b[38;5;28;01mNone\u001b[39;00m:\n\u001b[1;32m    973\u001b[0m     \u001b[38;5;28;01mraise\u001b[39;00m \u001b[38;5;167;01mValueError\u001b[39;00m(\n\u001b[1;32m    974\u001b[0m         \u001b[38;5;124mf\u001b[39m\u001b[38;5;124m\"\u001b[39m\u001b[38;5;124mYou cannot set `low_cpu_mem_usage` to `False` while using device_map=\u001b[39m\u001b[38;5;132;01m{\u001b[39;00mdevice_map\u001b[38;5;132;01m}\u001b[39;00m\u001b[38;5;124m for loading and\u001b[39m\u001b[38;5;124m\"\u001b[39m\n\u001b[1;32m    975\u001b[0m         \u001b[38;5;124m\"\u001b[39m\u001b[38;5;124m dispatching. Please make sure to set `low_cpu_mem_usage=True`.\u001b[39m\u001b[38;5;124m\"\u001b[39m\n\u001b[1;32m    976\u001b[0m     )\n",
      "\u001b[0;31mValueError\u001b[0m: You cannot set `low_cpu_mem_usage` to `False` while using device_map={'': 'cuda'} for loading and dispatching. Please make sure to set `low_cpu_mem_usage=True`."
     ]
    }
   ],
   "source": [
    "# import os, torch\n",
    "# from diffusers import UNet2DConditionModel\n",
    "\n",
    "# # adjust path if needed\n",
    "# transformer_dir = \"sd3_local/transformer\"\n",
    "\n",
    "# # sanity check\n",
    "# print(\"Contents:\", os.listdir())\n",
    "\n",
    "# from diffusers import UNet2DConditionModel\n",
    "\n",
    "# unet = UNet2DConditionModel.from_pretrained(\n",
    "#     \"sd3_local\",                # your locally-cloned SD3 repo\n",
    "#     subfolder=\"transformer\",    # where config.json + safetensors live\n",
    "#     torch_dtype=torch.float16,\n",
    "#     device_map={\"\": \"cuda\"},          # dispatch modules to GPU(s)\n",
    "#     low_cpu_mem_usage=False,    # ← disable meta-tensor “low mem” mode\n",
    "#     # optional: spill less-used weights back to CPU\n",
    "#     offload_folder=\"offload\",          \n",
    "#     offload_state_dict_device=\"cpu\",\n",
    "#     local_files_only=True\n",
    "# )\n",
    "\n",
    "# # no .to(\"cuda\") call needed—device_map already placed it on CUDA\n",
    "# print(\"Loaded on\", next(unet.parameters()).device)\n",
    "\n",
    "# print(\"✅ Loaded UNet:\", unet)\n"
   ]
  },
  {
   "cell_type": "code",
   "execution_count": 42,
   "id": "6aa0e26d-4379-48c3-ab67-1cef90f161e9",
   "metadata": {
    "scrolled": true
   },
   "outputs": [
    {
     "name": "stderr",
     "output_type": "stream",
     "text": [
      "Some weights of the model checkpoint at sd3_local were not used when initializing UNet2DConditionModel: \n",
      " ['transformer_blocks.6.attn.add_v_proj.bias, transformer_blocks.17.attn.add_k_proj.weight, transformer_blocks.4.attn.to_add_out.weight, transformer_blocks.20.attn.add_k_proj.bias, transformer_blocks.20.attn.add_q_proj.bias, transformer_blocks.4.attn.to_k.weight, transformer_blocks.5.ff_context.net.0.proj.weight, transformer_blocks.2.norm1.linear.weight, transformer_blocks.14.ff_context.net.2.bias, transformer_blocks.3.ff_context.net.2.bias, transformer_blocks.12.ff.net.0.proj.bias, transformer_blocks.20.attn.to_q.weight, transformer_blocks.10.ff.net.2.bias, transformer_blocks.8.ff.net.2.weight, transformer_blocks.19.attn.add_v_proj.bias, transformer_blocks.7.attn.add_k_proj.weight, transformer_blocks.8.ff_context.net.2.weight, transformer_blocks.13.ff.net.2.bias, transformer_blocks.17.attn.to_q.bias, transformer_blocks.8.attn.to_q.bias, transformer_blocks.1.norm1.linear.bias, transformer_blocks.23.attn.to_q.weight, transformer_blocks.14.ff_context.net.2.weight, transformer_blocks.4.ff.net.2.weight, transformer_blocks.7.attn.to_out.0.weight, time_text_embed.timestep_embedder.linear_2.bias, transformer_blocks.12.attn.add_q_proj.bias, transformer_blocks.5.attn.to_v.weight, transformer_blocks.4.attn.add_q_proj.weight, transformer_blocks.19.attn.to_v.bias, transformer_blocks.15.ff.net.0.proj.weight, transformer_blocks.3.ff.net.2.bias, transformer_blocks.9.ff_context.net.2.bias, transformer_blocks.17.attn.add_v_proj.bias, transformer_blocks.17.attn.add_k_proj.bias, transformer_blocks.1.ff_context.net.0.proj.bias, transformer_blocks.13.attn.to_out.0.bias, transformer_blocks.3.ff_context.net.0.proj.weight, transformer_blocks.3.attn.to_add_out.weight, transformer_blocks.22.ff_context.net.0.proj.weight, transformer_blocks.0.attn.to_out.0.weight, transformer_blocks.2.attn.to_v.bias, transformer_blocks.18.ff.net.0.proj.weight, transformer_blocks.14.norm1_context.linear.weight, transformer_blocks.20.attn.add_v_proj.weight, transformer_blocks.12.attn.to_q.weight, transformer_blocks.2.attn.to_q.weight, transformer_blocks.21.ff.net.2.bias, transformer_blocks.8.attn.add_v_proj.weight, transformer_blocks.14.attn.add_v_proj.weight, transformer_blocks.11.norm1_context.linear.bias, transformer_blocks.11.attn.to_out.0.bias, transformer_blocks.3.norm1.linear.weight, transformer_blocks.13.norm1_context.linear.bias, transformer_blocks.4.ff_context.net.2.bias, transformer_blocks.22.norm1.linear.weight, transformer_blocks.16.norm1_context.linear.bias, transformer_blocks.17.attn.to_v.weight, transformer_blocks.4.attn.add_v_proj.bias, transformer_blocks.19.ff.net.0.proj.weight, transformer_blocks.5.attn.to_out.0.bias, time_text_embed.text_embedder.linear_1.bias, transformer_blocks.18.attn.to_q.weight, transformer_blocks.9.attn.to_q.bias, transformer_blocks.17.ff.net.0.proj.weight, transformer_blocks.18.attn.add_v_proj.weight, transformer_blocks.11.attn.to_v.bias, pos_embed.proj.weight, transformer_blocks.14.attn.add_v_proj.bias, transformer_blocks.19.ff_context.net.2.bias, transformer_blocks.13.attn.to_add_out.weight, transformer_blocks.9.attn.to_out.0.weight, transformer_blocks.18.attn.add_k_proj.weight, transformer_blocks.7.norm1.linear.bias, transformer_blocks.5.attn.to_add_out.bias, transformer_blocks.9.ff.net.2.weight, transformer_blocks.8.attn.to_q.weight, transformer_blocks.15.attn.to_add_out.bias, transformer_blocks.17.norm1_context.linear.bias, transformer_blocks.3.ff.net.2.weight, transformer_blocks.7.attn.to_k.weight, transformer_blocks.9.attn.to_out.0.bias, transformer_blocks.6.attn.to_q.bias, transformer_blocks.1.attn.add_k_proj.bias, transformer_blocks.17.attn.add_v_proj.weight, transformer_blocks.1.ff.net.0.proj.weight, transformer_blocks.19.attn.to_out.0.bias, transformer_blocks.3.ff_context.net.0.proj.bias, transformer_blocks.1.attn.to_out.0.weight, transformer_blocks.9.attn.to_k.weight, transformer_blocks.22.attn.to_v.bias, transformer_blocks.3.attn.add_q_proj.weight, transformer_blocks.16.ff_context.net.0.proj.bias, transformer_blocks.21.ff.net.0.proj.weight, transformer_blocks.2.ff.net.2.weight, transformer_blocks.14.attn.to_add_out.bias, transformer_blocks.16.ff.net.2.weight, transformer_blocks.18.ff.net.0.proj.bias, transformer_blocks.22.attn.add_q_proj.weight, transformer_blocks.15.attn.add_v_proj.weight, transformer_blocks.3.attn.add_k_proj.weight, transformer_blocks.21.attn.to_v.weight, transformer_blocks.11.attn.to_add_out.weight, transformer_blocks.15.ff.net.0.proj.bias, transformer_blocks.15.attn.to_q.weight, transformer_blocks.13.attn.to_out.0.weight, transformer_blocks.5.ff_context.net.2.bias, transformer_blocks.7.ff.net.0.proj.weight, transformer_blocks.13.norm1.linear.bias, transformer_blocks.21.norm1.linear.weight, transformer_blocks.18.attn.add_v_proj.bias, transformer_blocks.19.norm1.linear.weight, transformer_blocks.22.ff.net.0.proj.weight, transformer_blocks.5.attn.to_add_out.weight, transformer_blocks.6.attn.to_k.weight, transformer_blocks.16.ff.net.2.bias, transformer_blocks.10.attn.to_add_out.bias, transformer_blocks.20.ff_context.net.0.proj.weight, transformer_blocks.4.attn.add_v_proj.weight, transformer_blocks.5.ff_context.net.0.proj.bias, transformer_blocks.9.attn.add_v_proj.bias, transformer_blocks.10.norm1.linear.bias, transformer_blocks.6.attn.to_out.0.bias, transformer_blocks.13.attn.add_q_proj.bias, transformer_blocks.2.ff_context.net.2.bias, transformer_blocks.18.attn.add_q_proj.bias, transformer_blocks.19.ff_context.net.0.proj.bias, transformer_blocks.2.attn.to_k.bias, transformer_blocks.3.attn.add_q_proj.bias, transformer_blocks.20.norm1_context.linear.weight, transformer_blocks.15.attn.to_k.weight, transformer_blocks.5.attn.add_v_proj.weight, transformer_blocks.15.ff.net.2.bias, transformer_blocks.14.attn.to_v.weight, transformer_blocks.22.norm1.linear.bias, transformer_blocks.6.attn.to_v.weight, transformer_blocks.14.norm1_context.linear.bias, transformer_blocks.1.attn.to_q.weight, transformer_blocks.11.norm1.linear.weight, transformer_blocks.14.attn.to_q.weight, transformer_blocks.6.ff.net.0.proj.bias, transformer_blocks.17.ff.net.2.bias, transformer_blocks.21.ff.net.0.proj.bias, transformer_blocks.7.attn.to_add_out.bias, transformer_blocks.9.attn.add_v_proj.weight, transformer_blocks.15.norm1_context.linear.weight, transformer_blocks.5.attn.to_v.bias, transformer_blocks.13.ff_context.net.2.weight, transformer_blocks.5.attn.to_out.0.weight, transformer_blocks.16.norm1_context.linear.weight, transformer_blocks.1.norm1_context.linear.weight, transformer_blocks.8.ff.net.2.bias, transformer_blocks.7.attn.add_q_proj.weight, transformer_blocks.9.attn.to_v.weight, transformer_blocks.18.norm1.linear.bias, transformer_blocks.17.attn.to_k.bias, transformer_blocks.14.attn.to_out.0.bias, transformer_blocks.9.attn.to_q.weight, transformer_blocks.10.attn.to_q.bias, transformer_blocks.3.ff_context.net.2.weight, transformer_blocks.0.ff_context.net.0.proj.bias, transformer_blocks.16.ff.net.0.proj.weight, time_text_embed.timestep_embedder.linear_1.bias, transformer_blocks.15.attn.to_q.bias, transformer_blocks.1.ff.net.2.bias, transformer_blocks.0.attn.to_v.weight, transformer_blocks.0.ff_context.net.0.proj.weight, transformer_blocks.16.attn.to_k.bias, transformer_blocks.21.attn.to_out.0.weight, transformer_blocks.13.attn.to_v.weight, transformer_blocks.12.norm1.linear.weight, transformer_blocks.6.ff.net.2.weight, transformer_blocks.7.attn.add_v_proj.weight, transformer_blocks.23.ff.net.0.proj.weight, transformer_blocks.17.norm1.linear.bias, transformer_blocks.20.attn.to_add_out.weight, transformer_blocks.4.attn.to_out.0.weight, transformer_blocks.10.attn.to_v.bias, transformer_blocks.20.ff.net.2.weight, transformer_blocks.8.attn.to_add_out.weight, transformer_blocks.7.attn.to_v.weight, transformer_blocks.21.attn.to_k.weight, transformer_blocks.21.ff_context.net.0.proj.bias, transformer_blocks.22.attn.to_k.bias, transformer_blocks.23.attn.to_q.bias, transformer_blocks.1.attn.to_k.bias, transformer_blocks.6.attn.add_v_proj.weight, transformer_blocks.0.ff_context.net.2.bias, transformer_blocks.2.ff_context.net.0.proj.bias, transformer_blocks.11.attn.to_v.weight, transformer_blocks.18.attn.to_q.bias, transformer_blocks.1.ff.net.2.weight, transformer_blocks.11.ff_context.net.2.bias, transformer_blocks.8.attn.add_q_proj.bias, transformer_blocks.18.ff.net.2.weight, transformer_blocks.4.attn.to_q.bias, transformer_blocks.23.attn.add_q_proj.bias, transformer_blocks.14.attn.add_q_proj.bias, transformer_blocks.21.attn.add_v_proj.weight, transformer_blocks.14.attn.to_add_out.weight, transformer_blocks.21.attn.add_q_proj.weight, transformer_blocks.20.norm1.linear.bias, transformer_blocks.20.attn.to_add_out.bias, transformer_blocks.17.ff_context.net.0.proj.bias, transformer_blocks.16.attn.to_add_out.weight, transformer_blocks.4.attn.to_add_out.bias, transformer_blocks.21.attn.add_v_proj.bias, transformer_blocks.0.attn.add_k_proj.bias, transformer_blocks.23.ff.net.0.proj.bias, transformer_blocks.12.ff_context.net.0.proj.weight, transformer_blocks.15.ff_context.net.0.proj.bias, transformer_blocks.5.ff.net.0.proj.weight, transformer_blocks.16.ff_context.net.0.proj.weight, transformer_blocks.1.attn.to_k.weight, transformer_blocks.6.ff_context.net.2.bias, transformer_blocks.18.norm1_context.linear.weight, transformer_blocks.10.ff.net.0.proj.bias, transformer_blocks.15.ff_context.net.2.weight, transformer_blocks.23.ff.net.2.bias, transformer_blocks.4.norm1.linear.weight, transformer_blocks.6.attn.to_add_out.bias, transformer_blocks.3.attn.to_out.0.weight, transformer_blocks.5.norm1_context.linear.weight, transformer_blocks.14.ff.net.0.proj.bias, transformer_blocks.3.attn.to_v.weight, transformer_blocks.19.norm1_context.linear.weight, transformer_blocks.7.norm1_context.linear.bias, transformer_blocks.7.attn.to_v.bias, transformer_blocks.1.norm1.linear.weight, transformer_blocks.12.attn.add_k_proj.weight, transformer_blocks.12.norm1_context.linear.bias, transformer_blocks.0.attn.add_k_proj.weight, transformer_blocks.1.attn.add_k_proj.weight, transformer_blocks.8.attn.to_v.weight, transformer_blocks.11.attn.to_k.bias, transformer_blocks.9.attn.add_k_proj.bias, transformer_blocks.9.ff.net.0.proj.weight, transformer_blocks.0.attn.to_k.weight, transformer_blocks.12.attn.to_q.bias, transformer_blocks.4.ff.net.0.proj.bias, transformer_blocks.20.ff_context.net.2.bias, transformer_blocks.8.ff.net.0.proj.weight, transformer_blocks.13.attn.to_k.weight, transformer_blocks.15.attn.to_v.bias, transformer_blocks.11.attn.to_out.0.weight, transformer_blocks.5.attn.add_k_proj.bias, transformer_blocks.22.attn.to_out.0.weight, transformer_blocks.5.norm1.linear.bias, transformer_blocks.10.attn.to_add_out.weight, transformer_blocks.3.attn.add_k_proj.bias, transformer_blocks.6.ff_context.net.0.proj.weight, transformer_blocks.17.ff_context.net.2.weight, transformer_blocks.0.ff.net.0.proj.bias, transformer_blocks.18.attn.to_k.weight, time_text_embed.text_embedder.linear_2.bias, transformer_blocks.1.attn.add_v_proj.bias, transformer_blocks.8.attn.to_out.0.bias, transformer_blocks.1.attn.to_out.0.bias, transformer_blocks.0.attn.to_k.bias, transformer_blocks.20.ff_context.net.2.weight, transformer_blocks.17.attn.to_out.0.weight, transformer_blocks.6.attn.add_q_proj.bias, transformer_blocks.10.attn.add_k_proj.weight, transformer_blocks.23.norm1.linear.bias, transformer_blocks.0.attn.to_add_out.weight, transformer_blocks.10.attn.to_v.weight, transformer_blocks.11.ff.net.0.proj.weight, transformer_blocks.8.ff_context.net.2.bias, transformer_blocks.20.attn.add_q_proj.weight, transformer_blocks.2.attn.add_q_proj.weight, transformer_blocks.14.attn.add_k_proj.bias, transformer_blocks.22.attn.to_out.0.bias, transformer_blocks.3.attn.add_v_proj.bias, transformer_blocks.11.attn.to_add_out.bias, transformer_blocks.7.ff_context.net.0.proj.weight, transformer_blocks.22.ff_context.net.2.bias, transformer_blocks.21.norm1_context.linear.weight, transformer_blocks.4.attn.add_k_proj.weight, transformer_blocks.23.attn.to_out.0.bias, transformer_blocks.23.norm1_context.linear.bias, transformer_blocks.12.attn.to_k.bias, transformer_blocks.23.attn.to_v.bias, transformer_blocks.18.attn.to_v.bias, transformer_blocks.9.attn.add_q_proj.bias, transformer_blocks.11.norm1_context.linear.weight, transformer_blocks.10.attn.add_v_proj.bias, transformer_blocks.13.ff_context.net.2.bias, transformer_blocks.22.ff.net.0.proj.bias, transformer_blocks.0.norm1.linear.weight, transformer_blocks.5.ff.net.0.proj.bias, transformer_blocks.6.norm1_context.linear.bias, transformer_blocks.10.attn.to_k.bias, transformer_blocks.0.attn.to_out.0.bias, transformer_blocks.8.norm1_context.linear.bias, transformer_blocks.14.attn.to_v.bias, transformer_blocks.7.ff.net.0.proj.bias, time_text_embed.timestep_embedder.linear_1.weight, transformer_blocks.15.attn.to_k.bias, transformer_blocks.18.attn.to_out.0.bias, transformer_blocks.6.ff_context.net.0.proj.bias, transformer_blocks.13.attn.to_k.bias, transformer_blocks.1.attn.add_q_proj.weight, transformer_blocks.2.ff.net.0.proj.weight, transformer_blocks.23.attn.to_v.weight, transformer_blocks.10.norm1_context.linear.bias, transformer_blocks.13.attn.add_q_proj.weight, transformer_blocks.0.attn.to_q.weight, transformer_blocks.20.attn.add_v_proj.bias, transformer_blocks.20.norm1.linear.weight, transformer_blocks.12.attn.to_add_out.bias, transformer_blocks.3.norm1.linear.bias, transformer_blocks.19.attn.add_k_proj.weight, transformer_blocks.1.ff_context.net.0.proj.weight, transformer_blocks.11.ff.net.2.weight, transformer_blocks.23.norm1.linear.weight, transformer_blocks.19.attn.to_k.bias, transformer_blocks.18.attn.to_k.bias, transformer_blocks.22.norm1_context.linear.bias, transformer_blocks.2.norm1_context.linear.weight, transformer_blocks.18.attn.add_q_proj.weight, transformer_blocks.4.ff_context.net.2.weight, transformer_blocks.2.ff_context.net.2.weight, transformer_blocks.15.norm1.linear.weight, transformer_blocks.6.attn.add_k_proj.bias, transformer_blocks.13.attn.to_add_out.bias, transformer_blocks.18.attn.add_k_proj.bias, transformer_blocks.6.norm1.linear.weight, transformer_blocks.7.attn.to_add_out.weight, transformer_blocks.19.norm1_context.linear.bias, transformer_blocks.12.ff.net.0.proj.weight, transformer_blocks.14.attn.to_q.bias, transformer_blocks.11.ff.net.2.bias, transformer_blocks.23.attn.to_k.bias, transformer_blocks.2.attn.add_v_proj.weight, transformer_blocks.5.norm1_context.linear.bias, transformer_blocks.4.ff_context.net.0.proj.bias, transformer_blocks.19.ff_context.net.2.weight, transformer_blocks.8.attn.to_k.weight, transformer_blocks.16.attn.add_k_proj.weight, transformer_blocks.6.attn.to_out.0.weight, transformer_blocks.12.attn.to_k.weight, transformer_blocks.14.attn.to_k.bias, transformer_blocks.16.ff_context.net.2.bias, transformer_blocks.2.attn.to_add_out.bias, transformer_blocks.19.attn.to_out.0.weight, transformer_blocks.10.attn.to_k.weight, transformer_blocks.10.ff_context.net.0.proj.bias, transformer_blocks.17.norm1.linear.weight, transformer_blocks.5.attn.to_q.weight, transformer_blocks.11.norm1.linear.bias, transformer_blocks.0.attn.to_q.bias, transformer_blocks.21.attn.to_q.bias, transformer_blocks.2.attn.to_q.bias, transformer_blocks.19.attn.to_k.weight, transformer_blocks.11.attn.add_q_proj.bias, transformer_blocks.23.attn.to_k.weight, transformer_blocks.6.norm1_context.linear.weight, transformer_blocks.1.norm1_context.linear.bias, transformer_blocks.8.norm1_context.linear.weight, transformer_blocks.13.ff_context.net.0.proj.weight, transformer_blocks.1.attn.add_q_proj.bias, transformer_blocks.19.attn.to_add_out.bias, transformer_blocks.22.attn.add_k_proj.weight, transformer_blocks.0.ff.net.0.proj.weight, transformer_blocks.18.ff_context.net.0.proj.bias, transformer_blocks.1.attn.to_add_out.weight, transformer_blocks.6.attn.to_k.bias, transformer_blocks.19.attn.to_q.weight, transformer_blocks.7.attn.to_q.bias, transformer_blocks.10.attn.to_out.0.weight, transformer_blocks.15.attn.to_out.0.weight, transformer_blocks.9.norm1_context.linear.bias, transformer_blocks.1.attn.to_v.weight, transformer_blocks.3.ff.net.0.proj.weight, transformer_blocks.12.attn.to_out.0.weight, transformer_blocks.12.attn.add_q_proj.weight, transformer_blocks.20.attn.to_v.weight, transformer_blocks.0.attn.add_v_proj.bias, transformer_blocks.6.attn.to_v.bias, transformer_blocks.9.attn.to_v.bias, time_text_embed.text_embedder.linear_2.weight, transformer_blocks.12.ff_context.net.0.proj.bias, transformer_blocks.16.attn.to_q.bias, transformer_blocks.12.ff.net.2.bias, transformer_blocks.11.ff_context.net.2.weight, transformer_blocks.10.ff.net.2.weight, transformer_blocks.2.norm1.linear.bias, transformer_blocks.6.attn.add_q_proj.weight, transformer_blocks.7.ff_context.net.2.bias, transformer_blocks.14.attn.to_out.0.weight, transformer_blocks.0.ff_context.net.2.weight, transformer_blocks.13.ff_context.net.0.proj.bias, transformer_blocks.5.ff_context.net.2.weight, transformer_blocks.13.attn.add_v_proj.bias, transformer_blocks.19.norm1.linear.bias, transformer_blocks.8.ff.net.0.proj.bias, transformer_blocks.11.attn.to_q.bias, transformer_blocks.9.ff.net.2.bias, transformer_blocks.0.ff.net.2.bias, transformer_blocks.6.ff.net.0.proj.weight, transformer_blocks.18.norm1_context.linear.bias, transformer_blocks.22.norm1_context.linear.weight, transformer_blocks.15.attn.add_q_proj.bias, transformer_blocks.5.attn.to_k.weight, transformer_blocks.13.norm1_context.linear.weight, time_text_embed.timestep_embedder.linear_2.weight, transformer_blocks.19.ff.net.2.bias, transformer_blocks.13.attn.to_q.weight, transformer_blocks.22.ff.net.2.weight, transformer_blocks.7.ff.net.2.bias, transformer_blocks.3.attn.to_k.weight, transformer_blocks.21.attn.to_add_out.weight, transformer_blocks.3.attn.add_v_proj.weight, transformer_blocks.8.attn.add_v_proj.bias, transformer_blocks.12.ff_context.net.2.bias, transformer_blocks.21.norm1_context.linear.bias, transformer_blocks.15.norm1.linear.bias, transformer_blocks.20.ff_context.net.0.proj.bias, transformer_blocks.4.attn.to_k.bias, transformer_blocks.13.ff.net.0.proj.weight, transformer_blocks.22.attn.to_q.bias, transformer_blocks.6.attn.to_add_out.weight, transformer_blocks.19.attn.to_q.bias, transformer_blocks.21.ff_context.net.2.bias, transformer_blocks.7.ff_context.net.2.weight, transformer_blocks.10.ff_context.net.2.bias, transformer_blocks.23.attn.add_q_proj.weight, transformer_blocks.5.attn.add_q_proj.weight, transformer_blocks.8.attn.add_k_proj.weight, transformer_blocks.11.ff.net.0.proj.bias, transformer_blocks.19.attn.to_v.weight, transformer_blocks.22.attn.to_add_out.weight, transformer_blocks.10.ff_context.net.2.weight, transformer_blocks.10.attn.add_q_proj.bias, transformer_blocks.15.attn.add_q_proj.weight, transformer_blocks.17.ff.net.2.weight, transformer_blocks.11.ff_context.net.0.proj.bias, transformer_blocks.18.norm1.linear.weight, transformer_blocks.7.ff_context.net.0.proj.bias, transformer_blocks.15.ff.net.2.weight, transformer_blocks.7.attn.to_k.bias, transformer_blocks.12.attn.to_v.bias, transformer_blocks.11.attn.add_v_proj.bias, transformer_blocks.19.attn.add_q_proj.weight, transformer_blocks.23.norm1_context.linear.weight, transformer_blocks.12.attn.add_v_proj.bias, transformer_blocks.11.attn.add_v_proj.weight, transformer_blocks.15.norm1_context.linear.bias, transformer_blocks.17.attn.add_q_proj.weight, transformer_blocks.10.ff.net.0.proj.weight, transformer_blocks.2.attn.add_k_proj.weight, transformer_blocks.1.attn.add_v_proj.weight, transformer_blocks.16.norm1.linear.weight, transformer_blocks.20.attn.to_out.0.weight, transformer_blocks.6.ff_context.net.2.weight, transformer_blocks.17.ff.net.0.proj.bias, transformer_blocks.7.attn.add_q_proj.bias, transformer_blocks.14.norm1.linear.bias, transformer_blocks.7.ff.net.2.weight, transformer_blocks.17.attn.to_k.weight, transformer_blocks.22.attn.add_k_proj.bias, transformer_blocks.0.norm1_context.linear.bias, transformer_blocks.22.attn.to_v.weight, transformer_blocks.4.norm1.linear.bias, transformer_blocks.21.norm1.linear.bias, transformer_blocks.21.attn.add_k_proj.weight, transformer_blocks.12.ff.net.2.weight, transformer_blocks.21.attn.to_k.bias, transformer_blocks.4.ff.net.2.bias, transformer_blocks.16.attn.to_v.weight, transformer_blocks.17.attn.to_out.0.bias, transformer_blocks.4.ff_context.net.0.proj.weight, transformer_blocks.8.attn.to_v.bias, transformer_blocks.5.attn.to_k.bias, transformer_blocks.6.ff.net.2.bias, transformer_blocks.12.attn.add_k_proj.bias, transformer_blocks.0.attn.add_v_proj.weight, transformer_blocks.14.attn.add_k_proj.weight, transformer_blocks.3.ff.net.0.proj.bias, transformer_blocks.15.attn.to_add_out.weight, transformer_blocks.2.attn.to_v.weight, transformer_blocks.17.ff_context.net.2.bias, transformer_blocks.12.attn.to_v.weight, transformer_blocks.22.attn.add_q_proj.bias, transformer_blocks.8.attn.to_out.0.weight, transformer_blocks.12.norm1.linear.bias, transformer_blocks.16.norm1.linear.bias, transformer_blocks.1.attn.to_q.bias, transformer_blocks.22.attn.to_add_out.bias, transformer_blocks.16.attn.add_v_proj.weight, transformer_blocks.17.attn.to_q.weight, transformer_blocks.12.ff_context.net.2.weight, transformer_blocks.20.norm1_context.linear.bias, transformer_blocks.5.attn.add_k_proj.weight, transformer_blocks.7.norm1_context.linear.weight, transformer_blocks.2.ff.net.2.bias, transformer_blocks.3.attn.to_out.0.bias, transformer_blocks.23.attn.add_v_proj.bias, transformer_blocks.16.attn.add_q_proj.bias, transformer_blocks.3.norm1_context.linear.bias, transformer_blocks.16.ff_context.net.2.weight, transformer_blocks.2.attn.to_add_out.weight, transformer_blocks.7.attn.to_out.0.bias, transformer_blocks.5.ff.net.2.weight, transformer_blocks.15.ff_context.net.0.proj.weight, transformer_blocks.3.norm1_context.linear.weight, transformer_blocks.4.attn.add_k_proj.bias, transformer_blocks.23.attn.to_out.0.weight, transformer_blocks.15.attn.add_v_proj.bias, transformer_blocks.11.attn.add_k_proj.bias, transformer_blocks.13.ff.net.2.weight, norm_out.linear.weight, transformer_blocks.9.norm1.linear.bias, transformer_blocks.22.ff.net.2.bias, transformer_blocks.4.norm1_context.linear.bias, transformer_blocks.20.attn.to_k.bias, transformer_blocks.15.attn.add_k_proj.bias, transformer_blocks.5.attn.add_q_proj.bias, transformer_blocks.14.attn.add_q_proj.weight, transformer_blocks.22.attn.add_v_proj.bias, transformer_blocks.17.norm1_context.linear.weight, transformer_blocks.11.ff_context.net.0.proj.weight, transformer_blocks.11.attn.to_q.weight, transformer_blocks.2.attn.add_v_proj.bias, transformer_blocks.2.attn.to_out.0.bias, transformer_blocks.16.attn.to_out.0.weight, transformer_blocks.8.attn.to_add_out.bias, transformer_blocks.13.attn.add_k_proj.bias, transformer_blocks.15.attn.to_v.weight, transformer_blocks.9.ff_context.net.0.proj.weight, transformer_blocks.8.norm1.linear.bias, transformer_blocks.15.attn.add_k_proj.weight, transformer_blocks.3.attn.to_k.bias, transformer_blocks.16.attn.add_v_proj.bias, transformer_blocks.13.attn.to_q.bias, transformer_blocks.4.attn.to_q.weight, transformer_blocks.8.attn.add_q_proj.weight, transformer_blocks.10.attn.add_v_proj.weight, transformer_blocks.7.attn.add_v_proj.bias, transformer_blocks.13.attn.to_v.bias, transformer_blocks.1.ff_context.net.2.weight, transformer_blocks.2.attn.add_k_proj.bias, transformer_blocks.16.attn.to_q.weight, transformer_blocks.0.attn.to_v.bias, transformer_blocks.18.attn.to_out.0.weight, transformer_blocks.14.attn.to_k.weight, time_text_embed.text_embedder.linear_1.weight, transformer_blocks.19.ff_context.net.0.proj.weight, transformer_blocks.3.attn.to_q.weight, transformer_blocks.6.attn.add_k_proj.weight, transformer_blocks.9.attn.add_k_proj.weight, transformer_blocks.10.attn.to_out.0.bias, transformer_blocks.18.attn.to_add_out.bias, context_embedder.weight, transformer_blocks.0.ff.net.2.weight, transformer_blocks.7.norm1.linear.weight, transformer_blocks.17.ff_context.net.0.proj.weight, transformer_blocks.5.ff.net.2.bias, transformer_blocks.22.attn.to_q.weight, transformer_blocks.5.attn.add_v_proj.bias, transformer_blocks.21.attn.add_q_proj.bias, transformer_blocks.10.norm1_context.linear.weight, transformer_blocks.23.attn.add_v_proj.weight, transformer_blocks.21.attn.to_q.weight, transformer_blocks.3.attn.to_v.bias, transformer_blocks.14.ff_context.net.0.proj.weight, transformer_blocks.5.attn.to_q.bias, transformer_blocks.9.ff_context.net.2.weight, transformer_blocks.4.ff.net.0.proj.weight, transformer_blocks.17.attn.to_add_out.bias, transformer_blocks.2.ff_context.net.0.proj.weight, transformer_blocks.10.norm1.linear.weight, transformer_blocks.7.attn.to_q.weight, proj_out.weight, transformer_blocks.20.attn.to_out.0.bias, transformer_blocks.8.attn.to_k.bias, transformer_blocks.18.attn.to_add_out.weight, transformer_blocks.16.attn.to_out.0.bias, transformer_blocks.8.norm1.linear.weight, transformer_blocks.17.attn.to_v.bias, transformer_blocks.19.ff.net.2.weight, transformer_blocks.20.attn.to_k.weight, transformer_blocks.18.ff.net.2.bias, transformer_blocks.3.attn.to_add_out.bias, transformer_blocks.17.attn.add_q_proj.bias, transformer_blocks.22.attn.add_v_proj.weight, transformer_blocks.9.attn.to_add_out.bias, transformer_blocks.4.norm1_context.linear.weight, transformer_blocks.2.attn.to_out.0.weight, transformer_blocks.1.ff.net.0.proj.bias, transformer_blocks.10.attn.add_q_proj.weight, transformer_blocks.10.ff_context.net.0.proj.weight, transformer_blocks.10.attn.add_k_proj.bias, transformer_blocks.18.ff_context.net.0.proj.weight, transformer_blocks.21.ff.net.2.weight, transformer_blocks.19.attn.to_add_out.weight, transformer_blocks.14.ff.net.0.proj.weight, transformer_blocks.11.attn.to_k.weight, transformer_blocks.13.attn.add_k_proj.weight, transformer_blocks.4.attn.to_v.weight, transformer_blocks.20.attn.to_q.bias, transformer_blocks.1.attn.to_add_out.bias, transformer_blocks.16.attn.add_q_proj.weight, transformer_blocks.17.attn.to_add_out.weight, transformer_blocks.18.attn.to_v.weight, transformer_blocks.2.attn.to_k.weight, transformer_blocks.0.attn.add_q_proj.bias, transformer_blocks.21.attn.add_k_proj.bias, transformer_blocks.12.attn.to_add_out.weight, transformer_blocks.20.ff.net.0.proj.bias, transformer_blocks.20.attn.add_k_proj.weight, transformer_blocks.4.attn.add_q_proj.bias, transformer_blocks.14.ff.net.2.weight, transformer_blocks.21.ff_context.net.2.weight, transformer_blocks.14.norm1.linear.weight, proj_out.bias, transformer_blocks.2.norm1_context.linear.bias, transformer_blocks.4.attn.to_v.bias, transformer_blocks.22.ff_context.net.0.proj.bias, transformer_blocks.20.ff.net.2.bias, transformer_blocks.18.ff_context.net.2.bias, transformer_blocks.22.attn.to_k.weight, transformer_blocks.0.attn.to_add_out.bias, transformer_blocks.5.norm1.linear.weight, transformer_blocks.16.attn.to_k.weight, transformer_blocks.8.attn.add_k_proj.bias, transformer_blocks.9.ff_context.net.0.proj.bias, transformer_blocks.23.attn.add_k_proj.weight, transformer_blocks.1.ff_context.net.2.bias, transformer_blocks.18.ff_context.net.2.weight, transformer_blocks.21.attn.to_out.0.bias, transformer_blocks.9.norm1.linear.weight, transformer_blocks.22.ff_context.net.2.weight, transformer_blocks.20.ff.net.0.proj.weight, transformer_blocks.23.ff.net.2.weight, transformer_blocks.9.attn.to_add_out.weight, transformer_blocks.21.attn.to_add_out.bias, transformer_blocks.12.norm1_context.linear.weight, transformer_blocks.8.ff_context.net.0.proj.bias, context_embedder.bias, transformer_blocks.0.norm1_context.linear.weight, transformer_blocks.11.attn.add_q_proj.weight, transformer_blocks.6.attn.to_q.weight, transformer_blocks.9.ff.net.0.proj.bias, transformer_blocks.20.attn.to_v.bias, transformer_blocks.13.attn.add_v_proj.weight, transformer_blocks.7.attn.add_k_proj.bias, transformer_blocks.1.attn.to_v.bias, transformer_blocks.15.ff_context.net.2.bias, pos_embed.proj.bias, transformer_blocks.19.attn.add_v_proj.weight, transformer_blocks.21.attn.to_v.bias, transformer_blocks.19.attn.add_k_proj.bias, transformer_blocks.2.ff.net.0.proj.bias, transformer_blocks.16.ff.net.0.proj.bias, transformer_blocks.9.attn.add_q_proj.weight, transformer_blocks.16.attn.to_v.bias, pos_embed.pos_embed, transformer_blocks.9.norm1_context.linear.weight, transformer_blocks.14.ff.net.2.bias, transformer_blocks.3.attn.to_q.bias, transformer_blocks.0.norm1.linear.bias, transformer_blocks.12.attn.to_out.0.bias, transformer_blocks.9.attn.to_k.bias, transformer_blocks.13.norm1.linear.weight, norm_out.linear.bias, transformer_blocks.21.ff_context.net.0.proj.weight, transformer_blocks.19.attn.add_q_proj.bias, transformer_blocks.0.attn.add_q_proj.weight, transformer_blocks.15.attn.to_out.0.bias, transformer_blocks.4.attn.to_out.0.bias, transformer_blocks.11.attn.add_k_proj.weight, transformer_blocks.8.ff_context.net.0.proj.weight, transformer_blocks.16.attn.add_k_proj.bias, transformer_blocks.13.ff.net.0.proj.bias, transformer_blocks.23.attn.add_k_proj.bias, transformer_blocks.10.attn.to_q.weight, transformer_blocks.14.ff_context.net.0.proj.bias, transformer_blocks.2.attn.add_q_proj.bias, transformer_blocks.16.attn.to_add_out.bias, transformer_blocks.12.attn.add_v_proj.weight, transformer_blocks.19.ff.net.0.proj.bias, transformer_blocks.6.norm1.linear.bias']\n",
      "Some weights of UNet2DConditionModel were not initialized from the model checkpoint at sd3_local and are newly initialized: ['up_blocks.2.attentions.1.transformer_blocks.0.attn2.to_k.weight', 'down_blocks.2.resnets.1.conv1.weight', 'mid_block.attentions.0.transformer_blocks.0.attn2.to_out.0.weight', 'up_blocks.2.attentions.0.transformer_blocks.0.attn1.to_out.0.bias', 'up_blocks.2.attentions.0.transformer_blocks.0.attn2.to_out.0.weight', 'up_blocks.2.attentions.1.transformer_blocks.0.norm3.weight', 'down_blocks.1.attentions.0.transformer_blocks.0.ff.net.0.proj.bias', 'up_blocks.3.resnets.2.norm2.weight', 'down_blocks.1.attentions.0.transformer_blocks.0.attn1.to_out.0.weight', 'down_blocks.0.resnets.1.conv2.weight', 'down_blocks.0.resnets.1.time_emb_proj.bias', 'up_blocks.3.attentions.2.transformer_blocks.0.norm3.bias', 'down_blocks.0.attentions.1.transformer_blocks.0.attn2.to_out.0.weight', 'down_blocks.3.resnets.1.conv2.weight', 'up_blocks.1.attentions.0.transformer_blocks.0.attn1.to_out.0.weight', 'down_blocks.1.attentions.1.transformer_blocks.0.ff.net.0.proj.bias', 'conv_norm_out.bias', 'mid_block.attentions.0.proj_in.bias', 'down_blocks.0.attentions.1.transformer_blocks.0.ff.net.2.weight', 'down_blocks.0.attentions.1.transformer_blocks.0.attn1.to_v.weight', 'up_blocks.0.resnets.0.conv2.weight', 'up_blocks.2.attentions.0.transformer_blocks.0.ff.net.2.bias', 'up_blocks.2.resnets.1.norm2.bias', 'down_blocks.2.resnets.1.conv2.weight', 'up_blocks.3.resnets.0.norm2.weight', 'down_blocks.0.attentions.0.transformer_blocks.0.attn1.to_out.0.weight', 'down_blocks.2.attentions.1.transformer_blocks.0.norm1.weight', 'down_blocks.0.attentions.0.norm.weight', 'down_blocks.0.attentions.0.transformer_blocks.0.norm1.bias', 'down_blocks.3.resnets.1.conv1.weight', 'up_blocks.1.resnets.2.conv_shortcut.weight', 'down_blocks.2.downsamplers.0.conv.bias', 'time_embedding.linear_2.bias', 'up_blocks.3.attentions.0.proj_out.weight', 'down_blocks.0.resnets.1.conv1.bias', 'down_blocks.1.attentions.1.transformer_blocks.0.ff.net.2.weight', 'down_blocks.2.attentions.1.transformer_blocks.0.attn1.to_q.weight', 'up_blocks.1.resnets.0.time_emb_proj.weight', 'up_blocks.1.resnets.0.time_emb_proj.bias', 'up_blocks.3.attentions.1.transformer_blocks.0.ff.net.0.proj.bias', 'up_blocks.2.attentions.2.transformer_blocks.0.norm3.weight', 'mid_block.resnets.0.norm1.bias', 'up_blocks.2.attentions.0.transformer_blocks.0.ff.net.0.proj.weight', 'up_blocks.3.attentions.1.transformer_blocks.0.attn1.to_v.weight', 'down_blocks.0.attentions.0.transformer_blocks.0.attn2.to_out.0.weight', 'down_blocks.1.resnets.0.conv1.weight', 'up_blocks.1.resnets.0.conv2.bias', 'up_blocks.0.resnets.1.conv1.weight', 'down_blocks.2.resnets.1.norm1.weight', 'down_blocks.2.attentions.0.transformer_blocks.0.ff.net.2.bias', 'up_blocks.1.attentions.0.norm.weight', 'up_blocks.1.upsamplers.0.conv.weight', 'down_blocks.1.resnets.0.conv2.weight', 'up_blocks.2.resnets.0.time_emb_proj.bias', 'up_blocks.2.attentions.0.proj_out.weight', 'mid_block.resnets.1.time_emb_proj.bias', 'down_blocks.1.attentions.0.transformer_blocks.0.attn2.to_q.weight', 'down_blocks.0.attentions.1.transformer_blocks.0.ff.net.0.proj.bias', 'down_blocks.2.attentions.1.transformer_blocks.0.norm3.bias', 'mid_block.attentions.0.transformer_blocks.0.norm3.weight', 'down_blocks.2.attentions.0.transformer_blocks.0.attn2.to_out.0.weight', 'up_blocks.1.attentions.1.transformer_blocks.0.ff.net.0.proj.weight', 'down_blocks.2.attentions.1.transformer_blocks.0.ff.net.2.weight', 'up_blocks.1.attentions.2.transformer_blocks.0.attn1.to_v.weight', 'up_blocks.3.attentions.1.transformer_blocks.0.attn2.to_q.weight', 'up_blocks.3.resnets.0.conv2.weight', 'down_blocks.2.attentions.0.transformer_blocks.0.norm3.weight', 'up_blocks.2.resnets.2.conv_shortcut.weight', 'up_blocks.1.attentions.2.norm.bias', 'mid_block.resnets.1.norm1.weight', 'up_blocks.2.attentions.2.proj_out.weight', 'mid_block.resnets.1.conv1.weight', 'up_blocks.3.attentions.0.transformer_blocks.0.attn2.to_out.0.weight', 'up_blocks.3.attentions.2.transformer_blocks.0.attn2.to_q.weight', 'up_blocks.1.resnets.2.time_emb_proj.bias', 'mid_block.resnets.1.conv1.bias', 'down_blocks.2.attentions.1.transformer_blocks.0.attn1.to_v.weight', 'up_blocks.1.resnets.2.norm2.weight', 'up_blocks.2.resnets.1.norm2.weight', 'up_blocks.2.resnets.2.norm2.bias', 'up_blocks.1.resnets.1.conv2.bias', 'up_blocks.3.resnets.1.conv1.bias', 'up_blocks.1.attentions.0.transformer_blocks.0.attn2.to_out.0.weight', 'up_blocks.3.attentions.1.transformer_blocks.0.attn1.to_out.0.bias', 'down_blocks.2.attentions.0.transformer_blocks.0.attn1.to_out.0.bias', 'mid_block.attentions.0.transformer_blocks.0.ff.net.0.proj.bias', 'down_blocks.2.resnets.1.conv1.bias', 'down_blocks.0.resnets.1.time_emb_proj.weight', 'up_blocks.1.attentions.0.transformer_blocks.0.ff.net.0.proj.bias', 'up_blocks.3.attentions.1.proj_out.bias', 'up_blocks.0.resnets.2.norm2.weight', 'up_blocks.3.attentions.0.transformer_blocks.0.norm2.weight', 'up_blocks.2.attentions.2.norm.bias', 'up_blocks.3.resnets.0.conv_shortcut.bias', 'mid_block.attentions.0.proj_out.bias', 'up_blocks.0.resnets.2.time_emb_proj.weight', 'up_blocks.2.resnets.1.conv2.weight', 'down_blocks.0.attentions.0.transformer_blocks.0.attn1.to_v.weight', 'up_blocks.1.attentions.1.transformer_blocks.0.ff.net.2.bias', 'up_blocks.1.resnets.0.norm2.bias', 'up_blocks.3.resnets.2.time_emb_proj.bias', 'down_blocks.2.attentions.1.proj_in.weight', 'up_blocks.1.attentions.1.transformer_blocks.0.norm1.weight', 'up_blocks.2.attentions.2.transformer_blocks.0.norm3.bias', 'down_blocks.0.attentions.1.transformer_blocks.0.ff.net.2.bias', 'up_blocks.0.resnets.0.conv1.weight', 'up_blocks.2.attentions.2.transformer_blocks.0.ff.net.0.proj.weight', 'down_blocks.0.attentions.0.transformer_blocks.0.attn2.to_v.weight', 'down_blocks.2.attentions.1.proj_out.bias', 'down_blocks.2.attentions.1.transformer_blocks.0.attn2.to_v.weight', 'down_blocks.0.resnets.0.conv2.weight', 'mid_block.attentions.0.transformer_blocks.0.norm1.bias', 'up_blocks.3.attentions.2.transformer_blocks.0.attn2.to_out.0.weight', 'up_blocks.3.attentions.0.transformer_blocks.0.ff.net.0.proj.weight', 'up_blocks.2.resnets.2.norm2.weight', 'up_blocks.3.attentions.2.transformer_blocks.0.norm1.weight', 'up_blocks.3.resnets.0.conv2.bias', 'up_blocks.3.attentions.2.proj_out.weight', 'up_blocks.1.resnets.2.conv2.bias', 'up_blocks.1.attentions.0.transformer_blocks.0.attn1.to_v.weight', 'up_blocks.1.attentions.0.transformer_blocks.0.attn2.to_k.weight', 'down_blocks.2.attentions.0.transformer_blocks.0.attn1.to_q.weight', 'up_blocks.3.attentions.1.transformer_blocks.0.ff.net.2.bias', 'down_blocks.2.attentions.1.transformer_blocks.0.attn1.to_out.0.weight', 'down_blocks.2.attentions.1.transformer_blocks.0.norm3.weight', 'up_blocks.1.attentions.2.transformer_blocks.0.norm3.weight', 'down_blocks.3.resnets.0.time_emb_proj.bias', 'up_blocks.2.attentions.0.transformer_blocks.0.attn1.to_q.weight', 'up_blocks.3.attentions.1.proj_in.bias', 'down_blocks.2.resnets.0.conv2.bias', 'up_blocks.1.attentions.2.transformer_blocks.0.attn2.to_k.weight', 'down_blocks.1.attentions.1.transformer_blocks.0.attn1.to_k.weight', 'down_blocks.1.resnets.0.norm1.weight', 'up_blocks.2.attentions.0.transformer_blocks.0.attn2.to_out.0.bias', 'down_blocks.1.attentions.1.transformer_blocks.0.norm3.bias', 'down_blocks.2.attentions.0.proj_out.weight', 'mid_block.resnets.1.conv2.weight', 'down_blocks.0.attentions.1.transformer_blocks.0.attn1.to_q.weight', 'conv_in.bias', 'down_blocks.1.attentions.1.transformer_blocks.0.attn2.to_q.weight', 'up_blocks.2.attentions.2.transformer_blocks.0.ff.net.0.proj.bias', 'up_blocks.2.attentions.0.proj_in.weight', 'up_blocks.2.attentions.2.transformer_blocks.0.attn2.to_out.0.bias', 'up_blocks.2.attentions.2.transformer_blocks.0.norm1.bias', 'up_blocks.3.resnets.0.conv1.bias', 'down_blocks.1.attentions.0.transformer_blocks.0.attn1.to_v.weight', 'up_blocks.2.resnets.1.norm1.bias', 'up_blocks.1.attentions.0.norm.bias', 'down_blocks.2.attentions.0.transformer_blocks.0.ff.net.2.weight', 'up_blocks.3.attentions.0.transformer_blocks.0.norm1.weight', 'mid_block.resnets.0.time_emb_proj.weight', 'down_blocks.1.resnets.1.conv2.weight', 'down_blocks.0.attentions.0.transformer_blocks.0.attn2.to_q.weight', 'down_blocks.0.attentions.1.proj_out.bias', 'down_blocks.1.attentions.0.transformer_blocks.0.attn2.to_out.0.weight', 'down_blocks.2.attentions.0.transformer_blocks.0.attn2.to_k.weight', 'up_blocks.1.attentions.2.proj_out.weight', 'down_blocks.1.attentions.0.transformer_blocks.0.norm1.weight', 'up_blocks.2.attentions.2.transformer_blocks.0.attn1.to_out.0.weight', 'down_blocks.2.resnets.0.norm2.weight', 'up_blocks.3.attentions.1.norm.weight', 'up_blocks.1.attentions.2.transformer_blocks.0.norm1.weight', 'mid_block.attentions.0.transformer_blocks.0.ff.net.2.bias', 'down_blocks.1.resnets.0.norm2.weight', 'up_blocks.3.attentions.2.proj_out.bias', 'down_blocks.0.attentions.0.transformer_blocks.0.norm2.weight', 'up_blocks.1.resnets.1.norm2.bias', 'up_blocks.1.attentions.2.transformer_blocks.0.ff.net.2.weight', 'up_blocks.1.resnets.1.conv_shortcut.bias', 'down_blocks.2.attentions.1.norm.bias', 'down_blocks.2.attentions.1.transformer_blocks.0.norm2.bias', 'up_blocks.2.attentions.2.proj_in.bias', 'down_blocks.2.resnets.0.norm2.bias', 'up_blocks.0.resnets.2.conv_shortcut.bias', 'down_blocks.0.attentions.1.transformer_blocks.0.attn1.to_k.weight', 'up_blocks.1.attentions.1.transformer_blocks.0.attn1.to_out.0.weight', 'down_blocks.2.resnets.0.time_emb_proj.bias', 'up_blocks.3.attentions.1.transformer_blocks.0.norm3.weight', 'up_blocks.3.attentions.2.transformer_blocks.0.attn1.to_k.weight', 'up_blocks.3.resnets.1.conv_shortcut.bias', 'up_blocks.1.attentions.2.transformer_blocks.0.ff.net.2.bias', 'down_blocks.1.resnets.0.conv2.bias', 'up_blocks.3.attentions.2.proj_in.weight', 'down_blocks.2.attentions.1.transformer_blocks.0.attn2.to_k.weight', 'up_blocks.3.resnets.1.norm1.weight', 'up_blocks.3.attentions.1.transformer_blocks.0.attn1.to_k.weight', 'down_blocks.0.attentions.1.transformer_blocks.0.norm2.bias', 'up_blocks.3.attentions.1.proj_in.weight', 'down_blocks.1.attentions.0.transformer_blocks.0.attn2.to_out.0.bias', 'down_blocks.3.resnets.0.conv2.bias', 'up_blocks.1.attentions.1.transformer_blocks.0.attn1.to_q.weight', 'up_blocks.2.attentions.2.norm.weight', 'up_blocks.3.attentions.0.transformer_blocks.0.norm3.weight', 'up_blocks.3.resnets.1.conv2.bias', 'up_blocks.1.attentions.2.transformer_blocks.0.attn1.to_k.weight', 'up_blocks.2.attentions.1.norm.weight', 'up_blocks.0.resnets.0.time_emb_proj.weight', 'down_blocks.0.attentions.0.transformer_blocks.0.norm3.weight', 'down_blocks.2.attentions.0.transformer_blocks.0.ff.net.0.proj.bias', 'up_blocks.2.attentions.1.transformer_blocks.0.norm1.weight', 'up_blocks.1.attentions.2.transformer_blocks.0.ff.net.0.proj.bias', 'up_blocks.3.attentions.2.transformer_blocks.0.attn2.to_k.weight', 'conv_out.bias', 'up_blocks.3.attentions.0.transformer_blocks.0.attn2.to_out.0.bias', 'up_blocks.2.attentions.2.transformer_blocks.0.attn2.to_out.0.weight', 'down_blocks.3.resnets.1.conv1.bias', 'down_blocks.0.attentions.1.transformer_blocks.0.norm1.weight', 'up_blocks.1.attentions.0.proj_in.bias', 'up_blocks.2.resnets.0.norm2.bias', 'up_blocks.3.attentions.0.transformer_blocks.0.ff.net.2.bias', 'up_blocks.2.resnets.2.conv2.bias', 'up_blocks.1.attentions.1.transformer_blocks.0.ff.net.2.weight', 'up_blocks.1.attentions.2.transformer_blocks.0.attn2.to_out.0.weight', 'up_blocks.2.attentions.0.transformer_blocks.0.attn2.to_k.weight', 'up_blocks.3.attentions.0.proj_in.weight', 'up_blocks.1.attentions.2.transformer_blocks.0.norm3.bias', 'up_blocks.2.resnets.2.time_emb_proj.weight', 'up_blocks.3.attentions.0.proj_in.bias', 'up_blocks.2.resnets.1.time_emb_proj.weight', 'down_blocks.0.resnets.0.norm1.weight', 'down_blocks.2.attentions.0.transformer_blocks.0.norm1.weight', 'up_blocks.2.attentions.0.transformer_blocks.0.attn2.to_v.weight', 'down_blocks.0.attentions.0.transformer_blocks.0.attn2.to_out.0.bias', 'up_blocks.1.attentions.2.transformer_blocks.0.ff.net.0.proj.weight', 'up_blocks.3.attentions.2.transformer_blocks.0.attn1.to_out.0.bias', 'up_blocks.2.resnets.2.norm1.bias', 'down_blocks.3.resnets.0.conv1.weight', 'up_blocks.1.resnets.0.conv_shortcut.bias', 'down_blocks.0.attentions.0.transformer_blocks.0.ff.net.0.proj.bias', 'up_blocks.1.attentions.2.transformer_blocks.0.norm2.bias', 'mid_block.attentions.0.transformer_blocks.0.ff.net.2.weight', 'up_blocks.2.attentions.0.transformer_blocks.0.norm3.bias', 'up_blocks.2.attentions.2.transformer_blocks.0.attn2.to_v.weight', 'up_blocks.3.attentions.1.transformer_blocks.0.attn2.to_k.weight', 'up_blocks.3.attentions.2.transformer_blocks.0.attn2.to_out.0.bias', 'down_blocks.3.resnets.1.conv2.bias', 'up_blocks.1.resnets.1.time_emb_proj.bias', 'up_blocks.3.attentions.0.transformer_blocks.0.attn1.to_v.weight', 'up_blocks.3.resnets.2.conv1.bias', 'down_blocks.2.attentions.1.transformer_blocks.0.norm2.weight', 'down_blocks.2.resnets.0.norm1.weight', 'up_blocks.3.resnets.1.conv2.weight', 'down_blocks.0.attentions.0.transformer_blocks.0.attn1.to_k.weight', 'mid_block.resnets.0.conv2.bias', 'down_blocks.2.attentions.1.transformer_blocks.0.ff.net.2.bias', 'up_blocks.2.attentions.1.norm.bias', 'down_blocks.0.resnets.0.norm2.bias', 'up_blocks.2.attentions.1.transformer_blocks.0.attn1.to_k.weight', 'mid_block.attentions.0.transformer_blocks.0.norm2.bias', 'down_blocks.3.resnets.1.norm2.bias', 'up_blocks.1.resnets.2.time_emb_proj.weight', 'up_blocks.1.attentions.1.transformer_blocks.0.attn1.to_k.weight', 'up_blocks.3.resnets.2.norm1.weight', 'up_blocks.2.resnets.2.time_emb_proj.bias', 'down_blocks.1.attentions.0.norm.bias', 'up_blocks.3.attentions.0.transformer_blocks.0.attn2.to_k.weight', 'down_blocks.2.attentions.1.transformer_blocks.0.attn2.to_out.0.bias', 'down_blocks.2.attentions.1.transformer_blocks.0.ff.net.0.proj.weight', 'up_blocks.1.resnets.0.norm1.weight', 'mid_block.resnets.1.norm2.weight', 'mid_block.attentions.0.proj_out.weight', 'down_blocks.1.attentions.0.proj_in.weight', 'up_blocks.3.resnets.1.time_emb_proj.weight', 'up_blocks.2.attentions.0.transformer_blocks.0.norm3.weight', 'up_blocks.3.attentions.1.proj_out.weight', 'up_blocks.3.resnets.0.norm1.weight', 'down_blocks.1.attentions.0.transformer_blocks.0.ff.net.0.proj.weight', 'up_blocks.1.attentions.1.transformer_blocks.0.norm3.weight', 'up_blocks.1.attentions.0.transformer_blocks.0.norm1.weight', 'up_blocks.1.attentions.0.transformer_blocks.0.norm3.weight', 'down_blocks.2.resnets.0.conv1.weight', 'up_blocks.1.resnets.1.time_emb_proj.weight', 'down_blocks.0.resnets.0.conv2.bias', 'up_blocks.3.attentions.0.proj_out.bias', 'up_blocks.3.attentions.1.transformer_blocks.0.norm3.bias', 'up_blocks.2.attentions.0.transformer_blocks.0.ff.net.0.proj.bias', 'up_blocks.2.resnets.1.conv1.bias', 'down_blocks.2.attentions.0.proj_in.weight', 'down_blocks.0.resnets.1.conv1.weight', 'down_blocks.1.attentions.0.transformer_blocks.0.attn1.to_out.0.bias', 'down_blocks.3.resnets.0.norm1.bias', 'up_blocks.1.attentions.0.transformer_blocks.0.ff.net.2.bias', 'up_blocks.3.resnets.2.norm2.bias', 'down_blocks.1.attentions.1.proj_out.bias', 'mid_block.attentions.0.transformer_blocks.0.attn2.to_q.weight', 'up_blocks.3.attentions.2.transformer_blocks.0.norm2.weight', 'down_blocks.2.attentions.1.transformer_blocks.0.ff.net.0.proj.bias', 'down_blocks.1.attentions.0.transformer_blocks.0.attn1.to_q.weight', 'down_blocks.1.resnets.0.time_emb_proj.bias', 'up_blocks.0.resnets.1.conv1.bias', 'down_blocks.2.resnets.1.time_emb_proj.bias', 'up_blocks.2.resnets.0.conv_shortcut.weight', 'down_blocks.1.attentions.1.transformer_blocks.0.attn2.to_out.0.weight', 'up_blocks.2.attentions.0.transformer_blocks.0.norm1.weight', 'up_blocks.0.resnets.2.conv1.weight', 'up_blocks.1.resnets.1.conv1.bias', 'up_blocks.3.resnets.2.conv2.weight', 'up_blocks.0.resnets.2.norm1.bias', 'up_blocks.2.attentions.1.transformer_blocks.0.ff.net.0.proj.weight', 'down_blocks.0.attentions.0.proj_out.bias', 'up_blocks.2.attentions.1.transformer_blocks.0.attn1.to_q.weight', 'up_blocks.1.attentions.0.transformer_blocks.0.norm2.bias', 'down_blocks.3.resnets.0.norm2.bias', 'up_blocks.3.attentions.2.transformer_blocks.0.norm1.bias', 'up_blocks.1.resnets.2.conv1.weight', 'up_blocks.3.attentions.0.transformer_blocks.0.norm2.bias', 'down_blocks.0.resnets.1.conv2.bias', 'up_blocks.0.resnets.0.time_emb_proj.bias', 'down_blocks.1.attentions.1.transformer_blocks.0.norm2.bias', 'down_blocks.2.resnets.1.conv2.bias', 'up_blocks.1.attentions.1.transformer_blocks.0.norm2.bias', 'mid_block.attentions.0.proj_in.weight', 'down_blocks.1.attentions.1.proj_in.weight', 'down_blocks.2.resnets.0.conv1.bias', 'up_blocks.1.attentions.2.transformer_blocks.0.attn1.to_out.0.bias', 'up_blocks.2.attentions.1.transformer_blocks.0.norm2.weight', 'up_blocks.2.attentions.0.transformer_blocks.0.attn2.to_q.weight', 'up_blocks.1.resnets.2.norm1.bias', 'down_blocks.0.attentions.0.transformer_blocks.0.norm2.bias', 'down_blocks.2.downsamplers.0.conv.weight', 'up_blocks.2.attentions.1.proj_out.weight', 'up_blocks.2.resnets.0.conv1.weight', 'up_blocks.2.resnets.0.norm2.weight', 'up_blocks.3.attentions.2.proj_in.bias', 'mid_block.attentions.0.transformer_blocks.0.attn1.to_out.0.weight', 'down_blocks.3.resnets.0.conv1.bias', 'down_blocks.0.attentions.1.transformer_blocks.0.attn2.to_v.weight', 'up_blocks.0.resnets.1.conv2.weight', 'up_blocks.2.attentions.0.transformer_blocks.0.norm2.bias', 'up_blocks.2.attentions.0.transformer_blocks.0.norm1.bias', 'up_blocks.0.upsamplers.0.conv.weight', 'up_blocks.3.attentions.1.transformer_blocks.0.norm1.bias', 'down_blocks.2.resnets.0.norm1.bias', 'mid_block.resnets.1.time_emb_proj.weight', 'up_blocks.2.resnets.1.conv2.bias', 'down_blocks.3.resnets.1.time_emb_proj.weight', 'down_blocks.0.attentions.1.transformer_blocks.0.attn2.to_k.weight', 'up_blocks.1.attentions.2.transformer_blocks.0.attn2.to_v.weight', 'up_blocks.2.attentions.2.transformer_blocks.0.attn2.to_k.weight', 'up_blocks.0.resnets.0.conv1.bias', 'up_blocks.2.resnets.0.norm1.weight', 'up_blocks.1.attentions.0.transformer_blocks.0.attn2.to_q.weight', 'up_blocks.2.attentions.0.proj_in.bias', 'down_blocks.1.attentions.1.transformer_blocks.0.attn1.to_q.weight', 'up_blocks.1.attentions.0.transformer_blocks.0.ff.net.0.proj.weight', 'down_blocks.0.attentions.1.transformer_blocks.0.attn2.to_q.weight', 'up_blocks.3.attentions.1.transformer_blocks.0.ff.net.0.proj.weight', 'mid_block.resnets.0.time_emb_proj.bias', 'up_blocks.1.attentions.2.proj_in.bias', 'down_blocks.2.attentions.0.transformer_blocks.0.norm1.bias', 'mid_block.attentions.0.transformer_blocks.0.norm3.bias', 'mid_block.resnets.1.conv2.bias', 'up_blocks.3.attentions.0.norm.bias', 'down_blocks.1.attentions.0.proj_out.weight', 'down_blocks.1.attentions.1.norm.weight', 'up_blocks.0.resnets.0.conv2.bias', 'down_blocks.1.resnets.1.norm2.bias', 'down_blocks.1.attentions.0.transformer_blocks.0.attn2.to_k.weight', 'up_blocks.2.resnets.1.conv_shortcut.bias', 'up_blocks.3.attentions.0.transformer_blocks.0.attn1.to_k.weight', 'up_blocks.1.attentions.0.transformer_blocks.0.norm2.weight', 'down_blocks.2.attentions.0.transformer_blocks.0.attn1.to_k.weight', 'down_blocks.1.resnets.1.time_emb_proj.bias', 'down_blocks.1.attentions.0.proj_out.bias', 'up_blocks.0.resnets.0.conv_shortcut.weight', 'down_blocks.1.resnets.0.conv_shortcut.weight', 'up_blocks.2.attentions.0.transformer_blocks.0.norm2.weight', 'down_blocks.1.resnets.0.conv_shortcut.bias', 'up_blocks.3.resnets.2.conv_shortcut.bias', 'up_blocks.1.attentions.2.proj_out.bias', 'down_blocks.0.attentions.1.transformer_blocks.0.norm2.weight', 'up_blocks.0.resnets.0.norm1.weight', 'up_blocks.1.resnets.0.norm1.bias', 'down_blocks.1.attentions.0.transformer_blocks.0.ff.net.2.weight', 'up_blocks.3.resnets.2.conv_shortcut.weight', 'up_blocks.3.attentions.2.transformer_blocks.0.norm2.bias', 'up_blocks.2.attentions.1.transformer_blocks.0.norm3.bias', 'up_blocks.2.resnets.2.conv1.bias', 'up_blocks.3.attentions.0.transformer_blocks.0.attn2.to_v.weight', 'down_blocks.3.resnets.0.time_emb_proj.weight', 'up_blocks.2.attentions.1.transformer_blocks.0.attn1.to_v.weight', 'down_blocks.2.attentions.0.proj_in.bias', 'down_blocks.1.resnets.1.conv2.bias', 'conv_out.weight', 'up_blocks.1.resnets.1.conv1.weight', 'up_blocks.1.attentions.1.transformer_blocks.0.attn2.to_q.weight', 'up_blocks.3.attentions.2.norm.bias', 'up_blocks.2.attentions.1.proj_in.weight', 'down_blocks.0.attentions.1.transformer_blocks.0.attn2.to_out.0.bias', 'down_blocks.0.attentions.0.transformer_blocks.0.attn1.to_out.0.bias', 'up_blocks.3.resnets.1.conv_shortcut.weight', 'up_blocks.1.resnets.2.norm1.weight', 'down_blocks.0.attentions.0.transformer_blocks.0.ff.net.2.weight', 'up_blocks.3.attentions.1.norm.bias', 'down_blocks.1.attentions.0.transformer_blocks.0.norm2.weight', 'down_blocks.1.resnets.1.norm1.bias', 'down_blocks.1.attentions.0.transformer_blocks.0.attn2.to_v.weight', 'up_blocks.1.attentions.0.proj_in.weight', 'up_blocks.2.resnets.0.conv1.bias', 'up_blocks.3.attentions.1.transformer_blocks.0.norm2.weight', 'mid_block.resnets.0.conv1.bias', 'up_blocks.2.attentions.1.transformer_blocks.0.attn1.to_out.0.weight', 'up_blocks.1.attentions.0.transformer_blocks.0.ff.net.2.weight', 'down_blocks.2.attentions.0.transformer_blocks.0.norm2.weight', 'down_blocks.0.attentions.1.norm.bias', 'up_blocks.2.attentions.2.transformer_blocks.0.attn1.to_k.weight', 'up_blocks.3.resnets.0.time_emb_proj.weight', 'up_blocks.2.attentions.2.transformer_blocks.0.ff.net.2.bias', 'down_blocks.3.resnets.1.norm2.weight', 'mid_block.attentions.0.norm.bias', 'up_blocks.1.attentions.2.transformer_blocks.0.attn1.to_q.weight', 'down_blocks.0.attentions.1.norm.weight', 'up_blocks.0.resnets.1.conv2.bias', 'down_blocks.2.resnets.0.conv_shortcut.bias', 'up_blocks.3.attentions.0.transformer_blocks.0.norm3.bias', 'mid_block.attentions.0.transformer_blocks.0.attn1.to_out.0.bias', 'mid_block.attentions.0.transformer_blocks.0.attn2.to_v.weight', 'up_blocks.0.resnets.1.time_emb_proj.weight', 'up_blocks.3.attentions.1.transformer_blocks.0.attn2.to_out.0.bias', 'down_blocks.1.attentions.0.transformer_blocks.0.norm3.bias', 'down_blocks.1.attentions.1.transformer_blocks.0.norm1.weight', 'down_blocks.0.attentions.0.norm.bias', 'up_blocks.1.attentions.2.transformer_blocks.0.norm2.weight', 'up_blocks.2.attentions.2.transformer_blocks.0.attn1.to_q.weight', 'up_blocks.2.resnets.0.norm1.bias', 'down_blocks.1.attentions.1.transformer_blocks.0.attn1.to_out.0.weight', 'up_blocks.2.resnets.0.time_emb_proj.weight', 'down_blocks.1.attentions.0.transformer_blocks.0.norm3.weight', 'down_blocks.1.resnets.1.conv1.weight', 'down_blocks.2.resnets.1.time_emb_proj.weight', 'up_blocks.0.resnets.1.norm2.bias', 'up_blocks.3.attentions.2.transformer_blocks.0.attn1.to_out.0.weight', 'up_blocks.1.resnets.1.norm2.weight', 'down_blocks.1.downsamplers.0.conv.weight', 'up_blocks.0.resnets.1.conv_shortcut.bias', 'mid_block.resnets.0.norm1.weight', 'up_blocks.2.attentions.2.transformer_blocks.0.attn1.to_v.weight', 'up_blocks.2.attentions.2.transformer_blocks.0.norm1.weight', 'up_blocks.2.attentions.2.transformer_blocks.0.ff.net.2.weight', 'up_blocks.1.attentions.1.transformer_blocks.0.norm2.weight', 'down_blocks.2.resnets.0.conv2.weight', 'up_blocks.3.resnets.0.conv_shortcut.weight', 'up_blocks.1.attentions.2.transformer_blocks.0.attn2.to_out.0.bias', 'up_blocks.1.resnets.0.conv2.weight', 'mid_block.attentions.0.norm.weight', 'up_blocks.0.resnets.2.norm1.weight', 'up_blocks.1.attentions.1.proj_out.bias', 'down_blocks.2.attentions.1.transformer_blocks.0.attn2.to_q.weight', 'mid_block.attentions.0.transformer_blocks.0.attn2.to_out.0.bias', 'down_blocks.1.attentions.1.transformer_blocks.0.norm1.bias', 'mid_block.attentions.0.transformer_blocks.0.norm2.weight', 'up_blocks.2.attentions.0.transformer_blocks.0.attn1.to_out.0.weight', 'mid_block.attentions.0.transformer_blocks.0.norm1.weight', 'up_blocks.2.attentions.2.proj_in.weight', 'up_blocks.2.attentions.1.transformer_blocks.0.attn1.to_out.0.bias', 'up_blocks.3.resnets.0.norm2.bias', 'up_blocks.1.attentions.1.norm.bias', 'up_blocks.2.attentions.1.transformer_blocks.0.norm1.bias', 'down_blocks.1.attentions.0.transformer_blocks.0.attn1.to_k.weight', 'up_blocks.1.resnets.2.conv1.bias', 'down_blocks.1.attentions.0.transformer_blocks.0.norm1.bias', 'down_blocks.2.resnets.1.norm2.bias', 'mid_block.resnets.0.norm2.bias', 'up_blocks.1.attentions.1.transformer_blocks.0.ff.net.0.proj.bias', 'down_blocks.3.resnets.1.time_emb_proj.bias', 'up_blocks.2.attentions.0.norm.weight', 'down_blocks.3.resnets.1.norm1.weight', 'down_blocks.1.resnets.0.conv1.bias', 'down_blocks.2.resnets.0.time_emb_proj.weight', 'up_blocks.2.resnets.1.time_emb_proj.bias', 'mid_block.attentions.0.transformer_blocks.0.attn1.to_q.weight', 'up_blocks.1.attentions.1.transformer_blocks.0.attn1.to_v.weight', 'up_blocks.2.attentions.1.transformer_blocks.0.norm2.bias', 'down_blocks.2.resnets.0.conv_shortcut.weight', 'up_blocks.2.upsamplers.0.conv.bias', 'up_blocks.3.attentions.0.transformer_blocks.0.attn1.to_out.0.bias', 'mid_block.attentions.0.transformer_blocks.0.attn2.to_k.weight', 'down_blocks.1.attentions.0.norm.weight', 'up_blocks.3.attentions.0.norm.weight', 'up_blocks.2.resnets.0.conv2.bias', 'time_embedding.linear_1.weight', 'down_blocks.1.attentions.1.transformer_blocks.0.ff.net.0.proj.weight', 'up_blocks.0.resnets.0.norm2.bias', 'down_blocks.0.attentions.0.transformer_blocks.0.attn2.to_k.weight', 'down_blocks.3.resnets.0.norm2.weight', 'up_blocks.0.resnets.2.conv1.bias', 'up_blocks.1.resnets.0.conv_shortcut.weight', 'down_blocks.2.resnets.1.norm2.weight', 'up_blocks.2.attentions.0.norm.bias', 'up_blocks.2.attentions.1.transformer_blocks.0.attn2.to_out.0.weight', 'up_blocks.2.resnets.2.conv2.weight', 'up_blocks.3.attentions.1.transformer_blocks.0.attn2.to_out.0.weight', 'up_blocks.2.attentions.2.proj_out.bias', 'down_blocks.0.resnets.1.norm1.bias', 'up_blocks.0.resnets.2.time_emb_proj.bias', 'up_blocks.0.resnets.2.norm2.bias', 'up_blocks.2.attentions.1.transformer_blocks.0.ff.net.2.bias', 'up_blocks.3.resnets.1.norm2.weight', 'down_blocks.0.attentions.0.transformer_blocks.0.ff.net.2.bias', 'down_blocks.1.attentions.0.transformer_blocks.0.ff.net.2.bias', 'mid_block.resnets.0.conv1.weight', 'up_blocks.1.attentions.0.transformer_blocks.0.attn1.to_out.0.bias', 'up_blocks.2.attentions.2.transformer_blocks.0.norm2.weight', 'up_blocks.3.attentions.0.transformer_blocks.0.attn2.to_q.weight', 'mid_block.resnets.0.norm2.weight', 'up_blocks.2.attentions.0.proj_out.bias', 'down_blocks.1.attentions.1.transformer_blocks.0.attn2.to_k.weight', 'down_blocks.0.attentions.0.transformer_blocks.0.ff.net.0.proj.weight', 'up_blocks.1.attentions.0.transformer_blocks.0.norm3.bias', 'down_blocks.1.resnets.0.norm2.bias', 'up_blocks.3.attentions.1.transformer_blocks.0.norm1.weight', 'down_blocks.2.attentions.0.norm.bias', 'up_blocks.1.resnets.2.conv2.weight', 'up_blocks.2.attentions.1.transformer_blocks.0.ff.net.2.weight', 'down_blocks.1.resnets.1.conv1.bias', 'up_blocks.2.attentions.1.transformer_blocks.0.attn2.to_out.0.bias', 'down_blocks.2.attentions.0.transformer_blocks.0.ff.net.0.proj.weight', 'down_blocks.0.downsamplers.0.conv.weight', 'down_blocks.2.attentions.0.transformer_blocks.0.attn2.to_q.weight', 'down_blocks.2.attentions.0.transformer_blocks.0.attn1.to_out.0.weight', 'up_blocks.1.attentions.0.transformer_blocks.0.attn1.to_q.weight', 'up_blocks.1.attentions.1.transformer_blocks.0.attn1.to_out.0.bias', 'up_blocks.1.attentions.2.proj_in.weight', 'up_blocks.3.attentions.1.transformer_blocks.0.attn2.to_v.weight', 'up_blocks.1.attentions.2.norm.weight', 'up_blocks.1.attentions.2.transformer_blocks.0.attn2.to_q.weight', 'down_blocks.2.attentions.0.transformer_blocks.0.attn2.to_out.0.bias', 'up_blocks.1.attentions.0.transformer_blocks.0.attn1.to_k.weight', 'up_blocks.2.resnets.1.conv_shortcut.weight', 'up_blocks.3.attentions.2.transformer_blocks.0.norm3.weight', 'up_blocks.1.resnets.1.conv_shortcut.weight', 'down_blocks.3.resnets.0.norm1.weight', 'down_blocks.1.attentions.0.transformer_blocks.0.norm2.bias', 'down_blocks.2.attentions.0.transformer_blocks.0.attn1.to_v.weight', 'up_blocks.1.attentions.2.transformer_blocks.0.attn1.to_out.0.weight', 'up_blocks.3.attentions.2.norm.weight', 'down_blocks.3.resnets.0.conv2.weight', 'down_blocks.2.attentions.1.transformer_blocks.0.attn2.to_out.0.weight', 'down_blocks.0.attentions.1.proj_in.weight', 'down_blocks.2.attentions.1.transformer_blocks.0.attn1.to_out.0.bias', 'up_blocks.1.attentions.1.transformer_blocks.0.norm3.bias', 'down_blocks.0.resnets.0.norm1.bias', 'down_blocks.0.attentions.0.transformer_blocks.0.norm1.weight', 'up_blocks.3.attentions.0.transformer_blocks.0.norm1.bias', 'down_blocks.0.attentions.1.transformer_blocks.0.norm3.weight', 'up_blocks.0.resnets.1.time_emb_proj.bias', 'down_blocks.0.downsamplers.0.conv.bias', 'down_blocks.1.attentions.0.proj_in.bias', 'down_blocks.1.attentions.1.proj_out.weight', 'down_blocks.0.attentions.0.transformer_blocks.0.attn1.to_q.weight', 'up_blocks.1.resnets.2.norm2.bias', 'up_blocks.3.resnets.0.time_emb_proj.bias', 'mid_block.resnets.1.norm2.bias', 'up_blocks.2.attentions.2.transformer_blocks.0.attn2.to_q.weight', 'up_blocks.2.attentions.2.transformer_blocks.0.norm2.bias', 'down_blocks.0.resnets.0.norm2.weight', 'up_blocks.2.attentions.1.transformer_blocks.0.ff.net.0.proj.bias', 'mid_block.attentions.0.transformer_blocks.0.attn1.to_k.weight', 'up_blocks.3.attentions.0.transformer_blocks.0.attn1.to_q.weight', 'down_blocks.0.attentions.0.transformer_blocks.0.norm3.bias', 'down_blocks.2.attentions.1.transformer_blocks.0.norm1.bias', 'up_blocks.0.resnets.1.norm1.weight', 'down_blocks.1.resnets.0.time_emb_proj.weight', 'mid_block.attentions.0.transformer_blocks.0.attn1.to_v.weight', 'down_blocks.3.resnets.1.norm1.bias', 'up_blocks.1.resnets.2.conv_shortcut.bias', 'down_blocks.0.resnets.0.time_emb_proj.weight', 'up_blocks.1.attentions.2.transformer_blocks.0.norm1.bias', 'up_blocks.1.resnets.1.conv2.weight', 'up_blocks.3.resnets.1.time_emb_proj.bias', 'up_blocks.1.attentions.1.norm.weight', 'down_blocks.1.resnets.1.norm1.weight', 'down_blocks.0.attentions.0.proj_out.weight', 'up_blocks.3.resnets.1.conv1.weight', 'up_blocks.1.attentions.1.transformer_blocks.0.attn2.to_out.0.weight', 'up_blocks.3.attentions.2.transformer_blocks.0.attn2.to_v.weight', 'down_blocks.1.resnets.1.time_emb_proj.weight', 'up_blocks.3.attentions.2.transformer_blocks.0.ff.net.0.proj.weight', 'down_blocks.0.attentions.1.proj_out.weight', 'down_blocks.0.attentions.1.transformer_blocks.0.ff.net.0.proj.weight', 'down_blocks.1.attentions.1.transformer_blocks.0.ff.net.2.bias', 'down_blocks.2.attentions.0.transformer_blocks.0.attn2.to_v.weight', 'down_blocks.2.attentions.1.norm.weight', 'down_blocks.0.resnets.0.conv1.weight', 'down_blocks.0.attentions.0.proj_in.weight', 'down_blocks.0.attentions.1.transformer_blocks.0.norm3.bias', 'up_blocks.2.resnets.1.conv1.weight', 'up_blocks.2.resnets.0.conv2.weight', 'down_blocks.2.attentions.0.norm.weight', 'down_blocks.0.attentions.1.transformer_blocks.0.attn1.to_out.0.weight', 'down_blocks.2.attentions.1.transformer_blocks.0.attn1.to_k.weight', 'up_blocks.3.attentions.0.transformer_blocks.0.ff.net.2.weight', 'up_blocks.3.resnets.1.norm1.bias', 'up_blocks.2.attentions.0.transformer_blocks.0.ff.net.2.weight', 'up_blocks.1.attentions.0.transformer_blocks.0.norm1.bias', 'up_blocks.1.attentions.0.transformer_blocks.0.attn2.to_v.weight', 'up_blocks.3.attentions.1.transformer_blocks.0.ff.net.2.weight', 'up_blocks.2.attentions.1.transformer_blocks.0.attn2.to_v.weight', 'up_blocks.3.attentions.2.transformer_blocks.0.ff.net.2.bias', 'mid_block.resnets.1.norm1.bias', 'mid_block.resnets.0.conv2.weight', 'down_blocks.1.resnets.0.norm1.bias', 'up_blocks.1.resnets.0.conv1.weight', 'up_blocks.3.resnets.2.conv1.weight', 'up_blocks.3.attentions.2.transformer_blocks.0.ff.net.0.proj.bias', 'down_blocks.0.attentions.1.proj_in.bias', 'down_blocks.1.attentions.1.proj_in.bias', 'up_blocks.3.resnets.0.norm1.bias', 'time_embedding.linear_1.bias', 'down_blocks.1.attentions.1.transformer_blocks.0.attn1.to_v.weight', 'up_blocks.2.attentions.1.proj_in.bias', 'up_blocks.1.attentions.1.transformer_blocks.0.attn2.to_v.weight', 'up_blocks.1.attentions.1.transformer_blocks.0.norm1.bias', 'down_blocks.0.attentions.1.transformer_blocks.0.norm1.bias', 'down_blocks.0.resnets.0.conv1.bias', 'up_blocks.1.resnets.0.conv1.bias', 'down_blocks.2.attentions.0.transformer_blocks.0.norm3.bias', 'up_blocks.1.attentions.0.proj_out.weight', 'up_blocks.2.attentions.1.transformer_blocks.0.attn2.to_q.weight', 'up_blocks.3.resnets.0.conv1.weight', 'mid_block.attentions.0.transformer_blocks.0.ff.net.0.proj.weight', 'down_blocks.2.attentions.1.proj_in.bias', 'up_blocks.3.attentions.2.transformer_blocks.0.ff.net.2.weight', 'time_embedding.linear_2.weight', 'conv_norm_out.weight', 'up_blocks.2.resnets.2.norm1.weight', 'up_blocks.1.resnets.0.norm2.weight', 'up_blocks.0.resnets.2.conv_shortcut.weight', 'down_blocks.2.attentions.0.transformer_blocks.0.norm2.bias', 'up_blocks.0.resnets.0.norm1.bias', 'down_blocks.2.attentions.1.proj_out.weight', 'up_blocks.1.resnets.1.norm1.bias', 'up_blocks.2.resnets.0.conv_shortcut.bias', 'up_blocks.2.attentions.1.proj_out.bias', 'up_blocks.2.attentions.0.transformer_blocks.0.attn1.to_k.weight', 'down_blocks.1.attentions.1.transformer_blocks.0.attn2.to_v.weight', 'down_blocks.0.resnets.1.norm2.weight', 'up_blocks.2.attentions.2.transformer_blocks.0.attn1.to_out.0.bias', 'up_blocks.3.attentions.1.transformer_blocks.0.attn1.to_out.0.weight', 'up_blocks.3.attentions.0.transformer_blocks.0.attn1.to_out.0.weight', 'down_blocks.0.attentions.0.proj_in.bias', 'up_blocks.2.resnets.2.conv1.weight', 'up_blocks.2.attentions.0.transformer_blocks.0.attn1.to_v.weight', 'down_blocks.0.attentions.1.transformer_blocks.0.attn1.to_out.0.bias', 'up_blocks.2.upsamplers.0.conv.weight', 'up_blocks.0.resnets.2.conv2.bias', 'up_blocks.1.upsamplers.0.conv.bias', 'up_blocks.3.resnets.2.norm1.bias', 'up_blocks.3.attentions.1.transformer_blocks.0.norm2.bias', 'up_blocks.2.resnets.2.conv_shortcut.bias', 'up_blocks.0.resnets.1.conv_shortcut.weight', 'up_blocks.0.resnets.0.conv_shortcut.bias', 'up_blocks.0.resnets.2.conv2.weight', 'down_blocks.1.attentions.1.transformer_blocks.0.norm3.weight', 'up_blocks.3.attentions.2.transformer_blocks.0.attn1.to_v.weight', 'up_blocks.0.resnets.1.norm2.weight', 'down_blocks.0.resnets.0.time_emb_proj.bias', 'up_blocks.0.resnets.0.norm2.weight', 'down_blocks.0.resnets.1.norm1.weight', 'down_blocks.2.attentions.0.proj_out.bias', 'up_blocks.1.attentions.1.proj_in.bias', 'up_blocks.1.attentions.1.proj_out.weight', 'up_blocks.3.resnets.2.conv2.bias', 'down_blocks.1.resnets.1.norm2.weight', 'up_blocks.0.upsamplers.0.conv.bias', 'up_blocks.3.attentions.1.transformer_blocks.0.attn1.to_q.weight', 'up_blocks.1.attentions.1.transformer_blocks.0.attn2.to_out.0.bias', 'up_blocks.3.resnets.1.norm2.bias', 'down_blocks.1.attentions.1.transformer_blocks.0.attn1.to_out.0.bias', 'up_blocks.1.attentions.0.transformer_blocks.0.attn2.to_out.0.bias', 'up_blocks.1.attentions.1.transformer_blocks.0.attn2.to_k.weight', 'up_blocks.1.resnets.1.norm1.weight', 'down_blocks.1.downsamplers.0.conv.bias', 'down_blocks.0.resnets.1.norm2.bias', 'conv_in.weight', 'up_blocks.1.attentions.1.proj_in.weight', 'down_blocks.1.attentions.1.transformer_blocks.0.norm2.weight', 'up_blocks.3.resnets.2.time_emb_proj.weight', 'down_blocks.2.resnets.1.norm1.bias', 'down_blocks.1.attentions.1.norm.bias', 'up_blocks.1.attentions.0.proj_out.bias', 'down_blocks.1.attentions.1.transformer_blocks.0.attn2.to_out.0.bias', 'up_blocks.3.attentions.0.transformer_blocks.0.ff.net.0.proj.bias', 'up_blocks.3.attentions.2.transformer_blocks.0.attn1.to_q.weight', 'up_blocks.2.resnets.1.norm1.weight', 'up_blocks.0.resnets.1.norm1.bias']\n",
      "You should probably TRAIN this model on a down-stream task to be able to use it for predictions and inference.\n"
     ]
    },
    {
     "name": "stdout",
     "output_type": "stream",
     "text": [
      "✅ UNet is now on cuda:0\n"
     ]
    }
   ],
   "source": [
    "from diffusers import UNet2DConditionModel\n",
    "import torch\n",
    "\n",
    "# 1) Load the full UNet into CPU (real tensors, not meta)\n",
    "unet = UNet2DConditionModel.from_pretrained(\n",
    "    \"sd3_local\",               # your local clone\n",
    "    subfolder=\"transformer\",   # where config.json + weights live\n",
    "    torch_dtype=torch.float16,\n",
    "    low_cpu_mem_usage=False,   # load the actual weights straight into RAM\n",
    "    device_map=None,           # do NOT auto‐dispatch; load on CPU\n",
    "    local_files_only=True\n",
    ")\n",
    "\n",
    "# 2) Now move all of it to your 4090\n",
    "unet = unet.to(\"cuda\")\n",
    "\n",
    "print(\"✅ UNet is now on\", next(unet.parameters()).device)\n"
   ]
  },
  {
   "cell_type": "code",
   "execution_count": 45,
   "id": "bd426883-8978-47bf-8bb8-2910382fd5a8",
   "metadata": {},
   "outputs": [
    {
     "name": "stderr",
     "output_type": "stream",
     "text": [
      "/usr/local/lib/python3.11/dist-packages/peft/mapping_func.py:73: UserWarning: You are trying to modify a model with PEFT for a second time. If you want to reload the model with a different config, make sure to call `.unload()` before.\n",
      "  warnings.warn(\n"
     ]
    }
   ],
   "source": [
    "from peft import LoraConfig, get_peft_model\n",
    "\n",
    "lora_cfg = LoraConfig(\n",
    "    r=16,\n",
    "    lora_alpha=32,\n",
    "    target_modules=[\"to_q\",\"to_k\",\"to_v\"],\n",
    "    lora_dropout=0.05,\n",
    "    bias=\"none\",\n",
    "    # task_type omitted!\n",
    ")\n",
    "unet_lora = get_peft_model(unet, lora_cfg)\n"
   ]
  },
  {
   "cell_type": "code",
   "execution_count": 46,
   "id": "a368dca6-b880-48d2-ac27-743beae42070",
   "metadata": {
    "collapsed": true,
    "jupyter": {
     "outputs_hidden": true
    }
   },
   "outputs": [
    {
     "name": "stdout",
     "output_type": "stream",
     "text": [
      "down_blocks.0.attentions.0.transformer_blocks.0.attn1.to_out <class 'torch.nn.modules.container.ModuleList'>\n",
      "down_blocks.0.attentions.0.transformer_blocks.0.attn1.to_out.0 <class 'torch.nn.modules.linear.Linear'>\n",
      "down_blocks.0.attentions.0.transformer_blocks.0.attn1.to_out.1 <class 'torch.nn.modules.dropout.Dropout'>\n",
      "down_blocks.0.attentions.0.transformer_blocks.0.attn2.to_out <class 'torch.nn.modules.container.ModuleList'>\n",
      "down_blocks.0.attentions.0.transformer_blocks.0.attn2.to_out.0 <class 'torch.nn.modules.linear.Linear'>\n",
      "down_blocks.0.attentions.0.transformer_blocks.0.attn2.to_out.1 <class 'torch.nn.modules.dropout.Dropout'>\n",
      "down_blocks.0.attentions.1.transformer_blocks.0.attn1.to_out <class 'torch.nn.modules.container.ModuleList'>\n",
      "down_blocks.0.attentions.1.transformer_blocks.0.attn1.to_out.0 <class 'torch.nn.modules.linear.Linear'>\n",
      "down_blocks.0.attentions.1.transformer_blocks.0.attn1.to_out.1 <class 'torch.nn.modules.dropout.Dropout'>\n",
      "down_blocks.0.attentions.1.transformer_blocks.0.attn2.to_out <class 'torch.nn.modules.container.ModuleList'>\n",
      "down_blocks.0.attentions.1.transformer_blocks.0.attn2.to_out.0 <class 'torch.nn.modules.linear.Linear'>\n",
      "down_blocks.0.attentions.1.transformer_blocks.0.attn2.to_out.1 <class 'torch.nn.modules.dropout.Dropout'>\n",
      "down_blocks.1.attentions.0.transformer_blocks.0.attn1.to_out <class 'torch.nn.modules.container.ModuleList'>\n",
      "down_blocks.1.attentions.0.transformer_blocks.0.attn1.to_out.0 <class 'torch.nn.modules.linear.Linear'>\n",
      "down_blocks.1.attentions.0.transformer_blocks.0.attn1.to_out.1 <class 'torch.nn.modules.dropout.Dropout'>\n",
      "down_blocks.1.attentions.0.transformer_blocks.0.attn2.to_out <class 'torch.nn.modules.container.ModuleList'>\n",
      "down_blocks.1.attentions.0.transformer_blocks.0.attn2.to_out.0 <class 'torch.nn.modules.linear.Linear'>\n",
      "down_blocks.1.attentions.0.transformer_blocks.0.attn2.to_out.1 <class 'torch.nn.modules.dropout.Dropout'>\n",
      "down_blocks.1.attentions.1.transformer_blocks.0.attn1.to_out <class 'torch.nn.modules.container.ModuleList'>\n",
      "down_blocks.1.attentions.1.transformer_blocks.0.attn1.to_out.0 <class 'torch.nn.modules.linear.Linear'>\n",
      "down_blocks.1.attentions.1.transformer_blocks.0.attn1.to_out.1 <class 'torch.nn.modules.dropout.Dropout'>\n",
      "down_blocks.1.attentions.1.transformer_blocks.0.attn2.to_out <class 'torch.nn.modules.container.ModuleList'>\n",
      "down_blocks.1.attentions.1.transformer_blocks.0.attn2.to_out.0 <class 'torch.nn.modules.linear.Linear'>\n",
      "down_blocks.1.attentions.1.transformer_blocks.0.attn2.to_out.1 <class 'torch.nn.modules.dropout.Dropout'>\n",
      "down_blocks.2.attentions.0.transformer_blocks.0.attn1.to_out <class 'torch.nn.modules.container.ModuleList'>\n",
      "down_blocks.2.attentions.0.transformer_blocks.0.attn1.to_out.0 <class 'torch.nn.modules.linear.Linear'>\n",
      "down_blocks.2.attentions.0.transformer_blocks.0.attn1.to_out.1 <class 'torch.nn.modules.dropout.Dropout'>\n",
      "down_blocks.2.attentions.0.transformer_blocks.0.attn2.to_out <class 'torch.nn.modules.container.ModuleList'>\n",
      "down_blocks.2.attentions.0.transformer_blocks.0.attn2.to_out.0 <class 'torch.nn.modules.linear.Linear'>\n",
      "down_blocks.2.attentions.0.transformer_blocks.0.attn2.to_out.1 <class 'torch.nn.modules.dropout.Dropout'>\n",
      "down_blocks.2.attentions.1.transformer_blocks.0.attn1.to_out <class 'torch.nn.modules.container.ModuleList'>\n",
      "down_blocks.2.attentions.1.transformer_blocks.0.attn1.to_out.0 <class 'torch.nn.modules.linear.Linear'>\n",
      "down_blocks.2.attentions.1.transformer_blocks.0.attn1.to_out.1 <class 'torch.nn.modules.dropout.Dropout'>\n",
      "down_blocks.2.attentions.1.transformer_blocks.0.attn2.to_out <class 'torch.nn.modules.container.ModuleList'>\n",
      "down_blocks.2.attentions.1.transformer_blocks.0.attn2.to_out.0 <class 'torch.nn.modules.linear.Linear'>\n",
      "down_blocks.2.attentions.1.transformer_blocks.0.attn2.to_out.1 <class 'torch.nn.modules.dropout.Dropout'>\n",
      "up_blocks.1.attentions.0.transformer_blocks.0.attn1.to_out <class 'torch.nn.modules.container.ModuleList'>\n",
      "up_blocks.1.attentions.0.transformer_blocks.0.attn1.to_out.0 <class 'torch.nn.modules.linear.Linear'>\n",
      "up_blocks.1.attentions.0.transformer_blocks.0.attn1.to_out.1 <class 'torch.nn.modules.dropout.Dropout'>\n",
      "up_blocks.1.attentions.0.transformer_blocks.0.attn2.to_out <class 'torch.nn.modules.container.ModuleList'>\n",
      "up_blocks.1.attentions.0.transformer_blocks.0.attn2.to_out.0 <class 'torch.nn.modules.linear.Linear'>\n",
      "up_blocks.1.attentions.0.transformer_blocks.0.attn2.to_out.1 <class 'torch.nn.modules.dropout.Dropout'>\n",
      "up_blocks.1.attentions.1.transformer_blocks.0.attn1.to_out <class 'torch.nn.modules.container.ModuleList'>\n",
      "up_blocks.1.attentions.1.transformer_blocks.0.attn1.to_out.0 <class 'torch.nn.modules.linear.Linear'>\n",
      "up_blocks.1.attentions.1.transformer_blocks.0.attn1.to_out.1 <class 'torch.nn.modules.dropout.Dropout'>\n",
      "up_blocks.1.attentions.1.transformer_blocks.0.attn2.to_out <class 'torch.nn.modules.container.ModuleList'>\n",
      "up_blocks.1.attentions.1.transformer_blocks.0.attn2.to_out.0 <class 'torch.nn.modules.linear.Linear'>\n",
      "up_blocks.1.attentions.1.transformer_blocks.0.attn2.to_out.1 <class 'torch.nn.modules.dropout.Dropout'>\n",
      "up_blocks.1.attentions.2.transformer_blocks.0.attn1.to_out <class 'torch.nn.modules.container.ModuleList'>\n",
      "up_blocks.1.attentions.2.transformer_blocks.0.attn1.to_out.0 <class 'torch.nn.modules.linear.Linear'>\n",
      "up_blocks.1.attentions.2.transformer_blocks.0.attn1.to_out.1 <class 'torch.nn.modules.dropout.Dropout'>\n",
      "up_blocks.1.attentions.2.transformer_blocks.0.attn2.to_out <class 'torch.nn.modules.container.ModuleList'>\n",
      "up_blocks.1.attentions.2.transformer_blocks.0.attn2.to_out.0 <class 'torch.nn.modules.linear.Linear'>\n",
      "up_blocks.1.attentions.2.transformer_blocks.0.attn2.to_out.1 <class 'torch.nn.modules.dropout.Dropout'>\n",
      "up_blocks.2.attentions.0.transformer_blocks.0.attn1.to_out <class 'torch.nn.modules.container.ModuleList'>\n",
      "up_blocks.2.attentions.0.transformer_blocks.0.attn1.to_out.0 <class 'torch.nn.modules.linear.Linear'>\n",
      "up_blocks.2.attentions.0.transformer_blocks.0.attn1.to_out.1 <class 'torch.nn.modules.dropout.Dropout'>\n",
      "up_blocks.2.attentions.0.transformer_blocks.0.attn2.to_out <class 'torch.nn.modules.container.ModuleList'>\n",
      "up_blocks.2.attentions.0.transformer_blocks.0.attn2.to_out.0 <class 'torch.nn.modules.linear.Linear'>\n",
      "up_blocks.2.attentions.0.transformer_blocks.0.attn2.to_out.1 <class 'torch.nn.modules.dropout.Dropout'>\n",
      "up_blocks.2.attentions.1.transformer_blocks.0.attn1.to_out <class 'torch.nn.modules.container.ModuleList'>\n",
      "up_blocks.2.attentions.1.transformer_blocks.0.attn1.to_out.0 <class 'torch.nn.modules.linear.Linear'>\n",
      "up_blocks.2.attentions.1.transformer_blocks.0.attn1.to_out.1 <class 'torch.nn.modules.dropout.Dropout'>\n",
      "up_blocks.2.attentions.1.transformer_blocks.0.attn2.to_out <class 'torch.nn.modules.container.ModuleList'>\n",
      "up_blocks.2.attentions.1.transformer_blocks.0.attn2.to_out.0 <class 'torch.nn.modules.linear.Linear'>\n",
      "up_blocks.2.attentions.1.transformer_blocks.0.attn2.to_out.1 <class 'torch.nn.modules.dropout.Dropout'>\n",
      "up_blocks.2.attentions.2.transformer_blocks.0.attn1.to_out <class 'torch.nn.modules.container.ModuleList'>\n",
      "up_blocks.2.attentions.2.transformer_blocks.0.attn1.to_out.0 <class 'torch.nn.modules.linear.Linear'>\n",
      "up_blocks.2.attentions.2.transformer_blocks.0.attn1.to_out.1 <class 'torch.nn.modules.dropout.Dropout'>\n",
      "up_blocks.2.attentions.2.transformer_blocks.0.attn2.to_out <class 'torch.nn.modules.container.ModuleList'>\n",
      "up_blocks.2.attentions.2.transformer_blocks.0.attn2.to_out.0 <class 'torch.nn.modules.linear.Linear'>\n",
      "up_blocks.2.attentions.2.transformer_blocks.0.attn2.to_out.1 <class 'torch.nn.modules.dropout.Dropout'>\n",
      "up_blocks.3.attentions.0.transformer_blocks.0.attn1.to_out <class 'torch.nn.modules.container.ModuleList'>\n",
      "up_blocks.3.attentions.0.transformer_blocks.0.attn1.to_out.0 <class 'torch.nn.modules.linear.Linear'>\n",
      "up_blocks.3.attentions.0.transformer_blocks.0.attn1.to_out.1 <class 'torch.nn.modules.dropout.Dropout'>\n",
      "up_blocks.3.attentions.0.transformer_blocks.0.attn2.to_out <class 'torch.nn.modules.container.ModuleList'>\n",
      "up_blocks.3.attentions.0.transformer_blocks.0.attn2.to_out.0 <class 'torch.nn.modules.linear.Linear'>\n",
      "up_blocks.3.attentions.0.transformer_blocks.0.attn2.to_out.1 <class 'torch.nn.modules.dropout.Dropout'>\n",
      "up_blocks.3.attentions.1.transformer_blocks.0.attn1.to_out <class 'torch.nn.modules.container.ModuleList'>\n",
      "up_blocks.3.attentions.1.transformer_blocks.0.attn1.to_out.0 <class 'torch.nn.modules.linear.Linear'>\n",
      "up_blocks.3.attentions.1.transformer_blocks.0.attn1.to_out.1 <class 'torch.nn.modules.dropout.Dropout'>\n",
      "up_blocks.3.attentions.1.transformer_blocks.0.attn2.to_out <class 'torch.nn.modules.container.ModuleList'>\n",
      "up_blocks.3.attentions.1.transformer_blocks.0.attn2.to_out.0 <class 'torch.nn.modules.linear.Linear'>\n",
      "up_blocks.3.attentions.1.transformer_blocks.0.attn2.to_out.1 <class 'torch.nn.modules.dropout.Dropout'>\n",
      "up_blocks.3.attentions.2.transformer_blocks.0.attn1.to_out <class 'torch.nn.modules.container.ModuleList'>\n",
      "up_blocks.3.attentions.2.transformer_blocks.0.attn1.to_out.0 <class 'torch.nn.modules.linear.Linear'>\n",
      "up_blocks.3.attentions.2.transformer_blocks.0.attn1.to_out.1 <class 'torch.nn.modules.dropout.Dropout'>\n",
      "up_blocks.3.attentions.2.transformer_blocks.0.attn2.to_out <class 'torch.nn.modules.container.ModuleList'>\n",
      "up_blocks.3.attentions.2.transformer_blocks.0.attn2.to_out.0 <class 'torch.nn.modules.linear.Linear'>\n",
      "up_blocks.3.attentions.2.transformer_blocks.0.attn2.to_out.1 <class 'torch.nn.modules.dropout.Dropout'>\n",
      "mid_block.attentions.0.transformer_blocks.0.attn1.to_out <class 'torch.nn.modules.container.ModuleList'>\n",
      "mid_block.attentions.0.transformer_blocks.0.attn1.to_out.0 <class 'torch.nn.modules.linear.Linear'>\n",
      "mid_block.attentions.0.transformer_blocks.0.attn1.to_out.1 <class 'torch.nn.modules.dropout.Dropout'>\n",
      "mid_block.attentions.0.transformer_blocks.0.attn2.to_out <class 'torch.nn.modules.container.ModuleList'>\n",
      "mid_block.attentions.0.transformer_blocks.0.attn2.to_out.0 <class 'torch.nn.modules.linear.Linear'>\n",
      "mid_block.attentions.0.transformer_blocks.0.attn2.to_out.1 <class 'torch.nn.modules.dropout.Dropout'>\n"
     ]
    }
   ],
   "source": [
    "import torch\n",
    "\n",
    "for name, mod in unet.named_modules():\n",
    "    if \"to_out\" in name:\n",
    "        print(name, type(mod))\n"
   ]
  },
  {
   "cell_type": "code",
   "execution_count": 48,
   "id": "47090d6e-22be-4234-b673-25b00f1f8880",
   "metadata": {},
   "outputs": [
    {
     "name": "stderr",
     "output_type": "stream",
     "text": [
      "Couldn't connect to the Hub: 401 Client Error: Unauthorized for url: https://huggingface.co/api/models/stabilityai/stable-diffusion-3-medium-diffusers (Request ID: Root=1-6874cd39-285bf06a265520ed2a8c8ff7;47ca2302-83d6-462b-9395-05cb0c7cb952)\n",
      "\n",
      "Invalid credentials in Authorization header.\n",
      "Will try to load from local cache.\n",
      "Keyword arguments {'use_auth_token': True} are not expected by StableDiffusion3Pipeline and will be ignored.\n"
     ]
    },
    {
     "data": {
      "application/vnd.jupyter.widget-view+json": {
       "model_id": "417bb83b82b84c4a895b7558475993ce",
       "version_major": 2,
       "version_minor": 0
      },
      "text/plain": [
       "Loading pipeline components...:   0%|          | 0/9 [00:00<?, ?it/s]"
      ]
     },
     "metadata": {},
     "output_type": "display_data"
    },
    {
     "name": "stderr",
     "output_type": "stream",
     "text": [
      "You set `add_prefix_space`. The tokenizer needs to be converted from the slow tokenizers\n"
     ]
    },
    {
     "data": {
      "application/vnd.jupyter.widget-view+json": {
       "model_id": "284f03869db54f51b76327bbb75951cc",
       "version_major": 2,
       "version_minor": 0
      },
      "text/plain": [
       "Loading checkpoint shards:   0%|          | 0/2 [00:00<?, ?it/s]"
      ]
     },
     "metadata": {},
     "output_type": "display_data"
    },
    {
     "ename": "OutOfMemoryError",
     "evalue": "CUDA out of memory. Tried to allocate 32.00 MiB. GPU 0 has a total capacity of 23.64 GiB of which 17.25 MiB is free. Process 3742379 has 16.95 GiB memory in use. Process 3753067 has 6.66 GiB memory in use. Of the allocated memory 6.10 GiB is allocated by PyTorch, and 125.16 MiB is reserved by PyTorch but unallocated. If reserved but unallocated memory is large try setting PYTORCH_CUDA_ALLOC_CONF=expandable_segments:True to avoid fragmentation.  See documentation for Memory Management  (https://pytorch.org/docs/stable/notes/cuda.html#environment-variables)",
     "output_type": "error",
     "traceback": [
      "\u001b[0;31m---------------------------------------------------------------------------\u001b[0m",
      "\u001b[0;31mOutOfMemoryError\u001b[0m                          Traceback (most recent call last)",
      "Cell \u001b[0;32mIn[48], line 30\u001b[0m\n\u001b[1;32m     26\u001b[0m \u001b[38;5;66;03m# 1) Load SD3 pipeline just for VAE, scheduler & text_encoder\u001b[39;00m\n\u001b[1;32m     27\u001b[0m \u001b[38;5;28;01mfrom\u001b[39;00m \u001b[38;5;21;01mdiffusers\u001b[39;00m \u001b[38;5;28;01mimport\u001b[39;00m StableDiffusion3Pipeline\n\u001b[1;32m     28\u001b[0m pipe \u001b[38;5;241m=\u001b[39m \u001b[43mStableDiffusion3Pipeline\u001b[49m\u001b[38;5;241;43m.\u001b[39;49m\u001b[43mfrom_pretrained\u001b[49m\u001b[43m(\u001b[49m\n\u001b[1;32m     29\u001b[0m \u001b[43m    \u001b[49m\u001b[43mMODEL_ID\u001b[49m\u001b[43m,\u001b[49m\u001b[43m \u001b[49m\u001b[43mtorch_dtype\u001b[49m\u001b[38;5;241;43m=\u001b[39;49m\u001b[43mtorch\u001b[49m\u001b[38;5;241;43m.\u001b[39;49m\u001b[43mfloat16\u001b[49m\u001b[43m,\u001b[49m\u001b[43m \u001b[49m\u001b[43muse_auth_token\u001b[49m\u001b[38;5;241;43m=\u001b[39;49m\u001b[38;5;28;43;01mTrue\u001b[39;49;00m\n\u001b[0;32m---> 30\u001b[0m \u001b[43m)\u001b[49m\u001b[38;5;241;43m.\u001b[39;49m\u001b[43mto\u001b[49m\u001b[43m(\u001b[49m\u001b[43mdevice\u001b[49m\u001b[43m)\u001b[49m\n\u001b[1;32m     31\u001b[0m vae            \u001b[38;5;241m=\u001b[39m pipe\u001b[38;5;241m.\u001b[39mvae\n\u001b[1;32m     32\u001b[0m scheduler      \u001b[38;5;241m=\u001b[39m pipe\u001b[38;5;241m.\u001b[39mscheduler\n",
      "File \u001b[0;32m/usr/local/lib/python3.11/dist-packages/diffusers/pipelines/pipeline_utils.py:541\u001b[0m, in \u001b[0;36mDiffusionPipeline.to\u001b[0;34m(self, *args, **kwargs)\u001b[0m\n\u001b[1;32m    539\u001b[0m     module\u001b[38;5;241m.\u001b[39mto(device\u001b[38;5;241m=\u001b[39mdevice)\n\u001b[1;32m    540\u001b[0m \u001b[38;5;28;01melif\u001b[39;00m \u001b[38;5;129;01mnot\u001b[39;00m is_loaded_in_4bit_bnb \u001b[38;5;129;01mand\u001b[39;00m \u001b[38;5;129;01mnot\u001b[39;00m is_loaded_in_8bit_bnb \u001b[38;5;129;01mand\u001b[39;00m \u001b[38;5;129;01mnot\u001b[39;00m is_group_offloaded:\n\u001b[0;32m--> 541\u001b[0m     \u001b[43mmodule\u001b[49m\u001b[38;5;241;43m.\u001b[39;49m\u001b[43mto\u001b[49m\u001b[43m(\u001b[49m\u001b[43mdevice\u001b[49m\u001b[43m,\u001b[49m\u001b[43m \u001b[49m\u001b[43mdtype\u001b[49m\u001b[43m)\u001b[49m\n\u001b[1;32m    543\u001b[0m \u001b[38;5;28;01mif\u001b[39;00m (\n\u001b[1;32m    544\u001b[0m     module\u001b[38;5;241m.\u001b[39mdtype \u001b[38;5;241m==\u001b[39m torch\u001b[38;5;241m.\u001b[39mfloat16\n\u001b[1;32m    545\u001b[0m     \u001b[38;5;129;01mand\u001b[39;00m \u001b[38;5;28mstr\u001b[39m(device) \u001b[38;5;129;01min\u001b[39;00m [\u001b[38;5;124m\"\u001b[39m\u001b[38;5;124mcpu\u001b[39m\u001b[38;5;124m\"\u001b[39m]\n\u001b[1;32m    546\u001b[0m     \u001b[38;5;129;01mand\u001b[39;00m \u001b[38;5;129;01mnot\u001b[39;00m silence_dtype_warnings\n\u001b[1;32m    547\u001b[0m     \u001b[38;5;129;01mand\u001b[39;00m \u001b[38;5;129;01mnot\u001b[39;00m is_offloaded\n\u001b[1;32m    548\u001b[0m ):\n\u001b[1;32m    549\u001b[0m     logger\u001b[38;5;241m.\u001b[39mwarning(\n\u001b[1;32m    550\u001b[0m         \u001b[38;5;124m\"\u001b[39m\u001b[38;5;124mPipelines loaded with `dtype=torch.float16` cannot run with `cpu` device. It\u001b[39m\u001b[38;5;124m\"\u001b[39m\n\u001b[1;32m    551\u001b[0m         \u001b[38;5;124m\"\u001b[39m\u001b[38;5;124m is not recommended to move them to `cpu` as running them will fail. Please make\u001b[39m\u001b[38;5;124m\"\u001b[39m\n\u001b[0;32m   (...)\u001b[0m\n\u001b[1;32m    554\u001b[0m         \u001b[38;5;124m\"\u001b[39m\u001b[38;5;124m `torch_dtype=torch.float16` argument, or use another device for inference.\u001b[39m\u001b[38;5;124m\"\u001b[39m\n\u001b[1;32m    555\u001b[0m     )\n",
      "File \u001b[0;32m/usr/local/lib/python3.11/dist-packages/transformers/modeling_utils.py:4110\u001b[0m, in \u001b[0;36mPreTrainedModel.to\u001b[0;34m(self, *args, **kwargs)\u001b[0m\n\u001b[1;32m   4105\u001b[0m     \u001b[38;5;28;01mif\u001b[39;00m dtype_present_in_args:\n\u001b[1;32m   4106\u001b[0m         \u001b[38;5;28;01mraise\u001b[39;00m \u001b[38;5;167;01mValueError\u001b[39;00m(\n\u001b[1;32m   4107\u001b[0m             \u001b[38;5;124m\"\u001b[39m\u001b[38;5;124mYou cannot cast a GPTQ model in a new `dtype`. Make sure to load the model using `from_pretrained` using the desired\u001b[39m\u001b[38;5;124m\"\u001b[39m\n\u001b[1;32m   4108\u001b[0m             \u001b[38;5;124m\"\u001b[39m\u001b[38;5;124m `dtype` by passing the correct `torch_dtype` argument.\u001b[39m\u001b[38;5;124m\"\u001b[39m\n\u001b[1;32m   4109\u001b[0m         )\n\u001b[0;32m-> 4110\u001b[0m \u001b[38;5;28;01mreturn\u001b[39;00m \u001b[38;5;28;43msuper\u001b[39;49m\u001b[43m(\u001b[49m\u001b[43m)\u001b[49m\u001b[38;5;241;43m.\u001b[39;49m\u001b[43mto\u001b[49m\u001b[43m(\u001b[49m\u001b[38;5;241;43m*\u001b[39;49m\u001b[43margs\u001b[49m\u001b[43m,\u001b[49m\u001b[43m \u001b[49m\u001b[38;5;241;43m*\u001b[39;49m\u001b[38;5;241;43m*\u001b[39;49m\u001b[43mkwargs\u001b[49m\u001b[43m)\u001b[49m\n",
      "File \u001b[0;32m/usr/local/lib/python3.11/dist-packages/torch/nn/modules/module.py:1174\u001b[0m, in \u001b[0;36mModule.to\u001b[0;34m(self, *args, **kwargs)\u001b[0m\n\u001b[1;32m   1171\u001b[0m         \u001b[38;5;28;01melse\u001b[39;00m:\n\u001b[1;32m   1172\u001b[0m             \u001b[38;5;28;01mraise\u001b[39;00m\n\u001b[0;32m-> 1174\u001b[0m \u001b[38;5;28;01mreturn\u001b[39;00m \u001b[38;5;28;43mself\u001b[39;49m\u001b[38;5;241;43m.\u001b[39;49m\u001b[43m_apply\u001b[49m\u001b[43m(\u001b[49m\u001b[43mconvert\u001b[49m\u001b[43m)\u001b[49m\n",
      "File \u001b[0;32m/usr/local/lib/python3.11/dist-packages/torch/nn/modules/module.py:780\u001b[0m, in \u001b[0;36mModule._apply\u001b[0;34m(self, fn, recurse)\u001b[0m\n\u001b[1;32m    778\u001b[0m \u001b[38;5;28;01mif\u001b[39;00m recurse:\n\u001b[1;32m    779\u001b[0m     \u001b[38;5;28;01mfor\u001b[39;00m module \u001b[38;5;129;01min\u001b[39;00m \u001b[38;5;28mself\u001b[39m\u001b[38;5;241m.\u001b[39mchildren():\n\u001b[0;32m--> 780\u001b[0m         \u001b[43mmodule\u001b[49m\u001b[38;5;241;43m.\u001b[39;49m\u001b[43m_apply\u001b[49m\u001b[43m(\u001b[49m\u001b[43mfn\u001b[49m\u001b[43m)\u001b[49m\n\u001b[1;32m    782\u001b[0m \u001b[38;5;28;01mdef\u001b[39;00m \u001b[38;5;21mcompute_should_use_set_data\u001b[39m(tensor, tensor_applied):\n\u001b[1;32m    783\u001b[0m     \u001b[38;5;28;01mif\u001b[39;00m torch\u001b[38;5;241m.\u001b[39m_has_compatible_shallow_copy_type(tensor, tensor_applied):\n\u001b[1;32m    784\u001b[0m         \u001b[38;5;66;03m# If the new tensor has compatible tensor type as the existing tensor,\u001b[39;00m\n\u001b[1;32m    785\u001b[0m         \u001b[38;5;66;03m# the current behavior is to change the tensor in-place using `.data =`,\u001b[39;00m\n\u001b[0;32m   (...)\u001b[0m\n\u001b[1;32m    790\u001b[0m         \u001b[38;5;66;03m# global flag to let the user control whether they want the future\u001b[39;00m\n\u001b[1;32m    791\u001b[0m         \u001b[38;5;66;03m# behavior of overwriting the existing tensor or not.\u001b[39;00m\n",
      "File \u001b[0;32m/usr/local/lib/python3.11/dist-packages/torch/nn/modules/module.py:780\u001b[0m, in \u001b[0;36mModule._apply\u001b[0;34m(self, fn, recurse)\u001b[0m\n\u001b[1;32m    778\u001b[0m \u001b[38;5;28;01mif\u001b[39;00m recurse:\n\u001b[1;32m    779\u001b[0m     \u001b[38;5;28;01mfor\u001b[39;00m module \u001b[38;5;129;01min\u001b[39;00m \u001b[38;5;28mself\u001b[39m\u001b[38;5;241m.\u001b[39mchildren():\n\u001b[0;32m--> 780\u001b[0m         \u001b[43mmodule\u001b[49m\u001b[38;5;241;43m.\u001b[39;49m\u001b[43m_apply\u001b[49m\u001b[43m(\u001b[49m\u001b[43mfn\u001b[49m\u001b[43m)\u001b[49m\n\u001b[1;32m    782\u001b[0m \u001b[38;5;28;01mdef\u001b[39;00m \u001b[38;5;21mcompute_should_use_set_data\u001b[39m(tensor, tensor_applied):\n\u001b[1;32m    783\u001b[0m     \u001b[38;5;28;01mif\u001b[39;00m torch\u001b[38;5;241m.\u001b[39m_has_compatible_shallow_copy_type(tensor, tensor_applied):\n\u001b[1;32m    784\u001b[0m         \u001b[38;5;66;03m# If the new tensor has compatible tensor type as the existing tensor,\u001b[39;00m\n\u001b[1;32m    785\u001b[0m         \u001b[38;5;66;03m# the current behavior is to change the tensor in-place using `.data =`,\u001b[39;00m\n\u001b[0;32m   (...)\u001b[0m\n\u001b[1;32m    790\u001b[0m         \u001b[38;5;66;03m# global flag to let the user control whether they want the future\u001b[39;00m\n\u001b[1;32m    791\u001b[0m         \u001b[38;5;66;03m# behavior of overwriting the existing tensor or not.\u001b[39;00m\n",
      "    \u001b[0;31m[... skipping similar frames: Module._apply at line 780 (4 times)]\u001b[0m\n",
      "File \u001b[0;32m/usr/local/lib/python3.11/dist-packages/torch/nn/modules/module.py:780\u001b[0m, in \u001b[0;36mModule._apply\u001b[0;34m(self, fn, recurse)\u001b[0m\n\u001b[1;32m    778\u001b[0m \u001b[38;5;28;01mif\u001b[39;00m recurse:\n\u001b[1;32m    779\u001b[0m     \u001b[38;5;28;01mfor\u001b[39;00m module \u001b[38;5;129;01min\u001b[39;00m \u001b[38;5;28mself\u001b[39m\u001b[38;5;241m.\u001b[39mchildren():\n\u001b[0;32m--> 780\u001b[0m         \u001b[43mmodule\u001b[49m\u001b[38;5;241;43m.\u001b[39;49m\u001b[43m_apply\u001b[49m\u001b[43m(\u001b[49m\u001b[43mfn\u001b[49m\u001b[43m)\u001b[49m\n\u001b[1;32m    782\u001b[0m \u001b[38;5;28;01mdef\u001b[39;00m \u001b[38;5;21mcompute_should_use_set_data\u001b[39m(tensor, tensor_applied):\n\u001b[1;32m    783\u001b[0m     \u001b[38;5;28;01mif\u001b[39;00m torch\u001b[38;5;241m.\u001b[39m_has_compatible_shallow_copy_type(tensor, tensor_applied):\n\u001b[1;32m    784\u001b[0m         \u001b[38;5;66;03m# If the new tensor has compatible tensor type as the existing tensor,\u001b[39;00m\n\u001b[1;32m    785\u001b[0m         \u001b[38;5;66;03m# the current behavior is to change the tensor in-place using `.data =`,\u001b[39;00m\n\u001b[0;32m   (...)\u001b[0m\n\u001b[1;32m    790\u001b[0m         \u001b[38;5;66;03m# global flag to let the user control whether they want the future\u001b[39;00m\n\u001b[1;32m    791\u001b[0m         \u001b[38;5;66;03m# behavior of overwriting the existing tensor or not.\u001b[39;00m\n",
      "File \u001b[0;32m/usr/local/lib/python3.11/dist-packages/torch/nn/modules/module.py:805\u001b[0m, in \u001b[0;36mModule._apply\u001b[0;34m(self, fn, recurse)\u001b[0m\n\u001b[1;32m    801\u001b[0m \u001b[38;5;66;03m# Tensors stored in modules are graph leaves, and we don't want to\u001b[39;00m\n\u001b[1;32m    802\u001b[0m \u001b[38;5;66;03m# track autograd history of `param_applied`, so we have to use\u001b[39;00m\n\u001b[1;32m    803\u001b[0m \u001b[38;5;66;03m# `with torch.no_grad():`\u001b[39;00m\n\u001b[1;32m    804\u001b[0m \u001b[38;5;28;01mwith\u001b[39;00m torch\u001b[38;5;241m.\u001b[39mno_grad():\n\u001b[0;32m--> 805\u001b[0m     param_applied \u001b[38;5;241m=\u001b[39m \u001b[43mfn\u001b[49m\u001b[43m(\u001b[49m\u001b[43mparam\u001b[49m\u001b[43m)\u001b[49m\n\u001b[1;32m    806\u001b[0m p_should_use_set_data \u001b[38;5;241m=\u001b[39m compute_should_use_set_data(param, param_applied)\n\u001b[1;32m    808\u001b[0m \u001b[38;5;66;03m# subclasses may have multiple child tensors so we need to use swap_tensors\u001b[39;00m\n",
      "File \u001b[0;32m/usr/local/lib/python3.11/dist-packages/torch/nn/modules/module.py:1160\u001b[0m, in \u001b[0;36mModule.to.<locals>.convert\u001b[0;34m(t)\u001b[0m\n\u001b[1;32m   1153\u001b[0m     \u001b[38;5;28;01mif\u001b[39;00m convert_to_format \u001b[38;5;129;01mis\u001b[39;00m \u001b[38;5;129;01mnot\u001b[39;00m \u001b[38;5;28;01mNone\u001b[39;00m \u001b[38;5;129;01mand\u001b[39;00m t\u001b[38;5;241m.\u001b[39mdim() \u001b[38;5;129;01min\u001b[39;00m (\u001b[38;5;241m4\u001b[39m, \u001b[38;5;241m5\u001b[39m):\n\u001b[1;32m   1154\u001b[0m         \u001b[38;5;28;01mreturn\u001b[39;00m t\u001b[38;5;241m.\u001b[39mto(\n\u001b[1;32m   1155\u001b[0m             device,\n\u001b[1;32m   1156\u001b[0m             dtype \u001b[38;5;28;01mif\u001b[39;00m t\u001b[38;5;241m.\u001b[39mis_floating_point() \u001b[38;5;129;01mor\u001b[39;00m t\u001b[38;5;241m.\u001b[39mis_complex() \u001b[38;5;28;01melse\u001b[39;00m \u001b[38;5;28;01mNone\u001b[39;00m,\n\u001b[1;32m   1157\u001b[0m             non_blocking,\n\u001b[1;32m   1158\u001b[0m             memory_format\u001b[38;5;241m=\u001b[39mconvert_to_format,\n\u001b[1;32m   1159\u001b[0m         )\n\u001b[0;32m-> 1160\u001b[0m     \u001b[38;5;28;01mreturn\u001b[39;00m \u001b[43mt\u001b[49m\u001b[38;5;241;43m.\u001b[39;49m\u001b[43mto\u001b[49m\u001b[43m(\u001b[49m\n\u001b[1;32m   1161\u001b[0m \u001b[43m        \u001b[49m\u001b[43mdevice\u001b[49m\u001b[43m,\u001b[49m\n\u001b[1;32m   1162\u001b[0m \u001b[43m        \u001b[49m\u001b[43mdtype\u001b[49m\u001b[43m \u001b[49m\u001b[38;5;28;43;01mif\u001b[39;49;00m\u001b[43m \u001b[49m\u001b[43mt\u001b[49m\u001b[38;5;241;43m.\u001b[39;49m\u001b[43mis_floating_point\u001b[49m\u001b[43m(\u001b[49m\u001b[43m)\u001b[49m\u001b[43m \u001b[49m\u001b[38;5;129;43;01mor\u001b[39;49;00m\u001b[43m \u001b[49m\u001b[43mt\u001b[49m\u001b[38;5;241;43m.\u001b[39;49m\u001b[43mis_complex\u001b[49m\u001b[43m(\u001b[49m\u001b[43m)\u001b[49m\u001b[43m \u001b[49m\u001b[38;5;28;43;01melse\u001b[39;49;00m\u001b[43m \u001b[49m\u001b[38;5;28;43;01mNone\u001b[39;49;00m\u001b[43m,\u001b[49m\n\u001b[1;32m   1163\u001b[0m \u001b[43m        \u001b[49m\u001b[43mnon_blocking\u001b[49m\u001b[43m,\u001b[49m\n\u001b[1;32m   1164\u001b[0m \u001b[43m    \u001b[49m\u001b[43m)\u001b[49m\n\u001b[1;32m   1165\u001b[0m \u001b[38;5;28;01mexcept\u001b[39;00m \u001b[38;5;167;01mNotImplementedError\u001b[39;00m \u001b[38;5;28;01mas\u001b[39;00m e:\n\u001b[1;32m   1166\u001b[0m     \u001b[38;5;28;01mif\u001b[39;00m \u001b[38;5;28mstr\u001b[39m(e) \u001b[38;5;241m==\u001b[39m \u001b[38;5;124m\"\u001b[39m\u001b[38;5;124mCannot copy out of meta tensor; no data!\u001b[39m\u001b[38;5;124m\"\u001b[39m:\n",
      "\u001b[0;31mOutOfMemoryError\u001b[0m: CUDA out of memory. Tried to allocate 32.00 MiB. GPU 0 has a total capacity of 23.64 GiB of which 17.25 MiB is free. Process 3742379 has 16.95 GiB memory in use. Process 3753067 has 6.66 GiB memory in use. Of the allocated memory 6.10 GiB is allocated by PyTorch, and 125.16 MiB is reserved by PyTorch but unallocated. If reserved but unallocated memory is large try setting PYTORCH_CUDA_ALLOC_CONF=expandable_segments:True to avoid fragmentation.  See documentation for Memory Management  (https://pytorch.org/docs/stable/notes/cuda.html#environment-variables)"
     ]
    }
   ],
   "source": [
    "import torch\n",
    "import torch.nn.functional as F\n",
    "from accelerate import Accelerator\n",
    "from torch.utils.data import DataLoader\n",
    "from transformers import CLIPTokenizer\n",
    "from datasets import load_dataset\n",
    "from torchvision import transforms\n",
    "from PIL import Image\n",
    "\n",
    "# ───── CONFIG ─────\n",
    "MODEL_ID    = \"stabilityai/stable-diffusion-3-medium-diffusers\"\n",
    "TRAIN_JSON  = \"lora_dataset.json\"\n",
    "OUTPUT_DIR  = \"lora_sd3_panel\"\n",
    "BATCH_SIZE  = 4\n",
    "EPOCHS      = 3\n",
    "LR          = 1e-4\n",
    "WARMUP      = 0.03\n",
    "MAX_LEN     = 64\n",
    "SEED        = 42\n",
    "# ───────────────────\n",
    "\n",
    "torch.manual_seed(SEED)\n",
    "accelerator = Accelerator(mixed_precision=\"fp16\")\n",
    "device = accelerator.device\n",
    "\n",
    "# 1) Load SD3 pipeline just for VAE, scheduler & text_encoder\n",
    "from diffusers import StableDiffusion3Pipeline\n",
    "pipe = StableDiffusion3Pipeline.from_pretrained(\n",
    "    MODEL_ID, torch_dtype=torch.float16, use_auth_token=True\n",
    ").to(device)\n",
    "vae            = pipe.vae\n",
    "scheduler      = pipe.scheduler\n",
    "text_encoder   = pipe.text_encoder\n",
    "tokenizer      = CLIPTokenizer.from_pretrained(MODEL_ID, subfolder=\"tokenizer\", use_auth_token=True)\n",
    "\n",
    "# 2) Prepare DataLoader\n",
    "img_tf = transforms.Compose([\n",
    "    transforms.Resize((512,512), transforms.InterpolationMode.BILINEAR),\n",
    "    transforms.ToTensor(),\n",
    "    transforms.Normalize([0.5]*3, [0.5]*3),\n",
    "])\n",
    "ds = load_dataset(\"json\", data_files=TRAIN_JSON)[\"train\"]\n",
    "\n",
    "def preprocess(ex):\n",
    "    img = Image.open(ex[\"image\"]).convert(\"RGB\")\n",
    "    ex[\"pixel_values\"] = img_tf(img)\n",
    "    ex[\"input_ids\"]    = tokenizer(\n",
    "        ex[\"caption\"],\n",
    "        padding=\"max_length\", truncation=True, max_length=MAX_LEN,\n",
    "        return_tensors=\"pt\"\n",
    "    ).input_ids[0]\n",
    "    return ex\n",
    "\n",
    "ds = ds.map(preprocess, remove_columns=[\"image\",\"caption\"])\n",
    "ds.set_format(type=\"torch\", columns=[\"pixel_values\",\"input_ids\"])\n",
    "\n",
    "def collate_fn(batch):\n",
    "    return {\n",
    "        \"pixel_values\": torch.stack([b[\"pixel_values\"] for b in batch]),\n",
    "        \"input_ids\":    torch.stack([b[\"input_ids\"]    for b in batch]),\n",
    "    }\n",
    "\n",
    "loader = DataLoader(\n",
    "    ds, batch_size=BATCH_SIZE, shuffle=True,\n",
    "    collate_fn=collate_fn, num_workers=4, pin_memory=True\n",
    ")\n",
    "\n",
    "# 3) Optimizer & LR scheduler on LoRA weights only\n",
    "optimizer = torch.optim.AdamW(unet_lora.parameters(), lr=LR)\n",
    "total_steps = len(loader) * EPOCHS\n",
    "lr_scheduler = torch.optim.lr_scheduler.LinearLR(\n",
    "    optimizer, start_factor=WARMUP, total_iters=total_steps\n",
    ")\n",
    "\n",
    "# 4) Prepare for fp16 / multi‐GPU\n",
    "unet_lora, optimizer, loader, lr_scheduler = accelerator.prepare(\n",
    "    unet_lora, optimizer, loader, lr_scheduler\n",
    ")\n",
    "\n",
    "# 5) Training loop\n",
    "for epoch in range(1, EPOCHS+1):\n",
    "    unet_lora.train()\n",
    "    total_loss = 0.0\n",
    "\n",
    "    for batch in loader:\n",
    "        # a) encode → latents\n",
    "        pixel_values = batch[\"pixel_values\"].to(device)\n",
    "        input_ids    = batch[\"input_ids\"].to(device)\n",
    "\n",
    "        with torch.no_grad():\n",
    "            latents = vae.encode(pixel_values).latent_dist.sample() * vae.config.scaling_factor\n",
    "\n",
    "        # b) add noise\n",
    "        noise      = torch.randn_like(latents)\n",
    "        timesteps  = torch.randint(\n",
    "            0, scheduler.config.num_train_timesteps,\n",
    "            (latents.shape[0],), device=device\n",
    "        ).long()\n",
    "        noisy_latents = scheduler.add_noise(latents, noise, timesteps)\n",
    "\n",
    "        # c) text → embeddings\n",
    "        encoder_hidden_states = text_encoder(input_ids)[0]\n",
    "\n",
    "        # d) UNet forward → predict noise\n",
    "        noise_pred = unet_lora(\n",
    "            noisy_latents,\n",
    "            timesteps,\n",
    "            encoder_hidden_states=encoder_hidden_states\n",
    "        ).sample\n",
    "\n",
    "        # e) loss & backward\n",
    "        loss = F.mse_loss(noise_pred, noise)\n",
    "        accelerator.backward(loss)\n",
    "        optimizer.step()\n",
    "        lr_scheduler.step()\n",
    "        optimizer.zero_grad()\n",
    "\n",
    "        total_loss += loss.item()\n",
    "\n",
    "    avg = total_loss / len(loader)\n",
    "    print(f\"Epoch {epoch}/{EPOCHS} — avg loss: {avg:.4f}\")\n",
    "\n",
    "# 6) Save LoRA adapters\n",
    "import os\n",
    "os.makedirs(OUTPUT_DIR, exist_ok=True)\n",
    "unet_lora.save_pretrained(OUTPUT_DIR)\n",
    "print(\"✅ LoRA adapters saved to\", OUTPUT_DIR)\n"
   ]
  },
  {
   "cell_type": "code",
   "execution_count": null,
   "id": "5a6801fd-a985-49a1-9fbf-9b399ed80d47",
   "metadata": {},
   "outputs": [],
   "source": []
  }
 ],
 "metadata": {
  "kernelspec": {
   "display_name": "Python 3 (ipykernel)",
   "language": "python",
   "name": "python3"
  },
  "language_info": {
   "codemirror_mode": {
    "name": "ipython",
    "version": 3
   },
   "file_extension": ".py",
   "mimetype": "text/x-python",
   "name": "python",
   "nbconvert_exporter": "python",
   "pygments_lexer": "ipython3",
   "version": "3.11.10"
  }
 },
 "nbformat": 4,
 "nbformat_minor": 5
}
